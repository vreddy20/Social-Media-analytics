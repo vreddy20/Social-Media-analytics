{
  "cells": [
    {
      "cell_type": "code",
      "source": [
        "from google.colab import drive\n",
        "drive.mount('/gdrive')\n",
        "#Change current working directory to gdrive\n",
        "%cd /gdrive"
      ],
      "metadata": {
        "colab": {
          "base_uri": "https://localhost:8080/"
        },
        "id": "cW-tjDFmxjVL",
        "outputId": "12ec512e-5923-41e7-bfaa-b65cd6759ef4"
      },
      "id": "cW-tjDFmxjVL",
      "execution_count": 1,
      "outputs": [
        {
          "output_type": "stream",
          "name": "stdout",
          "text": [
            "Mounted at /gdrive\n",
            "/gdrive\n"
          ]
        }
      ]
    },
    {
      "cell_type": "code",
      "execution_count": 2,
      "id": "32e02434",
      "metadata": {
        "colab": {
          "base_uri": "https://localhost:8080/"
        },
        "id": "32e02434",
        "outputId": "ae3f5303-2f52-450c-ea1d-414dfc21fa21"
      },
      "outputs": [
        {
          "output_type": "stream",
          "name": "stdout",
          "text": [
            "Looking in indexes: https://pypi.org/simple, https://us-python.pkg.dev/colab-wheels/public/simple/\n",
            "Collecting pyLDAvis==3.4.0\n",
            "  Downloading pyLDAvis-3.4.0-py3-none-any.whl (2.6 MB)\n",
            "\u001b[2K     \u001b[90m━━━━━━━━━━━━━━━━━━━━━━━━━━━━━━━━━━━━━━━━\u001b[0m \u001b[32m2.6/2.6 MB\u001b[0m \u001b[31m18.3 MB/s\u001b[0m eta \u001b[36m0:00:00\u001b[0m\n",
            "\u001b[?25hCollecting funcy\n",
            "  Downloading funcy-2.0-py2.py3-none-any.whl (30 kB)\n",
            "Requirement already satisfied: joblib>=1.2.0 in /usr/local/lib/python3.10/dist-packages (from pyLDAvis==3.4.0) (1.2.0)\n",
            "Requirement already satisfied: gensim in /usr/local/lib/python3.10/dist-packages (from pyLDAvis==3.4.0) (4.3.1)\n",
            "Requirement already satisfied: numexpr in /usr/local/lib/python3.10/dist-packages (from pyLDAvis==3.4.0) (2.8.4)\n",
            "Requirement already satisfied: pandas>=1.3.4 in /usr/local/lib/python3.10/dist-packages (from pyLDAvis==3.4.0) (1.5.3)\n",
            "Requirement already satisfied: setuptools in /usr/local/lib/python3.10/dist-packages (from pyLDAvis==3.4.0) (67.7.2)\n",
            "Requirement already satisfied: scikit-learn>=1.0.0 in /usr/local/lib/python3.10/dist-packages (from pyLDAvis==3.4.0) (1.2.2)\n",
            "Requirement already satisfied: numpy>=1.22.0 in /usr/local/lib/python3.10/dist-packages (from pyLDAvis==3.4.0) (1.22.4)\n",
            "Requirement already satisfied: jinja2 in /usr/local/lib/python3.10/dist-packages (from pyLDAvis==3.4.0) (3.1.2)\n",
            "Requirement already satisfied: scipy in /usr/local/lib/python3.10/dist-packages (from pyLDAvis==3.4.0) (1.10.1)\n",
            "Requirement already satisfied: pytz>=2020.1 in /usr/local/lib/python3.10/dist-packages (from pandas>=1.3.4->pyLDAvis==3.4.0) (2022.7.1)\n",
            "Requirement already satisfied: python-dateutil>=2.8.1 in /usr/local/lib/python3.10/dist-packages (from pandas>=1.3.4->pyLDAvis==3.4.0) (2.8.2)\n",
            "Requirement already satisfied: threadpoolctl>=2.0.0 in /usr/local/lib/python3.10/dist-packages (from scikit-learn>=1.0.0->pyLDAvis==3.4.0) (3.1.0)\n",
            "Requirement already satisfied: smart-open>=1.8.1 in /usr/local/lib/python3.10/dist-packages (from gensim->pyLDAvis==3.4.0) (6.3.0)\n",
            "Requirement already satisfied: MarkupSafe>=2.0 in /usr/local/lib/python3.10/dist-packages (from jinja2->pyLDAvis==3.4.0) (2.1.2)\n",
            "Requirement already satisfied: six>=1.5 in /usr/local/lib/python3.10/dist-packages (from python-dateutil>=2.8.1->pandas>=1.3.4->pyLDAvis==3.4.0) (1.16.0)\n",
            "Installing collected packages: funcy, pyLDAvis\n",
            "Successfully installed funcy-2.0 pyLDAvis-3.4.0\n"
          ]
        }
      ],
      "source": [
        "!pip install pyLDAvis==3.4.0"
      ]
    },
    {
      "cell_type": "code",
      "source": [
        "!python -m spacy download en_core_web_lg"
      ],
      "metadata": {
        "colab": {
          "base_uri": "https://localhost:8080/"
        },
        "id": "TxuqfivN0QDk",
        "outputId": "3262bed1-f4a7-4674-c1d2-d66c94d91272"
      },
      "id": "TxuqfivN0QDk",
      "execution_count": 3,
      "outputs": [
        {
          "output_type": "stream",
          "name": "stdout",
          "text": [
            "2023-04-30 16:15:33.671785: I tensorflow/core/platform/cpu_feature_guard.cc:182] This TensorFlow binary is optimized to use available CPU instructions in performance-critical operations.\n",
            "To enable the following instructions: AVX2 FMA, in other operations, rebuild TensorFlow with the appropriate compiler flags.\n",
            "2023-04-30 16:15:35.706246: W tensorflow/compiler/tf2tensorrt/utils/py_utils.cc:38] TF-TRT Warning: Could not find TensorRT\n",
            "Looking in indexes: https://pypi.org/simple, https://us-python.pkg.dev/colab-wheels/public/simple/\n",
            "Collecting en-core-web-lg==3.5.0\n",
            "  Downloading https://github.com/explosion/spacy-models/releases/download/en_core_web_lg-3.5.0/en_core_web_lg-3.5.0-py3-none-any.whl (587.7 MB)\n",
            "\u001b[2K     \u001b[90m━━━━━━━━━━━━━━━━━━━━━━━━━━━━━━━━━━━━━━━\u001b[0m \u001b[32m587.7/587.7 MB\u001b[0m \u001b[31m2.4 MB/s\u001b[0m eta \u001b[36m0:00:00\u001b[0m\n",
            "\u001b[?25hRequirement already satisfied: spacy<3.6.0,>=3.5.0 in /usr/local/lib/python3.10/dist-packages (from en-core-web-lg==3.5.0) (3.5.2)\n",
            "Requirement already satisfied: langcodes<4.0.0,>=3.2.0 in /usr/local/lib/python3.10/dist-packages (from spacy<3.6.0,>=3.5.0->en-core-web-lg==3.5.0) (3.3.0)\n",
            "Requirement already satisfied: srsly<3.0.0,>=2.4.3 in /usr/local/lib/python3.10/dist-packages (from spacy<3.6.0,>=3.5.0->en-core-web-lg==3.5.0) (2.4.6)\n",
            "Requirement already satisfied: thinc<8.2.0,>=8.1.8 in /usr/local/lib/python3.10/dist-packages (from spacy<3.6.0,>=3.5.0->en-core-web-lg==3.5.0) (8.1.9)\n",
            "Requirement already satisfied: cymem<2.1.0,>=2.0.2 in /usr/local/lib/python3.10/dist-packages (from spacy<3.6.0,>=3.5.0->en-core-web-lg==3.5.0) (2.0.7)\n",
            "Requirement already satisfied: packaging>=20.0 in /usr/local/lib/python3.10/dist-packages (from spacy<3.6.0,>=3.5.0->en-core-web-lg==3.5.0) (23.1)\n",
            "Requirement already satisfied: preshed<3.1.0,>=3.0.2 in /usr/local/lib/python3.10/dist-packages (from spacy<3.6.0,>=3.5.0->en-core-web-lg==3.5.0) (3.0.8)\n",
            "Requirement already satisfied: smart-open<7.0.0,>=5.2.1 in /usr/local/lib/python3.10/dist-packages (from spacy<3.6.0,>=3.5.0->en-core-web-lg==3.5.0) (6.3.0)\n",
            "Requirement already satisfied: spacy-legacy<3.1.0,>=3.0.11 in /usr/local/lib/python3.10/dist-packages (from spacy<3.6.0,>=3.5.0->en-core-web-lg==3.5.0) (3.0.12)\n",
            "Requirement already satisfied: pathy>=0.10.0 in /usr/local/lib/python3.10/dist-packages (from spacy<3.6.0,>=3.5.0->en-core-web-lg==3.5.0) (0.10.1)\n",
            "Requirement already satisfied: catalogue<2.1.0,>=2.0.6 in /usr/local/lib/python3.10/dist-packages (from spacy<3.6.0,>=3.5.0->en-core-web-lg==3.5.0) (2.0.8)\n",
            "Requirement already satisfied: tqdm<5.0.0,>=4.38.0 in /usr/local/lib/python3.10/dist-packages (from spacy<3.6.0,>=3.5.0->en-core-web-lg==3.5.0) (4.65.0)\n",
            "Requirement already satisfied: murmurhash<1.1.0,>=0.28.0 in /usr/local/lib/python3.10/dist-packages (from spacy<3.6.0,>=3.5.0->en-core-web-lg==3.5.0) (1.0.9)\n",
            "Requirement already satisfied: requests<3.0.0,>=2.13.0 in /usr/local/lib/python3.10/dist-packages (from spacy<3.6.0,>=3.5.0->en-core-web-lg==3.5.0) (2.27.1)\n",
            "Requirement already satisfied: typer<0.8.0,>=0.3.0 in /usr/local/lib/python3.10/dist-packages (from spacy<3.6.0,>=3.5.0->en-core-web-lg==3.5.0) (0.7.0)\n",
            "Requirement already satisfied: wasabi<1.2.0,>=0.9.1 in /usr/local/lib/python3.10/dist-packages (from spacy<3.6.0,>=3.5.0->en-core-web-lg==3.5.0) (1.1.1)\n",
            "Requirement already satisfied: numpy>=1.15.0 in /usr/local/lib/python3.10/dist-packages (from spacy<3.6.0,>=3.5.0->en-core-web-lg==3.5.0) (1.22.4)\n",
            "Requirement already satisfied: jinja2 in /usr/local/lib/python3.10/dist-packages (from spacy<3.6.0,>=3.5.0->en-core-web-lg==3.5.0) (3.1.2)\n",
            "Requirement already satisfied: setuptools in /usr/local/lib/python3.10/dist-packages (from spacy<3.6.0,>=3.5.0->en-core-web-lg==3.5.0) (67.7.2)\n",
            "Requirement already satisfied: spacy-loggers<2.0.0,>=1.0.0 in /usr/local/lib/python3.10/dist-packages (from spacy<3.6.0,>=3.5.0->en-core-web-lg==3.5.0) (1.0.4)\n",
            "Requirement already satisfied: pydantic!=1.8,!=1.8.1,<1.11.0,>=1.7.4 in /usr/local/lib/python3.10/dist-packages (from spacy<3.6.0,>=3.5.0->en-core-web-lg==3.5.0) (1.10.7)\n",
            "Requirement already satisfied: typing-extensions>=4.2.0 in /usr/local/lib/python3.10/dist-packages (from pydantic!=1.8,!=1.8.1,<1.11.0,>=1.7.4->spacy<3.6.0,>=3.5.0->en-core-web-lg==3.5.0) (4.5.0)\n",
            "Requirement already satisfied: urllib3<1.27,>=1.21.1 in /usr/local/lib/python3.10/dist-packages (from requests<3.0.0,>=2.13.0->spacy<3.6.0,>=3.5.0->en-core-web-lg==3.5.0) (1.26.15)\n",
            "Requirement already satisfied: idna<4,>=2.5 in /usr/local/lib/python3.10/dist-packages (from requests<3.0.0,>=2.13.0->spacy<3.6.0,>=3.5.0->en-core-web-lg==3.5.0) (3.4)\n",
            "Requirement already satisfied: charset-normalizer~=2.0.0 in /usr/local/lib/python3.10/dist-packages (from requests<3.0.0,>=2.13.0->spacy<3.6.0,>=3.5.0->en-core-web-lg==3.5.0) (2.0.12)\n",
            "Requirement already satisfied: certifi>=2017.4.17 in /usr/local/lib/python3.10/dist-packages (from requests<3.0.0,>=2.13.0->spacy<3.6.0,>=3.5.0->en-core-web-lg==3.5.0) (2022.12.7)\n",
            "Requirement already satisfied: blis<0.8.0,>=0.7.8 in /usr/local/lib/python3.10/dist-packages (from thinc<8.2.0,>=8.1.8->spacy<3.6.0,>=3.5.0->en-core-web-lg==3.5.0) (0.7.9)\n",
            "Requirement already satisfied: confection<1.0.0,>=0.0.1 in /usr/local/lib/python3.10/dist-packages (from thinc<8.2.0,>=8.1.8->spacy<3.6.0,>=3.5.0->en-core-web-lg==3.5.0) (0.0.4)\n",
            "Requirement already satisfied: click<9.0.0,>=7.1.1 in /usr/local/lib/python3.10/dist-packages (from typer<0.8.0,>=0.3.0->spacy<3.6.0,>=3.5.0->en-core-web-lg==3.5.0) (8.1.3)\n",
            "Requirement already satisfied: MarkupSafe>=2.0 in /usr/local/lib/python3.10/dist-packages (from jinja2->spacy<3.6.0,>=3.5.0->en-core-web-lg==3.5.0) (2.1.2)\n",
            "Installing collected packages: en-core-web-lg\n",
            "Successfully installed en-core-web-lg-3.5.0\n",
            "\u001b[38;5;2m✔ Download and installation successful\u001b[0m\n",
            "You can now load the package via spacy.load('en_core_web_lg')\n"
          ]
        }
      ]
    },
    {
      "cell_type": "code",
      "execution_count": 4,
      "id": "3f8bf8b3",
      "metadata": {
        "colab": {
          "base_uri": "https://localhost:8080/"
        },
        "id": "3f8bf8b3",
        "outputId": "6166a85b-2c66-4a75-d20e-886cd81d3668"
      },
      "outputs": [
        {
          "output_type": "stream",
          "name": "stdout",
          "text": [
            "Looking in indexes: https://pypi.org/simple, https://us-python.pkg.dev/colab-wheels/public/simple/\n",
            "Collecting joblib==1.1.0\n",
            "  Downloading joblib-1.1.0-py2.py3-none-any.whl (306 kB)\n",
            "\u001b[2K     \u001b[90m━━━━━━━━━━━━━━━━━━━━━━━━━━━━━━━━━━━━━━━\u001b[0m \u001b[32m307.0/307.0 kB\u001b[0m \u001b[31m5.6 MB/s\u001b[0m eta \u001b[36m0:00:00\u001b[0m\n",
            "\u001b[?25hInstalling collected packages: joblib\n",
            "  Attempting uninstall: joblib\n",
            "    Found existing installation: joblib 1.2.0\n",
            "    Uninstalling joblib-1.2.0:\n",
            "      Successfully uninstalled joblib-1.2.0\n",
            "\u001b[31mERROR: pip's dependency resolver does not currently take into account all the packages that are installed. This behaviour is the source of the following dependency conflicts.\n",
            "scikit-learn 1.2.2 requires joblib>=1.1.1, but you have joblib 1.1.0 which is incompatible.\n",
            "pyldavis 3.4.0 requires joblib>=1.2.0, but you have joblib 1.1.0 which is incompatible.\n",
            "imbalanced-learn 0.10.1 requires joblib>=1.1.1, but you have joblib 1.1.0 which is incompatible.\u001b[0m\u001b[31m\n",
            "\u001b[0mSuccessfully installed joblib-1.1.0\n"
          ]
        }
      ],
      "source": [
        "!pip install joblib==1.1.0"
      ]
    },
    {
      "cell_type": "code",
      "execution_count": 5,
      "id": "a46fa000",
      "metadata": {
        "colab": {
          "base_uri": "https://localhost:8080/"
        },
        "id": "a46fa000",
        "outputId": "b7e7e8b9-5380-4dd0-f25f-464e233406da"
      },
      "outputs": [
        {
          "output_type": "stream",
          "name": "stdout",
          "text": [
            "Looking in indexes: https://pypi.org/simple, https://us-python.pkg.dev/colab-wheels/public/simple/\n",
            "Requirement already satisfied: scikit-learn in /usr/local/lib/python3.10/dist-packages (1.2.2)\n",
            "Requirement already satisfied: scipy>=1.3.2 in /usr/local/lib/python3.10/dist-packages (from scikit-learn) (1.10.1)\n",
            "Collecting joblib>=1.1.1\n",
            "  Downloading joblib-1.2.0-py3-none-any.whl (297 kB)\n",
            "\u001b[2K     \u001b[90m━━━━━━━━━━━━━━━━━━━━━━━━━━━━━━━━━━━━━━━\u001b[0m \u001b[32m298.0/298.0 kB\u001b[0m \u001b[31m6.4 MB/s\u001b[0m eta \u001b[36m0:00:00\u001b[0m\n",
            "\u001b[?25hRequirement already satisfied: numpy>=1.17.3 in /usr/local/lib/python3.10/dist-packages (from scikit-learn) (1.22.4)\n",
            "Requirement already satisfied: threadpoolctl>=2.0.0 in /usr/local/lib/python3.10/dist-packages (from scikit-learn) (3.1.0)\n",
            "Installing collected packages: joblib\n",
            "  Attempting uninstall: joblib\n",
            "    Found existing installation: joblib 1.1.0\n",
            "    Uninstalling joblib-1.1.0:\n",
            "      Successfully uninstalled joblib-1.1.0\n",
            "Successfully installed joblib-1.2.0\n"
          ]
        }
      ],
      "source": [
        "!pip install scikit-learn "
      ]
    },
    {
      "cell_type": "code",
      "execution_count": 6,
      "id": "1ef32e9c",
      "metadata": {
        "id": "1ef32e9c"
      },
      "outputs": [],
      "source": [
        "import os\n",
        "import pandas as pd\n",
        "import sklearn\n",
        "import pyLDAvis\n",
        "import pyLDAvis.lda_model\n",
        "from nltk.tokenize import RegexpTokenizer\n",
        "from sklearn.feature_extraction.text import TfidfVectorizer\n",
        "from sklearn.feature_extraction.text import CountVectorizer\n",
        "from sklearn.decomposition import LatentDirichletAllocation"
      ]
    },
    {
      "cell_type": "code",
      "execution_count": 7,
      "id": "1dfd51e9",
      "metadata": {
        "id": "1dfd51e9",
        "colab": {
          "base_uri": "https://localhost:8080/"
        },
        "outputId": "42287cad-7910-4a56-d0de-733f974b0693"
      },
      "outputs": [
        {
          "output_type": "stream",
          "name": "stderr",
          "text": [
            "/usr/local/lib/python3.10/dist-packages/ipykernel/ipkernel.py:283: DeprecationWarning: `should_run_async` will not call `transform_cell` automatically in the future. Please pass the result to `transformed_cell` argument and any exception that happen during thetransform in `preprocessing_exc_tuple` in IPython 7.17 and above.\n",
            "  and should_run_async(code)\n"
          ]
        }
      ],
      "source": [
        "file1 = pd.read_csv('/gdrive/My Drive/Balaji_dedupicate_comments.csv')\n",
        "file2 = pd.read_csv('/gdrive/My Drive/C_deduplicate_comments.csv')\n",
        "file3 = pd.read_csv('/gdrive/My Drive/Sai_deduplicate_comments.csv')\n",
        "file4 = pd.read_csv('/gdrive/My Drive/VR_deduplicate_comments.csv')"
      ]
    },
    {
      "cell_type": "code",
      "execution_count": 8,
      "id": "ed3b4eeb",
      "metadata": {
        "id": "ed3b4eeb",
        "colab": {
          "base_uri": "https://localhost:8080/"
        },
        "outputId": "964b32e8-8658-4563-d289-bdc3ef1f413e"
      },
      "outputs": [
        {
          "output_type": "stream",
          "name": "stderr",
          "text": [
            "/usr/local/lib/python3.10/dist-packages/ipykernel/ipkernel.py:283: DeprecationWarning: `should_run_async` will not call `transform_cell` automatically in the future. Please pass the result to `transformed_cell` argument and any exception that happen during thetransform in `preprocessing_exc_tuple` in IPython 7.17 and above.\n",
            "  and should_run_async(code)\n"
          ]
        }
      ],
      "source": [
        "df = pd.concat([file1, file2, file3, file4])"
      ]
    },
    {
      "cell_type": "code",
      "execution_count": 9,
      "id": "c5ab496c",
      "metadata": {
        "colab": {
          "base_uri": "https://localhost:8080/",
          "height": 714
        },
        "id": "c5ab496c",
        "outputId": "7d219fec-aae0-4f42-e3ed-21ef677dc43d"
      },
      "outputs": [
        {
          "output_type": "stream",
          "name": "stderr",
          "text": [
            "/usr/local/lib/python3.10/dist-packages/ipykernel/ipkernel.py:283: DeprecationWarning: `should_run_async` will not call `transform_cell` automatically in the future. Please pass the result to `transformed_cell` argument and any exception that happen during thetransform in `preprocessing_exc_tuple` in IPython 7.17 and above.\n",
            "  and should_run_async(code)\n"
          ]
        },
        {
          "output_type": "execute_result",
          "data": {
            "text/plain": [
              "      Unnamed: 0.1  Unnamed: 0 Comment ID                Author  \\\n",
              "0              0.0           0    jbufpp3             robbie-3x   \n",
              "1              1.0           1    jbutwtm      AbleBluebird7806   \n",
              "2              2.0           2    jbwqvz2            Jalal31091   \n",
              "3              3.0           3    jbww188              debugg3d   \n",
              "4              4.0           4    jbuio6q                1980ai   \n",
              "...            ...         ...        ...                   ...   \n",
              "3073           NaN        1055    jcd499t  Professional-Ad-6265   \n",
              "3074           NaN        1056    jcb89kp              Sendbeer   \n",
              "3075           NaN        1057    jca7aia               avipars   \n",
              "3076           NaN        1058    jca7bm5               B0tRank   \n",
              "3077           NaN        1059    jccwib9          idk-12345678   \n",
              "\n",
              "                Timestamp Comment is a reply to Comment Thread ID  \\\n",
              "0     2023-03-11 20:18:01            t3_11optmo           11optmo   \n",
              "1     2023-03-11 22:02:46            t3_11optmo           11optmo   \n",
              "2     2023-03-12 08:47:01            t3_11optmo           11optmo   \n",
              "3     2023-03-12 09:59:56            t3_11optmo           11optmo   \n",
              "4     2023-03-11 20:39:29            t1_jbufpp3           11optmo   \n",
              "...                   ...                   ...               ...   \n",
              "3073  2023-03-15 16:38:00            t1_jca79ab           11rkk1q   \n",
              "3074  2023-03-15 09:27:20            t1_jcaveyi           11rkk1q   \n",
              "3075  2023-03-15 05:07:00            t1_jca70jf           11rkk1q   \n",
              "3076  2023-03-15 05:07:17            t1_jca7aia           11rkk1q   \n",
              "3077  2023-03-15 15:43:53            t1_jca7bm5           11rkk1q   \n",
              "\n",
              "                                           Thread Title  \\\n",
              "0           Use phone as a mousepad to control s8tablet   \n",
              "1           Use phone as a mousepad to control s8tablet   \n",
              "2           Use phone as a mousepad to control s8tablet   \n",
              "3           Use phone as a mousepad to control s8tablet   \n",
              "4           Use phone as a mousepad to control s8tablet   \n",
              "...                                                 ...   \n",
              "3073  Those of you with in screen fingerprint scanne...   \n",
              "3074  Those of you with in screen fingerprint scanne...   \n",
              "3075  Those of you with in screen fingerprint scanne...   \n",
              "3076  Those of you with in screen fingerprint scanne...   \n",
              "3077  Those of you with in screen fingerprint scanne...   \n",
              "\n",
              "                                           Comment Body  \\\n",
              "0     There's a little square symbol on your phone's...   \n",
              "1     You can get app on playstore that uses Bluetoo...   \n",
              "2     I simply bought a Logitech Bluetooth mouse. Wo...   \n",
              "3     There's an app called Bluetooth, keyboard and ...   \n",
              "4     That's if you are using the phone with dex.  I...   \n",
              "...                                                 ...   \n",
              "3073                                                Yes   \n",
              "3074  Google trying hard to be apple and simplify th...   \n",
              "3075                                            Bad bot   \n",
              "3076  Thank you, avipars, for voting on exclaim_bot....   \n",
              "3077                                       very bad bot   \n",
              "\n",
              "                                      Comment Permalink  \n",
              "0     /r/GalaxyTab/comments/11optmo/use_phone_as_a_m...  \n",
              "1     /r/GalaxyTab/comments/11optmo/use_phone_as_a_m...  \n",
              "2     /r/GalaxyTab/comments/11optmo/use_phone_as_a_m...  \n",
              "3     /r/GalaxyTab/comments/11optmo/use_phone_as_a_m...  \n",
              "4     /r/GalaxyTab/comments/11optmo/use_phone_as_a_m...  \n",
              "...                                                 ...  \n",
              "3073  /r/samsung/comments/11rkk1q/those_of_you_with_...  \n",
              "3074  /r/samsung/comments/11rkk1q/those_of_you_with_...  \n",
              "3075  /r/samsung/comments/11rkk1q/those_of_you_with_...  \n",
              "3076  /r/samsung/comments/11rkk1q/those_of_you_with_...  \n",
              "3077  /r/samsung/comments/11rkk1q/those_of_you_with_...  \n",
              "\n",
              "[21416 rows x 10 columns]"
            ],
            "text/html": [
              "\n",
              "  <div id=\"df-ce9aa43f-1810-4b07-acc6-0be201527a71\">\n",
              "    <div class=\"colab-df-container\">\n",
              "      <div>\n",
              "<style scoped>\n",
              "    .dataframe tbody tr th:only-of-type {\n",
              "        vertical-align: middle;\n",
              "    }\n",
              "\n",
              "    .dataframe tbody tr th {\n",
              "        vertical-align: top;\n",
              "    }\n",
              "\n",
              "    .dataframe thead th {\n",
              "        text-align: right;\n",
              "    }\n",
              "</style>\n",
              "<table border=\"1\" class=\"dataframe\">\n",
              "  <thead>\n",
              "    <tr style=\"text-align: right;\">\n",
              "      <th></th>\n",
              "      <th>Unnamed: 0.1</th>\n",
              "      <th>Unnamed: 0</th>\n",
              "      <th>Comment ID</th>\n",
              "      <th>Author</th>\n",
              "      <th>Timestamp</th>\n",
              "      <th>Comment is a reply to</th>\n",
              "      <th>Comment Thread ID</th>\n",
              "      <th>Thread Title</th>\n",
              "      <th>Comment Body</th>\n",
              "      <th>Comment Permalink</th>\n",
              "    </tr>\n",
              "  </thead>\n",
              "  <tbody>\n",
              "    <tr>\n",
              "      <th>0</th>\n",
              "      <td>0.0</td>\n",
              "      <td>0</td>\n",
              "      <td>jbufpp3</td>\n",
              "      <td>robbie-3x</td>\n",
              "      <td>2023-03-11 20:18:01</td>\n",
              "      <td>t3_11optmo</td>\n",
              "      <td>11optmo</td>\n",
              "      <td>Use phone as a mousepad to control s8tablet</td>\n",
              "      <td>There's a little square symbol on your phone's...</td>\n",
              "      <td>/r/GalaxyTab/comments/11optmo/use_phone_as_a_m...</td>\n",
              "    </tr>\n",
              "    <tr>\n",
              "      <th>1</th>\n",
              "      <td>1.0</td>\n",
              "      <td>1</td>\n",
              "      <td>jbutwtm</td>\n",
              "      <td>AbleBluebird7806</td>\n",
              "      <td>2023-03-11 22:02:46</td>\n",
              "      <td>t3_11optmo</td>\n",
              "      <td>11optmo</td>\n",
              "      <td>Use phone as a mousepad to control s8tablet</td>\n",
              "      <td>You can get app on playstore that uses Bluetoo...</td>\n",
              "      <td>/r/GalaxyTab/comments/11optmo/use_phone_as_a_m...</td>\n",
              "    </tr>\n",
              "    <tr>\n",
              "      <th>2</th>\n",
              "      <td>2.0</td>\n",
              "      <td>2</td>\n",
              "      <td>jbwqvz2</td>\n",
              "      <td>Jalal31091</td>\n",
              "      <td>2023-03-12 08:47:01</td>\n",
              "      <td>t3_11optmo</td>\n",
              "      <td>11optmo</td>\n",
              "      <td>Use phone as a mousepad to control s8tablet</td>\n",
              "      <td>I simply bought a Logitech Bluetooth mouse. Wo...</td>\n",
              "      <td>/r/GalaxyTab/comments/11optmo/use_phone_as_a_m...</td>\n",
              "    </tr>\n",
              "    <tr>\n",
              "      <th>3</th>\n",
              "      <td>3.0</td>\n",
              "      <td>3</td>\n",
              "      <td>jbww188</td>\n",
              "      <td>debugg3d</td>\n",
              "      <td>2023-03-12 09:59:56</td>\n",
              "      <td>t3_11optmo</td>\n",
              "      <td>11optmo</td>\n",
              "      <td>Use phone as a mousepad to control s8tablet</td>\n",
              "      <td>There's an app called Bluetooth, keyboard and ...</td>\n",
              "      <td>/r/GalaxyTab/comments/11optmo/use_phone_as_a_m...</td>\n",
              "    </tr>\n",
              "    <tr>\n",
              "      <th>4</th>\n",
              "      <td>4.0</td>\n",
              "      <td>4</td>\n",
              "      <td>jbuio6q</td>\n",
              "      <td>1980ai</td>\n",
              "      <td>2023-03-11 20:39:29</td>\n",
              "      <td>t1_jbufpp3</td>\n",
              "      <td>11optmo</td>\n",
              "      <td>Use phone as a mousepad to control s8tablet</td>\n",
              "      <td>That's if you are using the phone with dex.  I...</td>\n",
              "      <td>/r/GalaxyTab/comments/11optmo/use_phone_as_a_m...</td>\n",
              "    </tr>\n",
              "    <tr>\n",
              "      <th>...</th>\n",
              "      <td>...</td>\n",
              "      <td>...</td>\n",
              "      <td>...</td>\n",
              "      <td>...</td>\n",
              "      <td>...</td>\n",
              "      <td>...</td>\n",
              "      <td>...</td>\n",
              "      <td>...</td>\n",
              "      <td>...</td>\n",
              "      <td>...</td>\n",
              "    </tr>\n",
              "    <tr>\n",
              "      <th>3073</th>\n",
              "      <td>NaN</td>\n",
              "      <td>1055</td>\n",
              "      <td>jcd499t</td>\n",
              "      <td>Professional-Ad-6265</td>\n",
              "      <td>2023-03-15 16:38:00</td>\n",
              "      <td>t1_jca79ab</td>\n",
              "      <td>11rkk1q</td>\n",
              "      <td>Those of you with in screen fingerprint scanne...</td>\n",
              "      <td>Yes</td>\n",
              "      <td>/r/samsung/comments/11rkk1q/those_of_you_with_...</td>\n",
              "    </tr>\n",
              "    <tr>\n",
              "      <th>3074</th>\n",
              "      <td>NaN</td>\n",
              "      <td>1056</td>\n",
              "      <td>jcb89kp</td>\n",
              "      <td>Sendbeer</td>\n",
              "      <td>2023-03-15 09:27:20</td>\n",
              "      <td>t1_jcaveyi</td>\n",
              "      <td>11rkk1q</td>\n",
              "      <td>Those of you with in screen fingerprint scanne...</td>\n",
              "      <td>Google trying hard to be apple and simplify th...</td>\n",
              "      <td>/r/samsung/comments/11rkk1q/those_of_you_with_...</td>\n",
              "    </tr>\n",
              "    <tr>\n",
              "      <th>3075</th>\n",
              "      <td>NaN</td>\n",
              "      <td>1057</td>\n",
              "      <td>jca7aia</td>\n",
              "      <td>avipars</td>\n",
              "      <td>2023-03-15 05:07:00</td>\n",
              "      <td>t1_jca70jf</td>\n",
              "      <td>11rkk1q</td>\n",
              "      <td>Those of you with in screen fingerprint scanne...</td>\n",
              "      <td>Bad bot</td>\n",
              "      <td>/r/samsung/comments/11rkk1q/those_of_you_with_...</td>\n",
              "    </tr>\n",
              "    <tr>\n",
              "      <th>3076</th>\n",
              "      <td>NaN</td>\n",
              "      <td>1058</td>\n",
              "      <td>jca7bm5</td>\n",
              "      <td>B0tRank</td>\n",
              "      <td>2023-03-15 05:07:17</td>\n",
              "      <td>t1_jca7aia</td>\n",
              "      <td>11rkk1q</td>\n",
              "      <td>Those of you with in screen fingerprint scanne...</td>\n",
              "      <td>Thank you, avipars, for voting on exclaim_bot....</td>\n",
              "      <td>/r/samsung/comments/11rkk1q/those_of_you_with_...</td>\n",
              "    </tr>\n",
              "    <tr>\n",
              "      <th>3077</th>\n",
              "      <td>NaN</td>\n",
              "      <td>1059</td>\n",
              "      <td>jccwib9</td>\n",
              "      <td>idk-12345678</td>\n",
              "      <td>2023-03-15 15:43:53</td>\n",
              "      <td>t1_jca7bm5</td>\n",
              "      <td>11rkk1q</td>\n",
              "      <td>Those of you with in screen fingerprint scanne...</td>\n",
              "      <td>very bad bot</td>\n",
              "      <td>/r/samsung/comments/11rkk1q/those_of_you_with_...</td>\n",
              "    </tr>\n",
              "  </tbody>\n",
              "</table>\n",
              "<p>21416 rows × 10 columns</p>\n",
              "</div>\n",
              "      <button class=\"colab-df-convert\" onclick=\"convertToInteractive('df-ce9aa43f-1810-4b07-acc6-0be201527a71')\"\n",
              "              title=\"Convert this dataframe to an interactive table.\"\n",
              "              style=\"display:none;\">\n",
              "        \n",
              "  <svg xmlns=\"http://www.w3.org/2000/svg\" height=\"24px\"viewBox=\"0 0 24 24\"\n",
              "       width=\"24px\">\n",
              "    <path d=\"M0 0h24v24H0V0z\" fill=\"none\"/>\n",
              "    <path d=\"M18.56 5.44l.94 2.06.94-2.06 2.06-.94-2.06-.94-.94-2.06-.94 2.06-2.06.94zm-11 1L8.5 8.5l.94-2.06 2.06-.94-2.06-.94L8.5 2.5l-.94 2.06-2.06.94zm10 10l.94 2.06.94-2.06 2.06-.94-2.06-.94-.94-2.06-.94 2.06-2.06.94z\"/><path d=\"M17.41 7.96l-1.37-1.37c-.4-.4-.92-.59-1.43-.59-.52 0-1.04.2-1.43.59L10.3 9.45l-7.72 7.72c-.78.78-.78 2.05 0 2.83L4 21.41c.39.39.9.59 1.41.59.51 0 1.02-.2 1.41-.59l7.78-7.78 2.81-2.81c.8-.78.8-2.07 0-2.86zM5.41 20L4 18.59l7.72-7.72 1.47 1.35L5.41 20z\"/>\n",
              "  </svg>\n",
              "      </button>\n",
              "      \n",
              "  <style>\n",
              "    .colab-df-container {\n",
              "      display:flex;\n",
              "      flex-wrap:wrap;\n",
              "      gap: 12px;\n",
              "    }\n",
              "\n",
              "    .colab-df-convert {\n",
              "      background-color: #E8F0FE;\n",
              "      border: none;\n",
              "      border-radius: 50%;\n",
              "      cursor: pointer;\n",
              "      display: none;\n",
              "      fill: #1967D2;\n",
              "      height: 32px;\n",
              "      padding: 0 0 0 0;\n",
              "      width: 32px;\n",
              "    }\n",
              "\n",
              "    .colab-df-convert:hover {\n",
              "      background-color: #E2EBFA;\n",
              "      box-shadow: 0px 1px 2px rgba(60, 64, 67, 0.3), 0px 1px 3px 1px rgba(60, 64, 67, 0.15);\n",
              "      fill: #174EA6;\n",
              "    }\n",
              "\n",
              "    [theme=dark] .colab-df-convert {\n",
              "      background-color: #3B4455;\n",
              "      fill: #D2E3FC;\n",
              "    }\n",
              "\n",
              "    [theme=dark] .colab-df-convert:hover {\n",
              "      background-color: #434B5C;\n",
              "      box-shadow: 0px 1px 3px 1px rgba(0, 0, 0, 0.15);\n",
              "      filter: drop-shadow(0px 1px 2px rgba(0, 0, 0, 0.3));\n",
              "      fill: #FFFFFF;\n",
              "    }\n",
              "  </style>\n",
              "\n",
              "      <script>\n",
              "        const buttonEl =\n",
              "          document.querySelector('#df-ce9aa43f-1810-4b07-acc6-0be201527a71 button.colab-df-convert');\n",
              "        buttonEl.style.display =\n",
              "          google.colab.kernel.accessAllowed ? 'block' : 'none';\n",
              "\n",
              "        async function convertToInteractive(key) {\n",
              "          const element = document.querySelector('#df-ce9aa43f-1810-4b07-acc6-0be201527a71');\n",
              "          const dataTable =\n",
              "            await google.colab.kernel.invokeFunction('convertToInteractive',\n",
              "                                                     [key], {});\n",
              "          if (!dataTable) return;\n",
              "\n",
              "          const docLinkHtml = 'Like what you see? Visit the ' +\n",
              "            '<a target=\"_blank\" href=https://colab.research.google.com/notebooks/data_table.ipynb>data table notebook</a>'\n",
              "            + ' to learn more about interactive tables.';\n",
              "          element.innerHTML = '';\n",
              "          dataTable['output_type'] = 'display_data';\n",
              "          await google.colab.output.renderOutput(dataTable, element);\n",
              "          const docLink = document.createElement('div');\n",
              "          docLink.innerHTML = docLinkHtml;\n",
              "          element.appendChild(docLink);\n",
              "        }\n",
              "      </script>\n",
              "    </div>\n",
              "  </div>\n",
              "  "
            ]
          },
          "metadata": {},
          "execution_count": 9
        }
      ],
      "source": [
        "df"
      ]
    },
    {
      "cell_type": "code",
      "execution_count": 10,
      "id": "f8ce128f",
      "metadata": {
        "colab": {
          "base_uri": "https://localhost:8080/",
          "height": 714
        },
        "id": "f8ce128f",
        "outputId": "e9ce27fb-7d4b-42e9-f8f4-c950c8022e5b"
      },
      "outputs": [
        {
          "output_type": "stream",
          "name": "stderr",
          "text": [
            "/usr/local/lib/python3.10/dist-packages/ipykernel/ipkernel.py:283: DeprecationWarning: `should_run_async` will not call `transform_cell` automatically in the future. Please pass the result to `transformed_cell` argument and any exception that happen during thetransform in `preprocessing_exc_tuple` in IPython 7.17 and above.\n",
            "  and should_run_async(code)\n"
          ]
        },
        {
          "output_type": "execute_result",
          "data": {
            "text/plain": [
              "      Unnamed: 0.1  Unnamed: 0 Comment ID            Author  \\\n",
              "0              0.0           0    jbufpp3         robbie-3x   \n",
              "1              1.0           1    jbutwtm  AbleBluebird7806   \n",
              "2              2.0           2    jbwqvz2        Jalal31091   \n",
              "3              3.0           3    jbww188          debugg3d   \n",
              "4              4.0           4    jbuio6q            1980ai   \n",
              "...            ...         ...        ...               ...   \n",
              "3071           NaN        1053    jca70jf       exclaim_bot   \n",
              "3072           NaN        1054    jca7ct8            Jozhie   \n",
              "3074           NaN        1056    jcb89kp          Sendbeer   \n",
              "3076           NaN        1058    jca7bm5           B0tRank   \n",
              "3077           NaN        1059    jccwib9      idk-12345678   \n",
              "\n",
              "                Timestamp Comment is a reply to Comment Thread ID  \\\n",
              "0     2023-03-11 20:18:01            t3_11optmo           11optmo   \n",
              "1     2023-03-11 22:02:46            t3_11optmo           11optmo   \n",
              "2     2023-03-12 08:47:01            t3_11optmo           11optmo   \n",
              "3     2023-03-12 09:59:56            t3_11optmo           11optmo   \n",
              "4     2023-03-11 20:39:29            t1_jbufpp3           11optmo   \n",
              "...                   ...                   ...               ...   \n",
              "3071  2023-03-15 05:04:20            t1_jca6zeg           11rkk1q   \n",
              "3072  2023-03-15 05:07:36            t1_jca79ab           11rkk1q   \n",
              "3074  2023-03-15 09:27:20            t1_jcaveyi           11rkk1q   \n",
              "3076  2023-03-15 05:07:17            t1_jca7aia           11rkk1q   \n",
              "3077  2023-03-15 15:43:53            t1_jca7bm5           11rkk1q   \n",
              "\n",
              "                                           Thread Title  \\\n",
              "0           Use phone as a mousepad to control s8tablet   \n",
              "1           Use phone as a mousepad to control s8tablet   \n",
              "2           Use phone as a mousepad to control s8tablet   \n",
              "3           Use phone as a mousepad to control s8tablet   \n",
              "4           Use phone as a mousepad to control s8tablet   \n",
              "...                                                 ...   \n",
              "3071  Those of you with in screen fingerprint scanne...   \n",
              "3072  Those of you with in screen fingerprint scanne...   \n",
              "3074  Those of you with in screen fingerprint scanne...   \n",
              "3076  Those of you with in screen fingerprint scanne...   \n",
              "3077  Those of you with in screen fingerprint scanne...   \n",
              "\n",
              "                                           Comment Body  \\\n",
              "0     There's a little square symbol on your phone's...   \n",
              "1     You can get app on playstore that uses Bluetoo...   \n",
              "2     I simply bought a Logitech Bluetooth mouse. Wo...   \n",
              "3     There's an app called Bluetooth, keyboard and ...   \n",
              "4     That's if you are using the phone with dex.  I...   \n",
              "...                                                 ...   \n",
              "3071                        >Thanks!\\n\\nYou're welcome!   \n",
              "3072                     Very easy and straightforward.   \n",
              "3074  Google trying hard to be apple and simplify th...   \n",
              "3076  Thank you, avipars, for voting on exclaim_bot....   \n",
              "3077                                       very bad bot   \n",
              "\n",
              "                                      Comment Permalink  \n",
              "0     /r/GalaxyTab/comments/11optmo/use_phone_as_a_m...  \n",
              "1     /r/GalaxyTab/comments/11optmo/use_phone_as_a_m...  \n",
              "2     /r/GalaxyTab/comments/11optmo/use_phone_as_a_m...  \n",
              "3     /r/GalaxyTab/comments/11optmo/use_phone_as_a_m...  \n",
              "4     /r/GalaxyTab/comments/11optmo/use_phone_as_a_m...  \n",
              "...                                                 ...  \n",
              "3071  /r/samsung/comments/11rkk1q/those_of_you_with_...  \n",
              "3072  /r/samsung/comments/11rkk1q/those_of_you_with_...  \n",
              "3074  /r/samsung/comments/11rkk1q/those_of_you_with_...  \n",
              "3076  /r/samsung/comments/11rkk1q/those_of_you_with_...  \n",
              "3077  /r/samsung/comments/11rkk1q/those_of_you_with_...  \n",
              "\n",
              "[20924 rows x 10 columns]"
            ],
            "text/html": [
              "\n",
              "  <div id=\"df-dc47c169-0c58-493d-bcee-4c4505852ce7\">\n",
              "    <div class=\"colab-df-container\">\n",
              "      <div>\n",
              "<style scoped>\n",
              "    .dataframe tbody tr th:only-of-type {\n",
              "        vertical-align: middle;\n",
              "    }\n",
              "\n",
              "    .dataframe tbody tr th {\n",
              "        vertical-align: top;\n",
              "    }\n",
              "\n",
              "    .dataframe thead th {\n",
              "        text-align: right;\n",
              "    }\n",
              "</style>\n",
              "<table border=\"1\" class=\"dataframe\">\n",
              "  <thead>\n",
              "    <tr style=\"text-align: right;\">\n",
              "      <th></th>\n",
              "      <th>Unnamed: 0.1</th>\n",
              "      <th>Unnamed: 0</th>\n",
              "      <th>Comment ID</th>\n",
              "      <th>Author</th>\n",
              "      <th>Timestamp</th>\n",
              "      <th>Comment is a reply to</th>\n",
              "      <th>Comment Thread ID</th>\n",
              "      <th>Thread Title</th>\n",
              "      <th>Comment Body</th>\n",
              "      <th>Comment Permalink</th>\n",
              "    </tr>\n",
              "  </thead>\n",
              "  <tbody>\n",
              "    <tr>\n",
              "      <th>0</th>\n",
              "      <td>0.0</td>\n",
              "      <td>0</td>\n",
              "      <td>jbufpp3</td>\n",
              "      <td>robbie-3x</td>\n",
              "      <td>2023-03-11 20:18:01</td>\n",
              "      <td>t3_11optmo</td>\n",
              "      <td>11optmo</td>\n",
              "      <td>Use phone as a mousepad to control s8tablet</td>\n",
              "      <td>There's a little square symbol on your phone's...</td>\n",
              "      <td>/r/GalaxyTab/comments/11optmo/use_phone_as_a_m...</td>\n",
              "    </tr>\n",
              "    <tr>\n",
              "      <th>1</th>\n",
              "      <td>1.0</td>\n",
              "      <td>1</td>\n",
              "      <td>jbutwtm</td>\n",
              "      <td>AbleBluebird7806</td>\n",
              "      <td>2023-03-11 22:02:46</td>\n",
              "      <td>t3_11optmo</td>\n",
              "      <td>11optmo</td>\n",
              "      <td>Use phone as a mousepad to control s8tablet</td>\n",
              "      <td>You can get app on playstore that uses Bluetoo...</td>\n",
              "      <td>/r/GalaxyTab/comments/11optmo/use_phone_as_a_m...</td>\n",
              "    </tr>\n",
              "    <tr>\n",
              "      <th>2</th>\n",
              "      <td>2.0</td>\n",
              "      <td>2</td>\n",
              "      <td>jbwqvz2</td>\n",
              "      <td>Jalal31091</td>\n",
              "      <td>2023-03-12 08:47:01</td>\n",
              "      <td>t3_11optmo</td>\n",
              "      <td>11optmo</td>\n",
              "      <td>Use phone as a mousepad to control s8tablet</td>\n",
              "      <td>I simply bought a Logitech Bluetooth mouse. Wo...</td>\n",
              "      <td>/r/GalaxyTab/comments/11optmo/use_phone_as_a_m...</td>\n",
              "    </tr>\n",
              "    <tr>\n",
              "      <th>3</th>\n",
              "      <td>3.0</td>\n",
              "      <td>3</td>\n",
              "      <td>jbww188</td>\n",
              "      <td>debugg3d</td>\n",
              "      <td>2023-03-12 09:59:56</td>\n",
              "      <td>t3_11optmo</td>\n",
              "      <td>11optmo</td>\n",
              "      <td>Use phone as a mousepad to control s8tablet</td>\n",
              "      <td>There's an app called Bluetooth, keyboard and ...</td>\n",
              "      <td>/r/GalaxyTab/comments/11optmo/use_phone_as_a_m...</td>\n",
              "    </tr>\n",
              "    <tr>\n",
              "      <th>4</th>\n",
              "      <td>4.0</td>\n",
              "      <td>4</td>\n",
              "      <td>jbuio6q</td>\n",
              "      <td>1980ai</td>\n",
              "      <td>2023-03-11 20:39:29</td>\n",
              "      <td>t1_jbufpp3</td>\n",
              "      <td>11optmo</td>\n",
              "      <td>Use phone as a mousepad to control s8tablet</td>\n",
              "      <td>That's if you are using the phone with dex.  I...</td>\n",
              "      <td>/r/GalaxyTab/comments/11optmo/use_phone_as_a_m...</td>\n",
              "    </tr>\n",
              "    <tr>\n",
              "      <th>...</th>\n",
              "      <td>...</td>\n",
              "      <td>...</td>\n",
              "      <td>...</td>\n",
              "      <td>...</td>\n",
              "      <td>...</td>\n",
              "      <td>...</td>\n",
              "      <td>...</td>\n",
              "      <td>...</td>\n",
              "      <td>...</td>\n",
              "      <td>...</td>\n",
              "    </tr>\n",
              "    <tr>\n",
              "      <th>3071</th>\n",
              "      <td>NaN</td>\n",
              "      <td>1053</td>\n",
              "      <td>jca70jf</td>\n",
              "      <td>exclaim_bot</td>\n",
              "      <td>2023-03-15 05:04:20</td>\n",
              "      <td>t1_jca6zeg</td>\n",
              "      <td>11rkk1q</td>\n",
              "      <td>Those of you with in screen fingerprint scanne...</td>\n",
              "      <td>&gt;Thanks!\\n\\nYou're welcome!</td>\n",
              "      <td>/r/samsung/comments/11rkk1q/those_of_you_with_...</td>\n",
              "    </tr>\n",
              "    <tr>\n",
              "      <th>3072</th>\n",
              "      <td>NaN</td>\n",
              "      <td>1054</td>\n",
              "      <td>jca7ct8</td>\n",
              "      <td>Jozhie</td>\n",
              "      <td>2023-03-15 05:07:36</td>\n",
              "      <td>t1_jca79ab</td>\n",
              "      <td>11rkk1q</td>\n",
              "      <td>Those of you with in screen fingerprint scanne...</td>\n",
              "      <td>Very easy and straightforward.</td>\n",
              "      <td>/r/samsung/comments/11rkk1q/those_of_you_with_...</td>\n",
              "    </tr>\n",
              "    <tr>\n",
              "      <th>3074</th>\n",
              "      <td>NaN</td>\n",
              "      <td>1056</td>\n",
              "      <td>jcb89kp</td>\n",
              "      <td>Sendbeer</td>\n",
              "      <td>2023-03-15 09:27:20</td>\n",
              "      <td>t1_jcaveyi</td>\n",
              "      <td>11rkk1q</td>\n",
              "      <td>Those of you with in screen fingerprint scanne...</td>\n",
              "      <td>Google trying hard to be apple and simplify th...</td>\n",
              "      <td>/r/samsung/comments/11rkk1q/those_of_you_with_...</td>\n",
              "    </tr>\n",
              "    <tr>\n",
              "      <th>3076</th>\n",
              "      <td>NaN</td>\n",
              "      <td>1058</td>\n",
              "      <td>jca7bm5</td>\n",
              "      <td>B0tRank</td>\n",
              "      <td>2023-03-15 05:07:17</td>\n",
              "      <td>t1_jca7aia</td>\n",
              "      <td>11rkk1q</td>\n",
              "      <td>Those of you with in screen fingerprint scanne...</td>\n",
              "      <td>Thank you, avipars, for voting on exclaim_bot....</td>\n",
              "      <td>/r/samsung/comments/11rkk1q/those_of_you_with_...</td>\n",
              "    </tr>\n",
              "    <tr>\n",
              "      <th>3077</th>\n",
              "      <td>NaN</td>\n",
              "      <td>1059</td>\n",
              "      <td>jccwib9</td>\n",
              "      <td>idk-12345678</td>\n",
              "      <td>2023-03-15 15:43:53</td>\n",
              "      <td>t1_jca7bm5</td>\n",
              "      <td>11rkk1q</td>\n",
              "      <td>Those of you with in screen fingerprint scanne...</td>\n",
              "      <td>very bad bot</td>\n",
              "      <td>/r/samsung/comments/11rkk1q/those_of_you_with_...</td>\n",
              "    </tr>\n",
              "  </tbody>\n",
              "</table>\n",
              "<p>20924 rows × 10 columns</p>\n",
              "</div>\n",
              "      <button class=\"colab-df-convert\" onclick=\"convertToInteractive('df-dc47c169-0c58-493d-bcee-4c4505852ce7')\"\n",
              "              title=\"Convert this dataframe to an interactive table.\"\n",
              "              style=\"display:none;\">\n",
              "        \n",
              "  <svg xmlns=\"http://www.w3.org/2000/svg\" height=\"24px\"viewBox=\"0 0 24 24\"\n",
              "       width=\"24px\">\n",
              "    <path d=\"M0 0h24v24H0V0z\" fill=\"none\"/>\n",
              "    <path d=\"M18.56 5.44l.94 2.06.94-2.06 2.06-.94-2.06-.94-.94-2.06-.94 2.06-2.06.94zm-11 1L8.5 8.5l.94-2.06 2.06-.94-2.06-.94L8.5 2.5l-.94 2.06-2.06.94zm10 10l.94 2.06.94-2.06 2.06-.94-2.06-.94-.94-2.06-.94 2.06-2.06.94z\"/><path d=\"M17.41 7.96l-1.37-1.37c-.4-.4-.92-.59-1.43-.59-.52 0-1.04.2-1.43.59L10.3 9.45l-7.72 7.72c-.78.78-.78 2.05 0 2.83L4 21.41c.39.39.9.59 1.41.59.51 0 1.02-.2 1.41-.59l7.78-7.78 2.81-2.81c.8-.78.8-2.07 0-2.86zM5.41 20L4 18.59l7.72-7.72 1.47 1.35L5.41 20z\"/>\n",
              "  </svg>\n",
              "      </button>\n",
              "      \n",
              "  <style>\n",
              "    .colab-df-container {\n",
              "      display:flex;\n",
              "      flex-wrap:wrap;\n",
              "      gap: 12px;\n",
              "    }\n",
              "\n",
              "    .colab-df-convert {\n",
              "      background-color: #E8F0FE;\n",
              "      border: none;\n",
              "      border-radius: 50%;\n",
              "      cursor: pointer;\n",
              "      display: none;\n",
              "      fill: #1967D2;\n",
              "      height: 32px;\n",
              "      padding: 0 0 0 0;\n",
              "      width: 32px;\n",
              "    }\n",
              "\n",
              "    .colab-df-convert:hover {\n",
              "      background-color: #E2EBFA;\n",
              "      box-shadow: 0px 1px 2px rgba(60, 64, 67, 0.3), 0px 1px 3px 1px rgba(60, 64, 67, 0.15);\n",
              "      fill: #174EA6;\n",
              "    }\n",
              "\n",
              "    [theme=dark] .colab-df-convert {\n",
              "      background-color: #3B4455;\n",
              "      fill: #D2E3FC;\n",
              "    }\n",
              "\n",
              "    [theme=dark] .colab-df-convert:hover {\n",
              "      background-color: #434B5C;\n",
              "      box-shadow: 0px 1px 3px 1px rgba(0, 0, 0, 0.15);\n",
              "      filter: drop-shadow(0px 1px 2px rgba(0, 0, 0, 0.3));\n",
              "      fill: #FFFFFF;\n",
              "    }\n",
              "  </style>\n",
              "\n",
              "      <script>\n",
              "        const buttonEl =\n",
              "          document.querySelector('#df-dc47c169-0c58-493d-bcee-4c4505852ce7 button.colab-df-convert');\n",
              "        buttonEl.style.display =\n",
              "          google.colab.kernel.accessAllowed ? 'block' : 'none';\n",
              "\n",
              "        async function convertToInteractive(key) {\n",
              "          const element = document.querySelector('#df-dc47c169-0c58-493d-bcee-4c4505852ce7');\n",
              "          const dataTable =\n",
              "            await google.colab.kernel.invokeFunction('convertToInteractive',\n",
              "                                                     [key], {});\n",
              "          if (!dataTable) return;\n",
              "\n",
              "          const docLinkHtml = 'Like what you see? Visit the ' +\n",
              "            '<a target=\"_blank\" href=https://colab.research.google.com/notebooks/data_table.ipynb>data table notebook</a>'\n",
              "            + ' to learn more about interactive tables.';\n",
              "          element.innerHTML = '';\n",
              "          dataTable['output_type'] = 'display_data';\n",
              "          await google.colab.output.renderOutput(dataTable, element);\n",
              "          const docLink = document.createElement('div');\n",
              "          docLink.innerHTML = docLinkHtml;\n",
              "          element.appendChild(docLink);\n",
              "        }\n",
              "      </script>\n",
              "    </div>\n",
              "  </div>\n",
              "  "
            ]
          },
          "metadata": {},
          "execution_count": 10
        }
      ],
      "source": [
        "df.drop_duplicates(subset=['Comment Body'])"
      ]
    },
    {
      "cell_type": "code",
      "execution_count": 11,
      "id": "422bd33d",
      "metadata": {
        "id": "422bd33d",
        "colab": {
          "base_uri": "https://localhost:8080/"
        },
        "outputId": "8a6ca865-6fb7-45f9-90cd-0622fbd17f5a"
      },
      "outputs": [
        {
          "output_type": "stream",
          "name": "stderr",
          "text": [
            "/usr/local/lib/python3.10/dist-packages/ipykernel/ipkernel.py:283: DeprecationWarning: `should_run_async` will not call `transform_cell` automatically in the future. Please pass the result to `transformed_cell` argument and any exception that happen during thetransform in `preprocessing_exc_tuple` in IPython 7.17 and above.\n",
            "  and should_run_async(code)\n"
          ]
        }
      ],
      "source": [
        "export_csv = df.to_csv('/gdrive/My Drive/FinalCommentsfile.csv')"
      ]
    },
    {
      "cell_type": "code",
      "execution_count": 12,
      "id": "c2b43cae",
      "metadata": {
        "colab": {
          "base_uri": "https://localhost:8080/"
        },
        "id": "c2b43cae",
        "outputId": "7b3aedde-7782-43a4-8e4f-b17839af1fd2"
      },
      "outputs": [
        {
          "output_type": "stream",
          "name": "stderr",
          "text": [
            "/usr/local/lib/python3.10/dist-packages/ipykernel/ipkernel.py:283: DeprecationWarning: `should_run_async` will not call `transform_cell` automatically in the future. Please pass the result to `transformed_cell` argument and any exception that happen during thetransform in `preprocessing_exc_tuple` in IPython 7.17 and above.\n",
            "  and should_run_async(code)\n"
          ]
        }
      ],
      "source": [
        "import spacy #load spacy\n",
        "nlp = spacy.load(\"en_core_web_lg\")\n",
        "\n",
        "def normalize(review, lowercase, remove_stopwords):\n",
        "    if lowercase:\n",
        "        review = review.lower()\n",
        "    doc = nlp(review)\n",
        "    lemmatized = list()\n",
        "    for token in doc:\n",
        "        if not remove_stopwords or (remove_stopwords and not token.is_stop):\n",
        "            lemmatized.append(token.lemma_)\n",
        "    return \" \".join(lemmatized)\n",
        "\n",
        "df['Comment Body'] = df['Comment Body'].fillna('')\n",
        "\n",
        "df['processed'] = df['Comment Body'].apply(normalize, lowercase=True, remove_stopwords=True)"
      ]
    },
    {
      "cell_type": "code",
      "execution_count": 13,
      "id": "f85b0885",
      "metadata": {
        "colab": {
          "base_uri": "https://localhost:8080/"
        },
        "id": "f85b0885",
        "outputId": "c3a163bd-64df-4e02-cbf1-aa144ae2a057"
      },
      "outputs": [
        {
          "output_type": "stream",
          "name": "stderr",
          "text": [
            "/usr/local/lib/python3.10/dist-packages/ipykernel/ipkernel.py:283: DeprecationWarning: `should_run_async` will not call `transform_cell` automatically in the future. Please pass the result to `transformed_cell` argument and any exception that happen during thetransform in `preprocessing_exc_tuple` in IPython 7.17 and above.\n",
            "  and should_run_async(code)\n",
            "/usr/local/lib/python3.10/dist-packages/sklearn/feature_extraction/text.py:528: UserWarning: The parameter 'token_pattern' will not be used since 'tokenizer' is not None'\n",
            "  warnings.warn(\n"
          ]
        },
        {
          "output_type": "execute_result",
          "data": {
            "text/plain": [
              "<21416x23162 sparse matrix of type '<class 'numpy.int64'>'\n",
              "\twith 395466 stored elements in Compressed Sparse Row format>"
            ]
          },
          "metadata": {},
          "execution_count": 13
        }
      ],
      "source": [
        "# Initialize regex tokenizer\n",
        "tokenizer = RegexpTokenizer(r'\\w+')\n",
        "\n",
        "# Vectorize document \n",
        "cv = CountVectorizer(lowercase=True,\n",
        "                        stop_words= None,\n",
        "                        ngram_range = (1,2),\n",
        "                        tokenizer = tokenizer.tokenize, max_df= 0.95, min_df= 0.0001)\n",
        "\n",
        "# Fit and Transform the documents\n",
        "train_data = cv.fit_transform(df['processed']) \n",
        "train_data"
      ]
    },
    {
      "cell_type": "code",
      "execution_count": 14,
      "id": "75191e9e",
      "metadata": {
        "id": "75191e9e",
        "colab": {
          "base_uri": "https://localhost:8080/"
        },
        "outputId": "f6117160-eda9-4910-8a4b-0d00666a4b5b"
      },
      "outputs": [
        {
          "output_type": "stream",
          "name": "stderr",
          "text": [
            "/usr/local/lib/python3.10/dist-packages/ipykernel/ipkernel.py:283: DeprecationWarning: `should_run_async` will not call `transform_cell` automatically in the future. Please pass the result to `transformed_cell` argument and any exception that happen during thetransform in `preprocessing_exc_tuple` in IPython 7.17 and above.\n",
            "  and should_run_async(code)\n"
          ]
        }
      ],
      "source": [
        "import matplotlib.pyplot as plt\n",
        "import matplotlib.mlab as mlab\n",
        "import seaborn as sb\n",
        "import numpy as np"
      ]
    },
    {
      "cell_type": "code",
      "execution_count": 15,
      "id": "360c555c",
      "metadata": {
        "id": "360c555c",
        "colab": {
          "base_uri": "https://localhost:8080/"
        },
        "outputId": "da3eb5ca-5b28-4184-d4b3-d9ef3e3b0c5b"
      },
      "outputs": [
        {
          "output_type": "stream",
          "name": "stderr",
          "text": [
            "/usr/local/lib/python3.10/dist-packages/ipykernel/ipkernel.py:283: DeprecationWarning: `should_run_async` will not call `transform_cell` automatically in the future. Please pass the result to `transformed_cell` argument and any exception that happen during thetransform in `preprocessing_exc_tuple` in IPython 7.17 and above.\n",
            "  and should_run_async(code)\n"
          ]
        }
      ],
      "source": [
        "# Define helper functions\n",
        "def get_top_n_words(n_top_words, count_vectorizer, text_data):\n",
        "    '''\n",
        "    returns a tuple of the top n words in a sample and their \n",
        "    accompanying counts, given a CountVectorizer object and text sample\n",
        "    '''\n",
        "    vectorized_headlines = count_vectorizer.fit_transform(text_data.values)\n",
        "    vectorized_total = np.sum(vectorized_headlines, axis=0)\n",
        "    word_indices = np.flip(np.argsort(vectorized_total)[0,:], 1)\n",
        "    word_values = np.flip(np.sort(vectorized_total)[0,:],1)\n",
        "    \n",
        "    word_vectors = np.zeros((n_top_words, vectorized_headlines.shape[1]))\n",
        "    for i in range(n_top_words):\n",
        "        word_vectors[i,word_indices[0,i]] = 1\n",
        "\n",
        "    words = [word[0].encode('ascii').decode('utf-8') for \n",
        "             word in count_vectorizer.inverse_transform(word_vectors)]\n",
        "\n",
        "    return (words, word_values[0,:n_top_words].tolist()[0])"
      ]
    },
    {
      "cell_type": "code",
      "execution_count": 16,
      "id": "4edd2f1d",
      "metadata": {
        "colab": {
          "base_uri": "https://localhost:8080/",
          "height": 859
        },
        "id": "4edd2f1d",
        "outputId": "ffea7e65-e452-4853-82c2-3db2d0bf0b16"
      },
      "outputs": [
        {
          "output_type": "stream",
          "name": "stderr",
          "text": [
            "/usr/local/lib/python3.10/dist-packages/ipykernel/ipkernel.py:283: DeprecationWarning: `should_run_async` will not call `transform_cell` automatically in the future. Please pass the result to `transformed_cell` argument and any exception that happen during thetransform in `preprocessing_exc_tuple` in IPython 7.17 and above.\n",
            "  and should_run_async(code)\n",
            "/usr/local/lib/python3.10/dist-packages/sklearn/feature_extraction/text.py:528: UserWarning: The parameter 'token_pattern' will not be used since 'tokenizer' is not None'\n",
            "  warnings.warn(\n"
          ]
        },
        {
          "output_type": "display_data",
          "data": {
            "text/plain": [
              "<Figure size 1600x800 with 1 Axes>"
            ],
            "image/png": "[encoded data removed]"
          },
          "metadata": {}
        }
      ],
      "source": [
        "words, word_values = get_top_n_words(n_top_words=15,\n",
        "                                     count_vectorizer=cv, \n",
        "                                     text_data=df['processed'])\n",
        "\n",
        "fig, ax = plt.subplots(figsize=(16,8))\n",
        "ax.bar(range(len(words)), word_values);\n",
        "ax.set_xticks(range(len(words)));\n",
        "ax.set_xticklabels(words, rotation='vertical');\n",
        "ax.set_title('Top words in dataset (excluding stop words)');\n",
        "ax.set_xlabel('Word');\n",
        "ax.set_ylabel('Number of occurences');\n",
        "plt.show()"
      ]
    },
    {
      "cell_type": "code",
      "execution_count": 17,
      "id": "be6d23f3",
      "metadata": {
        "colab": {
          "base_uri": "https://localhost:8080/"
        },
        "id": "be6d23f3",
        "outputId": "cd69e752-449f-479c-fa72-7d7138281097"
      },
      "outputs": [
        {
          "output_type": "stream",
          "name": "stderr",
          "text": [
            "/usr/local/lib/python3.10/dist-packages/ipykernel/ipkernel.py:283: DeprecationWarning: `should_run_async` will not call `transform_cell` automatically in the future. Please pass the result to `transformed_cell` argument and any exception that happen during thetransform in `preprocessing_exc_tuple` in IPython 7.17 and above.\n",
            "  and should_run_async(code)\n"
          ]
        },
        {
          "output_type": "stream",
          "name": "stdout",
          "text": [
            "iteration: 1 of max_iter: 100\n",
            "iteration: 2 of max_iter: 100\n",
            "iteration: 3 of max_iter: 100\n",
            "iteration: 4 of max_iter: 100\n",
            "iteration: 5 of max_iter: 100, perplexity: 4919.8596\n",
            "iteration: 6 of max_iter: 100\n",
            "iteration: 7 of max_iter: 100\n",
            "iteration: 8 of max_iter: 100\n",
            "iteration: 9 of max_iter: 100\n",
            "iteration: 10 of max_iter: 100, perplexity: 4451.7236\n",
            "iteration: 11 of max_iter: 100\n",
            "iteration: 12 of max_iter: 100\n",
            "iteration: 13 of max_iter: 100\n",
            "iteration: 14 of max_iter: 100\n",
            "iteration: 15 of max_iter: 100, perplexity: 4310.3754\n",
            "iteration: 16 of max_iter: 100\n",
            "iteration: 17 of max_iter: 100\n",
            "iteration: 18 of max_iter: 100\n",
            "iteration: 19 of max_iter: 100\n",
            "iteration: 20 of max_iter: 100, perplexity: 4250.1649\n",
            "iteration: 21 of max_iter: 100\n",
            "iteration: 22 of max_iter: 100\n",
            "iteration: 23 of max_iter: 100\n",
            "iteration: 24 of max_iter: 100\n",
            "iteration: 25 of max_iter: 100, perplexity: 4218.0930\n",
            "iteration: 26 of max_iter: 100\n",
            "iteration: 27 of max_iter: 100\n",
            "iteration: 28 of max_iter: 100\n",
            "iteration: 29 of max_iter: 100\n",
            "iteration: 30 of max_iter: 100, perplexity: 4198.8515\n",
            "iteration: 31 of max_iter: 100\n",
            "iteration: 32 of max_iter: 100\n",
            "iteration: 33 of max_iter: 100\n",
            "iteration: 34 of max_iter: 100\n",
            "iteration: 35 of max_iter: 100, perplexity: 4185.2301\n",
            "iteration: 36 of max_iter: 100\n",
            "iteration: 37 of max_iter: 100\n",
            "iteration: 38 of max_iter: 100\n",
            "iteration: 39 of max_iter: 100\n",
            "iteration: 40 of max_iter: 100, perplexity: 4177.1042\n",
            "iteration: 41 of max_iter: 100\n",
            "iteration: 42 of max_iter: 100\n",
            "iteration: 43 of max_iter: 100\n",
            "iteration: 44 of max_iter: 100\n",
            "iteration: 45 of max_iter: 100, perplexity: 4171.6370\n",
            "iteration: 46 of max_iter: 100\n",
            "iteration: 47 of max_iter: 100\n",
            "iteration: 48 of max_iter: 100\n",
            "iteration: 49 of max_iter: 100\n",
            "iteration: 50 of max_iter: 100, perplexity: 4167.8985\n",
            "iteration: 51 of max_iter: 100\n",
            "iteration: 52 of max_iter: 100\n",
            "iteration: 53 of max_iter: 100\n",
            "iteration: 54 of max_iter: 100\n",
            "iteration: 55 of max_iter: 100, perplexity: 4165.0927\n",
            "iteration: 56 of max_iter: 100\n",
            "iteration: 57 of max_iter: 100\n",
            "iteration: 58 of max_iter: 100\n",
            "iteration: 59 of max_iter: 100\n",
            "iteration: 60 of max_iter: 100, perplexity: 4162.7410\n",
            "iteration: 61 of max_iter: 100\n",
            "iteration: 62 of max_iter: 100\n",
            "iteration: 63 of max_iter: 100\n",
            "iteration: 64 of max_iter: 100\n",
            "iteration: 65 of max_iter: 100, perplexity: 4160.9161\n",
            "iteration: 66 of max_iter: 100\n",
            "iteration: 67 of max_iter: 100\n",
            "iteration: 68 of max_iter: 100\n",
            "iteration: 69 of max_iter: 100\n",
            "iteration: 70 of max_iter: 100, perplexity: 4159.8662\n",
            "iteration: 71 of max_iter: 100\n",
            "iteration: 72 of max_iter: 100\n",
            "iteration: 73 of max_iter: 100\n",
            "iteration: 74 of max_iter: 100\n",
            "iteration: 75 of max_iter: 100, perplexity: 4159.2162\n",
            "iteration: 76 of max_iter: 100\n",
            "iteration: 77 of max_iter: 100\n",
            "iteration: 78 of max_iter: 100\n",
            "iteration: 79 of max_iter: 100\n",
            "iteration: 80 of max_iter: 100, perplexity: 4158.6157\n",
            "iteration: 81 of max_iter: 100\n",
            "iteration: 82 of max_iter: 100\n",
            "iteration: 83 of max_iter: 100\n",
            "iteration: 84 of max_iter: 100\n",
            "iteration: 85 of max_iter: 100, perplexity: 4158.1141\n",
            "iteration: 86 of max_iter: 100\n",
            "iteration: 87 of max_iter: 100\n",
            "iteration: 88 of max_iter: 100\n",
            "iteration: 89 of max_iter: 100\n",
            "iteration: 90 of max_iter: 100, perplexity: 4157.9212\n",
            "iteration: 91 of max_iter: 100\n",
            "iteration: 92 of max_iter: 100\n",
            "iteration: 93 of max_iter: 100\n",
            "iteration: 94 of max_iter: 100\n",
            "iteration: 95 of max_iter: 100, perplexity: 4157.5637\n",
            "iteration: 96 of max_iter: 100\n",
            "iteration: 97 of max_iter: 100\n",
            "iteration: 98 of max_iter: 100\n",
            "iteration: 99 of max_iter: 100\n",
            "iteration: 100 of max_iter: 100, perplexity: 4157.2626\n"
          ]
        }
      ],
      "source": [
        "# Create LDA object\n",
        "model=LatentDirichletAllocation(n_components=15, random_state= 0, verbose =1, evaluate_every= 5, max_iter= 100)\n",
        "#model=LatentDirichletAllocation(n_components=10, doc_topic_prior= 0.5, topic_word_prior=0.5, random_state= 0, verbose =1, evaluate_every= 2, max_iter= 50)\n",
        "#model=LatentDirichletAllocation(n_components=20, doc_topic_prior= 0.04, topic_word_prior=0.08, random_state= 0, verbose =1, evaluate_every= 2, max_iter= 20)\n",
        "#model=LatentDirichletAllocation(n_components=10, doc_topic_prior = 0.06, random_state= 0, verbose =1, evaluate_every= 5, max_iter= 30)\n",
        "#model=LatentDirichletAllocation(n_components=20, random_state= 0, verbose =1, evaluate_every= 5, max_iter= 50)\n",
        "#model=LatentDirichletAllocation(n_components=30, random_state= 0, verbose =1, evaluate_every= 5, max_iter= 50)\n",
        "#model =LatentDirichletAllocation(n_components=10, doc_topic_prior= 0.5, topic_word_prior=0.5, random_state= 0, verbose =1, evaluate_every= 5, max_iter= 50)\n",
        "#model =LatentDirichletAllocation(n_components=20, doc_topic_prior= 0.02, topic_word_prior=0.8, random_state= 42, verbose =1, evaluate_every= 5, max_iter= 60)\n",
        "#model =LatentDirichletAllocation(n_components=15, doc_topic_prior= 0.6, topic_word_prior=0.08, random_state= 32, verbose =1, evaluate_every= 5, max_iter= 70)\n",
        "#model =LatentDirichletAllocation(n_components=10, doc_topic_prior= 0.02, topic_word_prior=0.04, random_state= 32, verbose =1, evaluate_every= 5, max_iter= 100)\n",
        "#model=LatentDirichletAllocation(n_components=15, doc_topic_prior= 0.7, topic_word_prior=0.4, random_state= 0, verbose =1, evaluate_every= 2, max_iter= 100)\n",
        "#model=LatentDirichletAllocation(n_components=15, doc_topic_prior= 0.7, topic_word_prior=0.8, random_state= 0, verbose =1, evaluate_every= 2, max_iter= 70)\n",
        "#model=LatentDirichletAllocation(n_components=10, doc_topic_prior= 0.3, topic_word_prior=0.5, random_state= 0, verbose =1, evaluate_every= 2, max_iter= 70)\n",
        "\n",
        "\n",
        "# Fit and Transform LDA model on data\n",
        "lda_matrix = model.fit(train_data)\n",
        "\n",
        "# Get Components \n",
        "lda_components=model.components_"
      ]
    },
    {
      "cell_type": "code",
      "execution_count": 18,
      "id": "96c3c5e6",
      "metadata": {
        "colab": {
          "base_uri": "https://localhost:8080/"
        },
        "id": "96c3c5e6",
        "outputId": "19f99563-a865-4119-e724-3a58a9a98af9"
      },
      "outputs": [
        {
          "output_type": "stream",
          "name": "stderr",
          "text": [
            "/usr/local/lib/python3.10/dist-packages/ipykernel/ipkernel.py:283: DeprecationWarning: `should_run_async` will not call `transform_cell` automatically in the future. Please pass the result to `transformed_cell` argument and any exception that happen during thetransform in `preprocessing_exc_tuple` in IPython 7.17 and above.\n",
            "  and should_run_async(code)\n"
          ]
        },
        {
          "output_type": "execute_result",
          "data": {
            "text/plain": [
              "4157.262574981601"
            ]
          },
          "metadata": {},
          "execution_count": 18
        }
      ],
      "source": [
        "model.perplexity(train_data)"
      ]
    },
    {
      "cell_type": "code",
      "execution_count": 19,
      "id": "68bbc0e2",
      "metadata": {
        "colab": {
          "base_uri": "https://localhost:8080/"
        },
        "id": "68bbc0e2",
        "outputId": "e430ccab-4573-4f03-e57f-e1c671dcb2bd"
      },
      "outputs": [
        {
          "output_type": "stream",
          "name": "stderr",
          "text": [
            "/usr/local/lib/python3.10/dist-packages/ipykernel/ipkernel.py:283: DeprecationWarning: `should_run_async` will not call `transform_cell` automatically in the future. Please pass the result to `transformed_cell` argument and any exception that happen during thetransform in `preprocessing_exc_tuple` in IPython 7.17 and above.\n",
            "  and should_run_async(code)\n"
          ]
        },
        {
          "output_type": "execute_result",
          "data": {
            "text/plain": [
              "-3750008.7502918905"
            ]
          },
          "metadata": {},
          "execution_count": 19
        }
      ],
      "source": [
        "model.score(train_data)"
      ]
    },
    {
      "cell_type": "code",
      "execution_count": 20,
      "id": "b975b470",
      "metadata": {
        "colab": {
          "base_uri": "https://localhost:8080/"
        },
        "id": "b975b470",
        "outputId": "1732b971-6ce4-488d-e660-6456e2b7be3a"
      },
      "outputs": [
        {
          "output_type": "stream",
          "name": "stderr",
          "text": [
            "/usr/local/lib/python3.10/dist-packages/ipykernel/ipkernel.py:283: DeprecationWarning: `should_run_async` will not call `transform_cell` automatically in the future. Please pass the result to `transformed_cell` argument and any exception that happen during thetransform in `preprocessing_exc_tuple` in IPython 7.17 and above.\n",
            "  and should_run_async(code)\n"
          ]
        },
        {
          "output_type": "stream",
          "name": "stdout",
          "text": [
            "Topic 0:  ['https', 'com', 'www', 'https www', 'usb', 'charge', 'reddit', 'samsung', 'r', 'c']\n",
            "Topic 1:  ['ultra', 's21', 's23', 'battery', 's22', 'phone', 'life', 'well', 'like', 'upgrade']\n",
            "Topic 2:  ['moon', 'photo', 'image', 'ai', 'picture', 'camera', 'detail', 'like', 'look', 'take']\n",
            "Topic 3:  ['phone', 'like', 'good', 'people', 'know', 'want', 'look', 'think', 'buy', 'thing']\n",
            "Topic 4:  ['tab', 's8', 'tablet', 's7', 'work', 'yes', 'ipad', 'use', 'tab s8', 's6']\n",
            "Topic 5:  ['android', 'phone', 'samsung', 'use', 'device', 'apple', 'like', 'iphone', 'google', 'feature']\n",
            "Topic 6:  ['update', 'get', '5', '1', 'ui', 'carrier', 'security', 'month', 'patch', '5 1']\n",
            "Topic 7:  ['headphone', 'card', 'file', 'sd', 'audio', 'jack', 'sd card', 'sound', 'support', 'thank']\n",
            "Topic 8:  ['phone', '5', 'g', 'gb', 'good', 'galaxy', '8', 'moto', '5 g', '6']\n",
            "Topic 9:  ['pixel', 'samsung', 'thank', 'trade', 'snapdragon', 'series', 'chip', 's21', 'buy', 'exynos']\n",
            "Topic 10:  ['message', 'delete', 'samsung', 'subreddit', 'question', 'button', 'r', 'thank', 'discord', 'rule']\n",
            "Topic 11:  ['app', 'setting', 'use', 'turn', 'google', 'notification', 'play', 'work', 'screen', 'try']\n",
            "Topic 12:  ['battery', 'phone', 'day', 'hour', 'year', 'time', 'charge', '2', '5', 'screen']\n",
            "Topic 13:  ['pro', 'screen', 'pen', 'fold', 'note', '7', 'pixel', 'case', 'protector', 's']\n",
            "Topic 14:  ['phone', 'try', 'issue', 'work', 'device', 'problem', 'time', 'datum', 'google', 'happen']\n"
          ]
        }
      ],
      "source": [
        "terms = cv.get_feature_names_out()\n",
        "\n",
        "for index, component in enumerate(lda_components):\n",
        "    zipped = zip(terms, component)\n",
        "    top_terms_key=sorted(zipped, key = lambda t: t[1], reverse=True)[:10]\n",
        "    top_terms_list=list(dict(top_terms_key).keys())\n",
        "    print(\"Topic \"+str(index)+\": \",top_terms_list)"
      ]
    },
    {
      "cell_type": "code",
      "execution_count": 21,
      "id": "455d4a52",
      "metadata": {
        "colab": {
          "base_uri": "https://localhost:8080/",
          "height": 953
        },
        "id": "455d4a52",
        "outputId": "bd5237a7-9f69-4df9-a250-b7ac0bf2195f"
      },
      "outputs": [
        {
          "output_type": "stream",
          "name": "stderr",
          "text": [
            "/usr/local/lib/python3.10/dist-packages/ipykernel/ipkernel.py:283: DeprecationWarning: `should_run_async` will not call `transform_cell` automatically in the future. Please pass the result to `transformed_cell` argument and any exception that happen during thetransform in `preprocessing_exc_tuple` in IPython 7.17 and above.\n",
            "  and should_run_async(code)\n",
            "/usr/local/lib/python3.10/dist-packages/pyLDAvis/_prepare.py:244: FutureWarning: In a future version of pandas all arguments of DataFrame.drop except for the argument 'labels' will be keyword-only.\n",
            "  by='saliency', ascending=False).head(R).drop('saliency', 1)\n"
          ]
        },
        {
          "output_type": "execute_result",
          "data": {
            "text/plain": [
              "PreparedData(topic_coordinates=                x           y  topics  cluster       Freq\n",
              "topic                                                    \n",
              "2      -28.127565   23.066023       1        1  11.753367\n",
              "14    -100.747826    4.430503       2        1  10.732165\n",
              "3      -35.911419  -85.980263       3        1   9.812488\n",
              "12      79.141060   49.863136       4        1   8.932804\n",
              "11     -92.528290  -61.315037       5        1   8.146135\n",
              "5      -76.185547   59.023289       6        1   6.880726\n",
              "1       22.513058  -97.745590       7        1   6.478828\n",
              "8       16.799175   46.944324       8        1   6.476336\n",
              "9       38.977848  100.131752       9        1   5.534136\n",
              "13      39.040394   -0.403676      10        1   5.163361\n",
              "6      100.254669   -8.128910      11        1   5.047965\n",
              "0       64.678108  -56.691486      12        1   4.837761\n",
              "7      -48.022236  -23.762886      13        1   4.535284\n",
              "4        3.102238  -37.178482      14        1   3.194344\n",
              "10     -25.933121   91.846390      15        1   2.474300, topic_info=          Term         Freq        Total Category  logprob  loglift\n",
              "2023       app  2584.000000  2584.000000  Default  30.0000  30.0000\n",
              "21007   update  1730.000000  1730.000000  Default  29.0000  29.0000\n",
              "2759   battery  2255.000000  2255.000000  Default  28.0000  28.0000\n",
              "9326     https  1353.000000  1353.000000  Default  27.0000  27.0000\n",
              "4400       com  1185.000000  1185.000000  Default  26.0000  26.0000\n",
              "...        ...          ...          ...      ...      ...      ...\n",
              "9071      help    74.100174   481.515918  Topic15  -5.0125   1.8277\n",
              "3235     break    64.094435   266.044334  Topic15  -5.1575   2.2759\n",
              "13999  perform    56.435513   126.509145  Topic15  -5.2848   2.8920\n",
              "11071     list    54.565695   204.323255  Topic15  -5.3185   2.3789\n",
              "9326     https    56.385080  1353.071471  Topic15  -5.2857   0.5213\n",
              "\n",
              "[1008 rows x 6 columns], token_table=       Topic      Freq       Term\n",
              "term                             \n",
              "0          4  0.212045          0\n",
              "0          8  0.137997          0\n",
              "0         10  0.053853          0\n",
              "0         11  0.434187          0\n",
              "0         12  0.158192          0\n",
              "...      ...       ...        ...\n",
              "23091     10  0.704799          z\n",
              "23093     10  0.977500     z fold\n",
              "23106      8  0.994663    zenfone\n",
              "23109      8  0.977399  zenfone 9\n",
              "23126      1  0.997208       zoom\n",
              "\n",
              "[2365 rows x 3 columns], R=30, lambda_step=0.01, plot_opts={'xlab': 'PC1', 'ylab': 'PC2'}, topic_order=[3, 15, 4, 13, 12, 6, 2, 9, 10, 14, 7, 1, 8, 5, 11])"
            ],
            "text/html": [
              "\n",
              "<link rel=\"stylesheet\" type=\"text/css\" href=\"https://cdn.jsdelivr.net/gh/bmabey/pyLDAvis@3.4.0/pyLDAvis/js/ldavis.v1.0.0.css\">\n",
              "\n",
              "\n",
              "<div id=\"ldavis_el2301401870326479683834707955\" style=\"background-color:white;\"></div>\n",
              "<script type=\"text/javascript\">\n",
              "\n",
              "var ldavis_el2301401870326479683834707955_data = {\"mdsDat\": {\"x\": [-28.127565383911133, -100.7478256225586, -35.91141891479492, 79.14105987548828, -92.52828979492188, -76.185546875, 22.513057708740234, 16.799175262451172, 38.977848052978516, 39.0403938293457, 100.25466918945312, 64.67810821533203, -48.02223587036133, 3.1022377014160156, -25.933120727539062], \"y\": [23.066022872924805, 4.430502891540527, -85.98026275634766, 49.863136291503906, -61.31503677368164, 59.02328872680664, -97.74559020996094, 46.9443244934082, 100.13175201416016, -0.4036755859851837, -8.128910064697266, -56.69148635864258, -23.76288604736328, -37.17848205566406, 91.84638977050781], \"topics\": [1, 2, 3, 4, 5, 6, 7, 8, 9, 10, 11, 12, 13, 14, 15], \"cluster\": [1, 1, 1, 1, 1, 1, 1, 1, 1, 1, 1, 1, 1, 1, 1], \"Freq\": [11.753366950940354, 10.73216506671578, 9.812488486212722, 8.932803770679994, 8.146135060406824, 6.880725503247892, 6.478827806359389, 6.476336207703919, 5.534135927291088, 5.163361365356593, 5.047964905898271, 4.83776113449795, 4.5352837777263195, 3.194344009519994, 2.4743000274429123]}, \"tinfo\": {\"Term\": [\"app\", \"update\", \"battery\", \"https\", \"com\", \"android\", \"moon\", \"ultra\", \"phone\", \"photo\", \"5\", \"pixel\", \"s21\", \"pro\", \"screen\", \"image\", \"s23\", \"ai\", \"samsung\", \"www\", \"tab\", \"charge\", \"s8\", \"https www\", \"1\", \"life\", \"get\", \"setting\", \"picture\", \"camera\", \"moon\", \"photo\", \"image\", \"ai\", \"zoom\", \"shot\", \"fake\", \"imgur\", \"imgur com\", \"capture\", \"scene\", \"crater\", \"blurry\", \"blur\", \"algorithm\", \"https i\", \"picture moon\", \"overlay\", \"i imgur\", \"enhancement\", \"moon photo\", \"object\", \"photo moon\", \"sharpen\", \"texture\", \"optimizer\", \"picture\", \"scene optimizer\", \"https imgur\", \"100x\", \"detail\", \"photography\", \"enhance\", \"processing\", \"train\", \"take\", \"camera\", \"pic\", \"sensor\", \"add\", \"look\", \"result\", \"like\", \"mode\", \"samsung\", \"datum\", \"post\", \"people\", \"think\", \"real\", \"different\", \"thing\", \"use\", \"phone\", \"actually\", \"reset\", \"factory reset\", \"sim card\", \"recovery\", \"router\", \"hotspot\", \"google account\", \"thank help\", \"recovery mode\", \"phone number\", \"replace screen\", \"server\", \"app instal\", \"thank try\", \"connect phone\", \"try factory\", \"secure folder\", \"repair shop\", \"repair\", \"wi\", \"wi fi\", \"encryption\", \"reset phone\", \"gallery app\", \"translate google\", \"authorize\", \"https meeco\", \"kr\", \"kr mini\", \"meeco\", \"boot\", \"account\", \"send\", \"thing happen\", \"factory\", \"password\", \"warranty\", \"sim\", \"secure\", \"transfer\", \"connect\", \"backup\", \"solve\", \"log\", \"connection\", \"try\", \"issue\", \"pc\", \"problem\", \"happen\", \"access\", \"wifi\", \"computer\", \"datum\", \"device\", \"work\", \"help\", \"phone\", \"contact\", \"network\", \"service\", \"find\", \"time\", \"google\", \"thank\", \"go\", \"fix\", \"say\", \"screen\", \"sure\", \"new\", \"samsung\", \"like\", \"app\", \"know\", \"think\", \"need\", \"thing\", \"buy phone\", \"not know\", \"aspect ratio\", \"people buy\", \"good know\", \"love phone\", \"spend money\", \"emf\", \"thx\", \"people know\", \"like look\", \"phone people\", \"phone own\", \"western\", \"emote\", \"emote free_emotes_pack\", \"free_emotes_pack\", \"gif emote\", \"good condition\", \"gold\", \"people phone\", \"phone company\", \"buyer\", \"like people\", \"government\", \"average person\", \"get like\", \"bad experience\", \"not like\", \"medical\", \"people use\", \"lot people\", \"good luck\", \"fucking\", \"ass\", \"people like\", \"shit\", \"people\", \"cool\", \"money\", \"wow\", \"lol\", \"man\", \"company\", \"aspect\", \"know\", \"luck\", \"reasonable\", \"phone\", \"love\", \"yeah\", \"want\", \"like\", \"buy\", \"not\", \"good\", \"bad\", \"look\", \"spend\", \"think\", \"feel\", \"hand\", \"thing\", \"little\", \"need\", \"lot\", \"way\", \"mean\", \"case\", \"go\", \"time\", \"get\", \"long\", \"actually\", \"use\", \"well\", \"new\", \"hour\", \"sot\", \"drain\", \"hour sot\", \"85\", \"screen time\", \"battery drain\", \"5 hour\", \"hour screen\", \"10 hour\", \"drain battery\", \"hrs\", \"4 hour\", \"galaxy watch\", \"12 hour\", \"power saving\", \"battery saver\", \"6 hour\", \"7 hour\", \"heavy use\", \"8 hour\", \"charge 100\", \"charge 85\", \"day battery\", \"3 hour\", \"5h\", \"use battery\", \"day use\", \"phone day\", \"last\", \"60hz\", \"power button\", \"saving\", \"refresh\", \"battery\", \"refresh rate\", \"rate\", \"saver\", \"usage\", \"noticeable\", \"day\", \"power\", \"charge\", \"120hz\", \"4 5\", \"3 4\", \"year\", \"4\", \"life\", \"battery life\", \"2\", \"100\", \"time\", \"watch\", \"heavy\", \"10\", \"5\", \"3\", \"phone\", \"screen\", \"1\", \"get\", \"need\", \"use\", \"fast\", \"like\", \"6\", \"big\", \"well\", \"go\", \"notification\", \"icon\", \"play store\", \"widget\", \"toggle\", \"bixby\", \"permission\", \"lock screen\", \"alarm\", \"galaxy store\", \"app use\", \"system app\", \"play service\", \"open app\", \"booster\", \"app store\", \"use app\", \"app run\", \"developer option\", \"dns\", \"bixby routine\", \"setting app\", \"airplane mode\", \"app app\", \"accessibility\", \"google app\", \"app open\", \"party app\", \"tasker\", \"app work\", \"google play\", \"assistant\", \"app\", \"press\", \"setting\", \"disable\", \"tap\", \"swipe\", \"developer\", \"enable\", \"clear cache\", \"theme\", \"select\", \"home screen\", \"store\", \"play\", \"control\", \"routine\", \"click\", \"button\", \"default\", \"turn\", \"open\", \"cache\", \"sleep\", \"set\", \"google\", \"option\", \"system\", \"use\", \"search\", \"work\", \"lock\", \"remove\", \"try\", \"screen\", \"mode\", \"change\", \"samsung\", \"like\", \"clear\", \"feature\", \"phone\", \"find\", \"think\", \"rom\", \"launcher\", \"android phone\", \"custom rom\", \"android 12\", \"nova\", \"imessage\", \"android 14\", \"stock android\", \"android version\", \"android device\", \"android 11\", \"operating\", \"operating system\", \"nova launcher\", \"ios\", \"samsung apple\", \"intense\", \"version android\", \"late version\", \"android 10\", \"new android\", \"fully charge\", \"run android\", \"protect battery\", \"yt\", \"vanced\", \"like apple\", \"qid\", \"good android\", \"android\", \"android 13\", \"apple\", \"custom\", \"bootloader\", \"miui\", \"stock\", \"os\", \"13\", \"ecosystem\", \"flagship\", \"chinese\", \"iphone\", \"device\", \"samsung\", \"use\", \"nokia\", \"window\", \"feature\", \"phone\", \"run\", \"google\", \"like\", \"support\", \"version\", \"12\", \"old\", \"recommend\", \"way\", \"software\", \"want\", \"good\", \"thing\", \"year\", \"update\", \"time\", \"s23 ultra\", \"s21 ultra\", \"s22 ultra\", \"_\", \"_ _\", \"base s21\", \"s10e\", \"23 ultra\", \"s20 fe\", \"s21 s22\", \"s20 ultra\", \"s21 plus\", \"s25\", \"get s23\", \"s21 base\", \"swiftkey\", \"base s23\", \"reason upgrade\", \"upgrade s23\", \"s21 s23\", \"buy s23\", \"upgrade s21\", \"motor\", \"ultra good\", \"s23 well\", \"s22 s23\", \"s23 s23\", \"s23 plus\", \"symmetrical\", \"lg g5\", \"s23\", \"ultra\", \"s20\", \"s22\", \"23\", \"s24\", \"fingerprint reader\", \"s21\", \"upgrade\", \"life\", \"well battery\", \"battery life\", \"s10\", \"form factor\", \"go to\", \"battery\", \"base\", \"plus\", \"well\", \"great\", \"buck\", \"lg\", \"wait\", \"camera\", \"go\", \"good\", \"like\", \"iphone\", \"phone\", \"year\", \"new\", \"look\", \"big\", \"think\", \"get\", \"want\", \"gb\", \"moto\", \"zenfone\", \"nexus\", \"256\", \"gb ram\", \"moto g\", \"128\", \"256 gb\", \"google message\", \"compact\", \"512 gb\", \"asus\", \"zenfone 9\", \"128 gb\", \"mid range\", \"g3\", \"screen size\", \"iv\", \"8 gb\", \"moto x\", \"sony xperia\", \"gsmarena com\", \"color palette\", \"drawer\", \"16 gb\", \"asus zenfone\", \"nexus 5x\", \"12 gb\", \"64 gb\", \"ram\", \"xperia\", \"price range\", \"inch\", \"g\", \"5 g\", \"512\", \"x\", \"motorola\", \"wallpaper\", \"mid\", \"5x\", \"range\", \"size\", \"5\", \"8\", \"9\", \"oneplus\", \"galaxy\", \"6\", \"price\", \"sony\", \"phone\", \"budget\", \"good\", \"small\", \"2\", \"4\", \"3\", \"1\", \"pixel\", \"option\", \"camera\", \"7\", \"iphone\", \"plus\", \"storage\", \"well\", \"think\", \"screen\", \"6a\", \"pixel 6a\", \"tensor\", \"8 gen\", \"gen 1\", \"modem\", \"gen 2\", \"https youtu\", \"youtu\", \"youtu be\", \"7a\", \"trade value\", \"s21 series\", \"s23 series\", \"snapdragon 8\", \"865\", \"amzn\", \"amzn to\", \"tsmc\", \"https amzn\", \"trade s21\", \"pixel 7a\", \"buy pixel\", \"share utm_medium\", \"tensor chip\", \"pixel watch\", \"6 series\", \"be\", \"node\", \"utm_content\", \"snapdragon\", \"4a\", \"chip\", \"trade\", \"gen\", \"exynos\", \"discount\", \"s21 fe\", \"pixel 6\", \"pixel\", \"value\", \"series\", \"a54\", \"exyno\", \"fe\", \"thank\", \"samsung\", \"s21\", \"buy\", \"come\", \"7\", \"price\", \"post\", \"6\", \"review\", \"deal\", \"galaxy\", \"google\", \"camera\", \"well\", \"new\", \"good\", \"bad\", \"think\", \"get\", \"phone\", \"pen\", \"fold\", \"protector\", \"s pen\", \"screen protector\", \"7 pro\", \"redmi\", \"fold 4\", \"poco\", \"redmi note\", \"6 pro\", \"fold 3\", \"note 10\", \"curved\", \"pro max\", \"14 pro\", \"id\", \"com store\", \"details\", \"play google\", \"details id\", \"https play\", \"z fold\", \"12 t\", \"id com\", \"10 pro\", \"f4\", \"12 pro\", \"app details\", \"xiaomi redmi\", \"pro\", \"glass\", \"scratch\", \"note\", \"pixel 7\", \"samsung note\", \"screen\", \"7\", \"fingerprint\", \"xiaomi\", \"flat\", \"case\", \"s\", \"pixel\", \"display\", \"z\", \"cover\", \"well\", \"edge\", \"12\", \"14\", \"use\", \"samsung\", \"good\", \"4\", \"camera\", \"3\", \"phone\", \"like\", \"5 1\", \"ui 5\", \"t mobile\", \"march\", \"security update\", \"5 0\", \"security patch\", \"at\", \"at t\", \"get update\", \"csc\", \"xaa\", \"oneui 5\", \"march update\", \"tmobile\", \"1 update\", \"week ago\", \"android update\", \"redd\", \"redd it\", \"year security\", \"enabled\", \"os update\", \"auto webp\", \"enabled s\", \"https preview\", \"preview redd\", \"v enabled\", \"webp\", \"webp v\", \"update\", \"patch\", \"december\", \"month ago\", \"software update\", \"january\", \"november\", \"security\", \"verizon\", \"unlocked\", \"carrier\", \"firmware\", \"ui\", \"oneui\", \"1\", \"ago\", \"t\", \"month\", \"5\", \"get\", \"unlock\", \"version\", \"0\", \"mobile\", \"late\", \"s21\", \"fix\", \"lock\", \"year\", \"check\", \"2\", \"software\", \"com\", \"www\", \"https www\", \"cable\", \"reddit com\", \"www reddit\", \"usb c\", \"com r\", \"en\", \"comments\", \"samsung com\", \"co\", \"r android\", \"here\", \"html\", \"www amazon\", \"samsung keyboard\", \"amazon com\", \"org\", \"wipe cache\", \"dp\", \"hdmi\", \"here https\", \"ibb\", \"ibb co\", \"https ibb\", \"ref\", \"youtube com\", \"guardian\", \"com message\", \"https\", \"c\", \"usb\", \"port\", \"reddit\", \"plug\", \"r\", \"wireless\", \"charger\", \"charging\", \"charge\", \"wireless charging\", \"adapter\", \"wipe\", \"fast charging\", \"keyboard\", \"link\", \"fast\", \"samsung\", \"comment\", \"3\", \"amazon\", \"message\", \"use\", \"to\", \"try\", \"headphone\", \"audio\", \"jack\", \"sd card\", \"aptx\", \"headphone jack\", \"codec\", \"card slot\", \"tb\", \"1 tb\", \"ldac\", \"icon pack\", \"ear\", \"aptx hd\", \"mic\", \"patent\", \"encoder\", \"internal storage\", \"micro sd\", \"aac\", \"sbc\", \"galaxy bud\", \"aptx aptx\", \"support aptx\", \"note 20\", \"20 ultra\", \"audio jack\", \"thank info\", \"blaster\", \"pause\", \"sd\", \"frequency\", \"internal\", \"5 mm\", \"bud\", \"card\", \"hd\", \"3 5\", \"pair\", \"slot\", \"file\", \"pack\", \"storage\", \"sound\", \"bluetooth\", \"support\", \"oh\", \"music\", \"pay\", \"thank\", \"drive\", \"hear\", \"quality\", \"want\", \"use\", \"yeah\", \"year\", \"buy\", \"3\", \"point\", \"get\", \"like\", \"device\", \"tab\", \"s8\", \"s7\", \"ipad\", \"tab s8\", \"s6\", \"s8 ultra\", \"tab s7\", \"s6 lite\", \"galaxy tab\", \"s7 fe\", \"pencil\", \"tab s6\", \"drawing\", \"taking\", \"ipad pro\", \"s7fe\", \"note taking\", \"lite\", \"s21 exyno\", \"apple pencil\", \"s8 plus\", \"s7 edge\", \"tpu\", \"https twitter\", \"twitter com\", \"s7 s8\", \"exyno snapdragon\", \"s8u\", \"hrs sot\", \"make sense\", \"yup\", \"spen\", \"tablet\", \"note take\", \"adaptive battery\", \"dex\", \"sense\", \"yes\", \"nope\", \"draw\", \"note\", \"notice\", \"s\", \"fine\", \"work\", \"galaxy\", \"make\", \"use\", \"ultra\", \"well\", \"lot\", \"series\", \"screen\", \"take\", \"discord\", \"rule\", \"subreddit\", \"downvote\", \"moderator\", \"to r\", \"action perform\", \"bot action\", \"perform automatically\", \"automatically contact\", \"contact moderator\", \"moderator subreddit\", \"question concern\", \"subreddit message\", \"rcs\", \"upvote\", \"samsung message\", \"sidebar\", \"respectful\", \"us\", \"thank bot\", \"break rule\", \"gg\", \"act thank\", \"agree downvote\", \"button disagree\", \"button upvote\", \"content break\", \"content report\", \"disagree button\", \"respect\", \"join\", \"delete\", \"gt\", \"message\", \"bot\", \"concern\", \"official\", \"reminder\", \"question\", \"discuss\", \"action\", \"content\", \"twitter\", \"r\", \"button\", \"answer\", \"samsung\", \"automatically\", \"contact\", \"to\", \"report\", \"agree\", \"thank\", \"user\", \"help\", \"break\", \"perform\", \"list\", \"https\"], \"Freq\": [2584.0, 1730.0, 2255.0, 1353.0, 1185.0, 1389.0, 1426.0, 1155.0, 6030.0, 1131.0, 1456.0, 1335.0, 1171.0, 831.0, 1807.0, 951.0, 861.0, 859.0, 2966.0, 538.0, 459.0, 766.0, 453.0, 506.0, 1071.0, 759.0, 1761.0, 726.0, 666.0, 1519.0, 1425.439305753512, 1130.9004484387895, 950.3143299378618, 858.5727193007689, 390.20765169075776, 271.4264077501345, 258.8722927591167, 211.5529355389065, 206.72442969359545, 167.13068195255354, 158.43937135757074, 144.91955532487438, 143.9538539723203, 142.98815283650652, 119.81132459899707, 116.91422085135758, 115.94852025072653, 115.94851991858971, 115.94851968915528, 107.25720956058521, 106.29150859110051, 106.29150836864032, 105.32580744685916, 102.42870385975478, 101.46300252260431, 93.73739332343179, 659.9356169602714, 91.80599098627228, 90.84028949965577, 82.14897927225573, 549.545345652986, 139.87021992018217, 182.4362702316606, 206.83920180106094, 140.30024825247145, 454.58574645537806, 657.6008364958544, 141.46581558333654, 236.9412275759876, 301.8947657485146, 502.2007825790313, 163.36531081987724, 505.68518308612653, 241.76331929667896, 447.67495586444664, 241.01601918635833, 220.00219242403622, 258.163854782999, 266.3463922953924, 174.51548686540846, 196.8731043187695, 199.66267857580468, 210.272259429817, 224.60251083595125, 184.30604836452858, 307.01265975524143, 169.21807957241555, 59.93272279063616, 96.0213127671371, 41.87688144170278, 41.87688127316425, 35.22472926744896, 35.22472918672753, 30.473191861939974, 28.572576967076998, 28.572576416757066, 25.721654503673623, 25.721654302335633, 24.771347280927237, 24.771346776840105, 23.82103964223582, 23.821039634319078, 22.870732300341594, 156.1527557355772, 51.09588026984523, 51.09588026984523, 20.970117287135242, 20.01980986763625, 20.019809297271955, 18.119195121451998, 18.119194787961522, 17.16888781269035, 17.16888781269035, 17.16888781269035, 17.16888781269035, 61.10569986058729, 169.01323180851466, 214.25204197545645, 32.23306111873336, 204.6501668161932, 73.02715004421928, 144.73362203692534, 190.61730779636386, 48.05600636745154, 115.01567006483917, 218.04559266122516, 122.13440331176457, 72.36394235413017, 75.67769467028089, 103.58203266279834, 781.0010660327109, 634.1772099580513, 168.20107981338742, 351.42620894486646, 316.74227785423756, 125.43942930072078, 176.41036383661339, 106.72324944350291, 325.4543770974569, 526.9030081060448, 620.6543729358283, 237.0813608599685, 1165.1630561111674, 123.40052734200287, 152.7658308067098, 144.52429031462876, 278.52551186230386, 340.2971063647318, 322.25926121919827, 258.84730575526675, 293.3685254140405, 199.90786427157892, 230.08360537715674, 280.57967876407844, 209.77313923979875, 231.4863290272097, 267.5795379347765, 261.6588314050011, 248.81713877400202, 220.69188921188038, 216.7107102105991, 204.82022363083672, 197.90564015955871, 71.23860738504845, 38.97245265816351, 26.635393398058557, 24.737384753889444, 20.94136680858263, 20.94136645026478, 20.94136637291762, 19.043357658037937, 18.094352869288983, 18.094352429475588, 17.145348141793235, 17.14534812819653, 17.145348076246634, 16.196343800639735, 15.24733966520482, 15.24733966520482, 15.24733966520482, 15.24733966520482, 15.24733923140645, 14.29833462367158, 14.298334582115299, 14.298334386247172, 13.349330291280838, 13.349330121198907, 31.967182580922152, 12.4003255594983, 12.40032539732947, 11.451320998170793, 11.451320982548934, 11.451320696234811, 31.66319976483461, 44.42015372217058, 50.459662531222946, 31.2542559230632, 33.499077508437516, 31.087544923556774, 147.57286191576682, 625.1552478637121, 122.39516371676088, 152.4774816837018, 66.03004597345475, 260.9730153677183, 81.76205254281119, 149.31202109805133, 43.22048148575137, 588.4850578485258, 67.6347430470727, 33.266044599672114, 1788.8079002725055, 188.6354768594406, 282.18176723957805, 493.5584367479732, 935.7837649876183, 367.57604896434236, 215.2686580583452, 632.9296617197786, 277.25676516466933, 457.0459064235676, 88.25846820462807, 447.2188870990246, 200.0123035662836, 120.31728714788186, 333.74072245097926, 131.76140011650318, 322.1300041531538, 201.13720740283708, 239.7346379995159, 189.88671571584365, 204.03027686137457, 257.98248556531047, 266.4116818149128, 286.5125490882109, 177.43380529154263, 169.53312981566955, 199.00193286579102, 169.44706569402607, 154.09339849484394, 521.8497698409883, 300.6891225865285, 203.03377154981996, 107.29323169517153, 91.97474510251003, 85.27290724582504, 72.82663705155134, 55.59334008502064, 48.89150224982108, 43.14706985182717, 43.14706971547686, 42.18966404223979, 41.2322590820238, 40.274852853221404, 34.530421097178, 33.57301577130434, 31.65820486522424, 30.700799505147916, 28.785988856552592, 26.871177921573825, 25.91377259141807, 24.956367270505165, 23.998961818966475, 23.9989615501969, 23.041556407085384, 23.041556368472076, 23.041556272700763, 23.041556067983343, 23.04155557096853, 100.41145154990069, 49.62269033662156, 44.89147240813353, 58.93988860621541, 88.11601173947682, 1662.9115310959855, 64.69653108780766, 108.43777966273379, 38.93859720744199, 167.74629849032448, 47.54262209823865, 565.6367310180381, 285.2397845456859, 467.01124875848654, 92.13492751089957, 48.05797988712714, 44.31815655027358, 517.6881668764883, 329.0490704506311, 329.07517477904884, 273.9136687569767, 381.56589167944526, 146.0341656160743, 470.7143047258773, 190.39983082063503, 88.92160171393036, 182.27571116270832, 356.73184733429036, 266.10879803460836, 752.1307290832195, 356.28449573129086, 243.6826092413813, 301.7189790386307, 239.46619151026408, 309.985912683199, 159.97842389597562, 266.8495876345211, 158.4226435055402, 152.16105924560296, 166.2378783176737, 148.73386826470153, 383.5597278578534, 246.8679254922558, 114.92236669864029, 76.95242161343853, 76.95242135041144, 74.10467567521485, 61.76444335140612, 51.32270880089974, 49.42421153984315, 48.474962843580215, 42.77947064017801, 36.134730382214656, 36.13473023548083, 34.23623323324753, 34.23623296694836, 33.286984698710455, 33.286984522974514, 33.286984370169115, 32.337736290204376, 32.33773618107917, 31.388487396414718, 30.439238922006247, 30.43923875247027, 28.54074172824555, 27.591493035947284, 27.591492986243413, 26.64224434943878, 26.642244263480393, 25.692995493699215, 25.69299523446914, 94.47015469749608, 49.1684254215827, 2280.486655261714, 142.81192143908393, 626.8813346235997, 235.35808034683873, 133.40536674835093, 93.83363386493677, 113.96979593827066, 150.077725882785, 58.97332972785964, 75.13386827341911, 98.2697054939048, 39.61201727801451, 305.7939516119399, 353.6813908502936, 104.77191725260141, 94.60568678839746, 94.17150731516287, 215.06532754499807, 137.30127532392663, 404.6252325766642, 248.61936633260413, 131.83962409303464, 96.77130770109271, 233.03328693012654, 387.7259885904114, 263.0670399672382, 177.66224366261184, 436.6500399891473, 122.21588778569614, 352.9914087059365, 141.3762284935863, 155.86125831490577, 308.3167708460797, 318.8484841481637, 203.17140896816494, 186.77398103205877, 273.15052408397287, 220.63457069104544, 134.09267634621145, 152.17731263328955, 160.572811258306, 137.96678773090244, 138.97060714657547, 137.43500853942942, 118.35564575348387, 97.36834688998026, 68.74930321718324, 61.11755801312857, 54.43978116539007, 42.038194748202294, 31.54454579716438, 31.544545718855, 30.590577400617505, 29.636609333770497, 27.72867332003667, 27.728672997728125, 27.728672997728125, 25.820737164731362, 122.89687537290939, 22.004864503655007, 22.00486449554303, 22.004864373635588, 22.004864311149536, 21.050896272436432, 21.050895992089618, 20.096927362862946, 19.142960172785877, 18.18899138563211, 18.188991022398405, 17.23502405369831, 17.23502380388895, 17.235023529527883, 17.23502343129666, 1270.4668293078958, 122.85569530817814, 337.89106553763554, 102.69116028655982, 43.78209975911565, 53.513325633365405, 98.08886138084245, 149.723604063413, 163.63346344378706, 37.02210770863831, 150.47224718102305, 73.70173732967183, 222.4355391824863, 367.52155815140907, 584.5340512908784, 505.2599328708244, 57.93330711346834, 92.58424249181958, 195.27399758685982, 627.2766101211843, 140.63515778648923, 221.78304431250953, 325.84383775041806, 132.47438825876884, 129.23087636733425, 101.58637238384225, 122.01035238947331, 88.15532347282208, 131.1241696449635, 112.07242457487774, 139.894680710669, 155.97679130701584, 127.71099199643858, 119.29155355850422, 119.39769580896616, 109.94262744775861, 273.2855540455605, 243.8762081097605, 191.69833685555443, 176.51931952817924, 117.70062876717282, 64.57406840491474, 31.36996815583239, 26.626525657236343, 26.626525236428236, 25.677836900131606, 24.72914814703037, 23.780459643195773, 22.831771446219403, 22.831771273772286, 22.83177115453479, 22.83177099915192, 21.883082702986545, 21.88308265329718, 20.934394313188925, 20.934394237981575, 19.037016986791258, 18.08832844290641, 18.08832829403688, 18.08832816902352, 18.088328163379604, 17.139639936914165, 17.139639894499073, 17.139639794778134, 15.24226283822703, 15.242262727588754, 780.5585762087328, 1039.812741248847, 143.46588265119956, 503.0374549826532, 84.3338851611493, 35.20439770345475, 27.988746214678333, 797.7383602514793, 356.0477665438406, 429.203529431106, 54.6478335976238, 334.91870463109194, 81.06737355414892, 27.214418258904274, 96.31905744798453, 592.2088848102306, 181.72187251546197, 160.65873256836534, 375.59311809253035, 217.4810924014696, 37.3463451455621, 81.4264147941469, 143.50139095451067, 283.2946842841903, 256.84300863678516, 325.1225486617672, 372.3946347784824, 155.69736656267006, 470.4237118116423, 201.97416224387695, 179.13351733191016, 207.1601128015611, 133.5413587824342, 153.6266650750687, 152.25072906498852, 134.658382215325, 484.83544667469226, 253.44540300846901, 96.63562127369566, 96.63562115533561, 83.249420110371, 79.42479148481735, 73.68784839053538, 72.73169091807767, 68.90706218413372, 68.90706094809703, 67.95090501724088, 67.95090465570748, 62.21396164457123, 57.433175859774536, 56.47701848191844, 45.95928924059168, 44.046974779574064, 42.13466037384922, 39.26618879561439, 38.31003190398579, 38.310031861339034, 33.52924575282889, 29.704616811386085, 28.748459679990972, 28.748459273865482, 28.74845914820825, 25.879988092568357, 25.879988086508796, 24.923830920957165, 23.96767341084274, 193.03478692494974, 87.30112585756113, 42.913381323718696, 95.67317704851233, 493.3106812717897, 239.11244659023026, 71.25589377862534, 123.90797056189308, 96.20588918265948, 63.52532848838124, 60.575578521362125, 50.24408701798175, 108.86706258547729, 195.11032418549732, 571.4897083646237, 254.32882579514748, 161.42231459123812, 146.8440906620457, 271.41001692082966, 222.44295480612556, 209.18178608889517, 113.08616942771825, 592.254823429527, 105.12797049279918, 296.21846148752894, 143.29679684148854, 190.46390519784373, 169.15577764617618, 175.34865135298165, 183.7348288064422, 179.36662457341774, 151.48028580309682, 167.88916204237154, 130.81106499620685, 128.998980157492, 119.33010779842374, 111.4733941480075, 129.37376971122893, 130.01444166836777, 113.64360890978551, 156.63342141963238, 85.89371857291458, 71.7457781525521, 59.48422975547653, 56.65464156100857, 55.71144541503452, 54.7682493864937, 52.88185737432005, 52.88185737432005, 52.88185737432005, 52.88185734430504, 45.33628936462792, 36.84752467864296, 33.07474040874603, 29.301956553847017, 29.301956341043745, 25.529172510678862, 21.75638839582026, 20.81319235920517, 19.8699962766088, 19.869995978772078, 17.983604059478477, 17.040408046294704, 16.097210745260334, 15.154016104636032, 15.154015848447038, 15.15401575163965, 79.00578080416922, 13.267623926537507, 13.267623903772078, 271.32436212116085, 44.92381478675353, 212.36746869663233, 281.58579272688826, 153.76695838707315, 167.91215368004674, 48.79930004081667, 68.0709523906036, 87.12037880095006, 669.0132555184526, 137.25390937290706, 225.39850262520187, 57.84344723479608, 107.16817713437091, 101.94481587239933, 323.1548558393453, 434.5682972568227, 205.5341186721371, 177.55198467200873, 159.8499234225029, 151.5667058728057, 135.5654761041647, 129.12599211556676, 130.5438827896771, 88.71665987384885, 95.21331648747493, 128.61440753018366, 152.71929249812354, 157.99342693403196, 142.36513548800193, 130.72161823684525, 136.45978644646524, 104.90017792094612, 111.64072427396188, 105.52962676443839, 113.10448992263568, 400.00389276443167, 366.75467751979164, 235.65777175043203, 220.45813002116714, 182.45902720226846, 148.25983400453612, 95.06108940857244, 94.11111192695545, 79.86144806422543, 68.46171735251521, 59.911918860055984, 56.1120086640887, 55.16203108496817, 54.21205353373494, 53.262075901447766, 46.61223292878425, 46.61223273318427, 45.66225489068626, 42.81232247274973, 41.86234509884817, 40.91236753385455, 40.91236753385455, 39.01241231829469, 38.062434822653046, 35.212502035372424, 33.31254696983807, 32.362568974597565, 30.462614220192076, 29.51263651061578, 28.562658918974527, 713.4501944083464, 175.05416625179862, 105.81070556376885, 351.895251245497, 176.34773792355867, 52.51489912551671, 640.6487793361595, 318.30546265198416, 128.1850887912206, 129.63302705015417, 59.75863810159425, 258.98326755971567, 223.4356696384517, 317.27555652075915, 160.73471086752176, 64.97833939217858, 82.8900943903499, 186.26851588766925, 85.02531433158435, 99.79664737767864, 77.62233319480255, 170.0289779858733, 175.94163702953, 153.5359520951514, 115.71186449055014, 126.14320224867076, 112.36436460109137, 135.44327904456995, 112.48047137412514, 213.49348729064263, 156.13983470975427, 102.54707708649548, 99.7264054840278, 97.84595792129818, 86.56327220533012, 83.74260087185559, 83.74260071080894, 79.04148176388158, 70.57946751057608, 65.8783483950753, 58.356558039341174, 49.89454359314507, 41.432529291166816, 40.492305160279976, 38.61185790708703, 37.67163371568572, 34.85096180541557, 33.910738912045026, 33.910738912045026, 33.91073840587157, 32.03029126492393, 32.03029064433283, 31.09006746910007, 31.09006746910007, 31.09006746910007, 31.09006746910007, 31.09006746910007, 31.09006746910007, 31.09006746910007, 1599.5167594138566, 214.96544914167748, 48.68555018216587, 48.667780333587, 66.62019029142886, 39.46142986087197, 38.58304670450043, 232.0921284763359, 146.65996825479345, 127.20796641143302, 235.26923301629859, 103.06216392921328, 267.64287755799603, 74.06459292746165, 450.6098789923058, 162.41844758732915, 199.40366776583454, 219.35071658645364, 483.97501135860205, 531.076165873437, 144.29987255763845, 204.35741745914748, 129.40908868700313, 127.01315464430876, 96.92985868482579, 167.73799900614821, 117.84370247118397, 95.21007205093102, 116.24980594872898, 103.64799937141883, 106.54813255379884, 99.1629575771874, 1184.1571014353312, 538.0269735267132, 505.4811597039373, 174.2796418140677, 173.32241253756513, 156.0922757789155, 147.47720713182576, 130.24707060825534, 100.57294573127868, 92.9151076376486, 68.98436167693356, 59.412063724746915, 54.62591444195084, 50.796995135466204, 50.79699501763951, 46.968076027235846, 46.968075856956354, 44.096386576288445, 44.09638647871017, 43.13915678120769, 43.139156755787084, 40.26746733772847, 39.31023751100631, 38.353007963482646, 38.353007963482646, 37.39577814705932, 37.395777815635256, 35.48131838182488, 35.4813182232385, 34.524088826426905, 1245.2401576357347, 202.84467611928278, 315.9183127249199, 138.5265248824228, 263.3224677287127, 113.0604617033068, 204.45472525757074, 138.06691304932207, 157.78853849788203, 152.29928394798196, 298.985883263316, 60.53498363819793, 62.16762958228627, 70.53107907440044, 60.43047986459137, 124.39615069748407, 105.15422147960797, 144.2353360948192, 255.2267559637361, 90.88009867731904, 127.94888286756193, 77.4500195141636, 90.9358506946335, 108.82483720523325, 80.9750298825583, 86.08575913197512, 265.593016254384, 196.8564637815304, 175.1997417220145, 157.30940645254137, 114.937559245169, 113.05436555194481, 46.201006689465885, 44.31781333493074, 42.4346200344627, 38.668233596942606, 36.78504069304364, 36.7850400876362, 35.8434438164984, 33.96025093237129, 33.960250681153006, 32.07705760449828, 31.13546083595205, 25.485881025114704, 25.485880869750986, 23.60268819464141, 22.66109156330624, 22.661091210917874, 21.719495051170696, 21.719494996702753, 21.71949439462714, 19.836301066195997, 18.894705000575264, 17.011511785292917, 15.12831825041937, 15.12831801594694, 222.55934016255176, 27.08545002572567, 53.223347111682536, 36.9090723766758, 93.07653999407198, 246.29089555464947, 55.598807274736025, 48.93298099359527, 41.04458342698458, 75.77311714272909, 232.4625373184528, 56.104709078209325, 146.23395417678486, 154.76677780913545, 103.57182403154833, 152.3203767500825, 82.19265038152562, 62.16296868949173, 99.95050075352626, 146.40729105655518, 53.35894428264351, 72.09368673554343, 77.9104672961106, 114.68724840508938, 136.33152716843296, 90.23983796769267, 109.93679646000696, 100.0165213378464, 83.92318005279188, 69.65443183722465, 79.38334734282184, 79.73229284996192, 73.03981552446068, 458.33825709358894, 452.7381425333707, 300.6016994444133, 159.66548536691104, 145.6651994515918, 143.79849421456467, 97.13087402171324, 87.79734994328481, 77.53047348769402, 71.930358729817, 42.063081779802175, 33.66290975699438, 30.862852921495914, 30.862852602178698, 30.86285237623716, 28.996147762638724, 28.062795480218075, 27.129443243546145, 121.02000114020676, 24.329385253838197, 23.3960333329041, 20.595976337095195, 20.595975949132892, 20.59597567436396, 19.662623482823612, 19.662623482823612, 18.72927136956203, 17.795918502569197, 16.862566377989044, 15.929213809692918, 66.90192795129812, 52.85487893998372, 59.24876885225723, 303.82340386317674, 23.845466153578034, 28.366799504334352, 68.39414468676807, 97.48110962189145, 164.09399939384568, 55.906229157574124, 53.51660395972938, 136.9046160143793, 94.20978014712533, 132.32118776464867, 101.26273096647839, 193.26951248571757, 126.59441067330157, 110.4030562679843, 151.17071267453704, 114.87753576178552, 90.83342678898804, 73.78388238973953, 64.46713155038138, 70.99710503563563, 60.43226657967047, 94.32945130076985, 86.86273992455904, 139.93932301656238, 62.59592836848444, 51.39586203346881, 47.662506497626914, 47.66250649601856, 47.66250649601856, 47.66250649601856, 46.72916759873562, 46.72916759873562, 46.72916759873562, 46.72916759873562, 46.72916759873562, 42.99581149095454, 42.062473073524814, 41.129133998102525, 39.26245628291743, 35.529100780507655, 35.5291001406532, 34.595761909931596, 34.59576190023196, 34.59576184343525, 33.66242301035227, 33.66242301035227, 33.66242301035227, 33.66242301035227, 33.66242301035227, 33.66242301035227, 33.66242301035227, 48.30145475993708, 42.75927523676747, 240.69955686114878, 40.67668005907616, 256.9100984342013, 79.83082014642753, 76.27147934846204, 73.53793013065602, 53.129868949469355, 117.42771274621289, 43.219504754930334, 64.34798662205999, 85.39678034864129, 54.68119944546448, 97.57435126810907, 97.87574294906324, 71.32123441296909, 188.16817428975375, 64.94479238423507, 70.00795415165717, 79.58702660630512, 60.47786877199288, 67.11731767696999, 95.11456762041982, 73.31270541494884, 74.1001740191657, 64.09443532524462, 56.43551303064152, 54.56569458175792, 56.38507985098221], \"Total\": [2584.0, 1730.0, 2255.0, 1353.0, 1185.0, 1389.0, 1426.0, 1155.0, 6030.0, 1131.0, 1456.0, 1335.0, 1171.0, 831.0, 1807.0, 951.0, 861.0, 859.0, 2966.0, 538.0, 459.0, 766.0, 453.0, 506.0, 1071.0, 759.0, 1761.0, 726.0, 666.0, 1519.0, 1426.3235522443283, 1131.7846956080548, 951.1985769581391, 859.4569658865025, 391.091898786209, 272.3106549664363, 259.75653976893136, 212.43718247695347, 207.60867663075746, 168.01492869386968, 159.3236181700588, 145.80380180551523, 144.83810063320473, 143.87239946457692, 120.69557139897401, 117.79846788717329, 116.83276672767873, 116.83276672235648, 116.8327667180481, 108.14145620098067, 107.17575503562465, 107.1757550315271, 106.21005386707462, 103.31295035745623, 102.3472491852301, 94.62163983445036, 666.2272317835101, 92.69023749593865, 91.72453632235512, 83.0332258026803, 563.5446566133422, 141.92167798367421, 188.17873375452464, 216.13465118139834, 145.7476783451079, 727.6071898478293, 1519.6540717668959, 166.66719489792771, 374.7520828808232, 560.7294234742038, 1727.4568114674996, 232.72008708823506, 3172.731170856216, 636.0918890746891, 2966.278365352056, 677.1156318574558, 557.0130065540329, 1085.0750307434457, 1748.5152345062859, 320.92116508337426, 631.8364157468458, 1195.580851525719, 2464.2940086164285, 6030.093638657225, 678.5273936821403, 307.89793294463993, 170.10335261510133, 60.81799580151894, 97.89575417115265, 42.76215424305184, 42.76215424265274, 36.11000208907532, 36.110002087575204, 31.358464837779675, 29.457849933677142, 29.45784993387213, 26.60692758168374, 26.60692758243428, 25.65662013312808, 25.656620132831222, 24.706312682217618, 24.706312682755485, 23.7560052318223, 162.49899675080283, 53.206298973036375, 53.206298973036375, 21.855390329406664, 20.90508288042548, 20.905082879181435, 19.004467980437756, 19.004467980319607, 18.05416053044078, 18.05416053044078, 18.05416053044078, 18.05416053044078, 64.6354041968209, 183.20931238998372, 234.8197232673698, 34.20817154581285, 234.414539078955, 80.76680665313494, 170.04218256894583, 228.99019412328434, 53.246671356337245, 136.7314761033901, 285.16955222825203, 150.0951072053716, 84.59787071269379, 91.21149475736705, 131.17932849160488, 1533.782826797701, 1271.6074330660117, 254.5590879222967, 658.3644723999341, 592.4820070570449, 184.1806788709779, 291.3841842130588, 151.99938071025213, 677.1156318574558, 1404.3226288614394, 1775.8574504315307, 481.5159182708724, 6030.093638657225, 199.23596188544852, 281.74014017113393, 259.03233616052046, 831.91693608282, 1434.9390805471674, 1350.806981419142, 917.7860382962798, 1289.7213863011186, 546.945323784098, 776.9829802777647, 1807.9919916240265, 813.3534017124443, 1108.627586442159, 2966.278365352056, 3172.731170856216, 2584.3998051154654, 1316.158733233189, 1748.5152345062859, 1207.6085096394859, 1195.580851525719, 72.12396786979674, 39.85781307796343, 27.520753895724503, 25.62274478740544, 21.82672657679725, 21.826726577816494, 21.82672657685747, 19.928717472693823, 18.979712919450492, 18.97971292524703, 18.030708367503365, 18.030708367000056, 18.030708367843655, 17.081703814410105, 16.132699261290742, 16.132699261290742, 16.132699261290742, 16.132699261290742, 16.132699262903273, 15.183694708648439, 15.18369470933565, 15.183694712606707, 14.234690157574896, 14.234690156488734, 34.17064396102553, 13.285685605187245, 13.285685604913342, 12.336681051428874, 12.336681051623213, 12.336681048568234, 34.17223388140567, 48.42216857481761, 56.95912237588881, 35.16509980653686, 38.98840947971538, 36.08762361851607, 204.25292735164658, 1085.0750307434457, 171.11556797392024, 221.27663845931963, 87.18362488898738, 433.81007323170735, 112.96677407226099, 238.75833887817527, 55.061020782263284, 1316.158733233189, 96.84402706822551, 40.85015148077623, 6030.093638657225, 365.9181134459462, 615.4951784500605, 1331.7986527489468, 3172.731170856216, 965.6790684131997, 496.5364455352288, 2211.564024498355, 736.7792326372668, 1727.4568114674996, 159.90492884501464, 1748.5152345062859, 536.3443378506201, 254.6430320434, 1195.580851525719, 300.3322901129237, 1207.6085096394859, 614.8096200970623, 955.6551719081993, 665.4540510802917, 789.6063759702553, 1289.7213863011186, 1434.9390805471674, 1761.9585822891281, 644.2313127864176, 678.5273936821403, 2464.2940086164285, 1507.4911996102057, 1108.627586442159, 522.7345699129944, 301.57392230346005, 203.91857140960352, 108.17803131884847, 92.85954490437973, 86.15770709582853, 73.71143688464018, 56.47813966977072, 49.77630186351379, 44.03186945811548, 44.03186945761313, 43.07446405242285, 42.11705865685005, 41.1596532471724, 35.41522084937837, 34.45781544809739, 32.5430046451715, 31.58559924365758, 29.67078844433152, 27.755977641876648, 26.798572241495062, 25.841166841457067, 24.88376144075257, 24.883761437453895, 23.926356038819105, 23.926356037820575, 23.926356038931317, 23.926356034442616, 23.926356034275408, 104.3206209190392, 51.6803362099452, 46.90387881862929, 64.1218994843221, 98.52527563758962, 2255.9419701758343, 71.74609969576271, 127.21594262965223, 42.09751742279241, 215.80509125508183, 52.62894882896296, 880.5644701699742, 416.5836130175482, 766.8181169412977, 113.71437839702635, 53.59984399853714, 48.81566448599485, 1331.3754476780327, 750.2925995496372, 759.1002587511663, 609.6539274337299, 1017.0283148155102, 258.1365168467073, 1434.9390805471674, 415.508847486443, 133.81184092293034, 438.0140386944813, 1456.6960927573843, 887.7301074141386, 6030.093638657225, 1807.9919916240265, 1071.1396498889412, 1761.9585822891281, 1207.6085096394859, 2464.2940086164285, 494.42784207903105, 3172.731170856216, 591.3761619274959, 620.2614005322332, 1507.4911996102057, 1289.7213863011186, 384.44507155967995, 247.7532693315663, 115.80771023562647, 77.83776517242919, 77.83776517454768, 74.99001929399766, 62.6497871473372, 52.208052255011076, 50.30955500218346, 49.360306375151985, 43.66481461514103, 37.02007422936549, 37.02007422850894, 35.12157697514835, 35.12157697744253, 34.17232835018393, 34.172328349415935, 34.17232835131936, 33.22307972314042, 33.22307972365869, 32.273831098213506, 31.324582469903426, 31.324582469230293, 29.426085216851277, 28.476836590273365, 28.47683659066516, 27.52758796366341, 27.52758796297902, 26.57833933990378, 26.578339336267874, 99.62945963750042, 51.25972900632997, 2584.3998051154654, 153.7570184066717, 726.9351839202267, 262.1010111525977, 145.246624643403, 103.46522864746692, 129.1817457275188, 176.6729341452826, 64.55351535079964, 85.27413078743987, 116.85233789151287, 41.7677327979431, 450.83791515496455, 537.5217979943008, 129.90371571040723, 118.8116732241201, 118.86542330964848, 331.6705937455737, 190.93940402415754, 755.2857617438092, 407.16078437813405, 182.5326492614426, 125.5377340154391, 431.1841682032062, 1350.806981419142, 718.8023599042165, 379.75086499996655, 2464.2940086164285, 200.19896453650543, 1775.8574504315307, 276.4829812608321, 340.91073157189663, 1533.782826797701, 1807.9919916240265, 636.0918890746891, 649.8206012968932, 2966.278365352056, 3172.731170856216, 283.16887169372757, 698.2080221697578, 6030.093638657225, 831.91693608282, 1748.5152345062859, 138.32003780850226, 119.24067511585304, 98.25337615403504, 69.6343321140442, 62.00258703590169, 55.324810094169194, 42.92322433528749, 32.42957485951911, 32.42957486129937, 31.47560672474591, 30.521638589632865, 28.613702322550207, 28.61370231952008, 28.61370231952008, 26.705766054162716, 127.8063792989552, 22.889893515039677, 22.88989351523799, 22.889893512910348, 22.889893511091227, 21.935925377400245, 21.935925376695455, 20.98195724495118, 20.027989111255053, 19.074020978953346, 19.074020967034503, 18.120052841629562, 18.12005284019759, 18.120052842160455, 18.120052840729443, 1389.909364840215, 139.99043363273017, 434.59174180930745, 133.46434268803938, 51.482683320515996, 64.82071044206457, 131.85980062286987, 225.2518883732356, 262.715898783375, 43.84415229311374, 309.52752935666, 123.82177869282953, 657.2157013870137, 1404.3226288614394, 2966.278365352056, 2464.2940086164285, 93.53189184786078, 204.44882803517675, 698.2080221697578, 6030.093638657225, 493.45941222876536, 1350.806981419142, 3172.731170856216, 572.4772594770674, 557.8310283195791, 326.0637157020091, 576.9567402184877, 248.59897019406648, 955.6551719081993, 571.1651231254707, 1331.7986527489468, 2211.564024498355, 1195.580851525719, 1331.3754476780327, 1730.9054930849243, 1434.9390805471674, 274.1709351785697, 244.76158944318024, 192.5837179782822, 177.40470082499132, 118.58600935611109, 65.45944931973769, 32.25534929780449, 27.511906437342326, 27.511906437374307, 26.563217867327538, 25.61452929579729, 24.665840719877448, 23.717152149084967, 23.717152149157464, 23.717152149132705, 23.717152149124946, 22.768463577328824, 22.768463576900107, 21.81977500414846, 21.819775003951243, 19.92239786147216, 18.973709288173612, 18.97370929040838, 18.97370928751019, 18.97370928885445, 18.02502071748094, 18.02502071707297, 18.025020716431687, 16.12764357225911, 16.12764357293683, 861.5909614214078, 1155.5134349914658, 158.49360495192775, 589.4638251788124, 95.8260718987658, 38.86301653046417, 30.371331512612606, 1171.7702980334282, 545.3502465426678, 759.1002587511663, 68.4228706759612, 609.6539274337299, 125.17526387415724, 30.36182558447923, 164.14534946154808, 2255.9419701758343, 464.4207950262217, 415.04230141235877, 1507.4911996102057, 756.8891640052683, 49.41912945103752, 179.98958661659506, 477.88803253321606, 1519.6540717668959, 1289.7213863011186, 2211.564024498355, 3172.731170856216, 657.2157013870137, 6030.093638657225, 1331.3754476780327, 1108.627586442159, 1727.4568114674996, 620.2614005322332, 1748.5152345062859, 1761.9585822891281, 1331.7986527489468, 485.7203299598849, 254.3302860598398, 97.52050424340625, 97.52050424238513, 84.13430335298575, 80.30967452910906, 74.572731294247, 73.61657408457349, 69.79194526117226, 69.79194523940646, 68.83578805637408, 68.83578805045045, 63.09884481850294, 58.318058789347624, 57.36190157970769, 46.84417231329659, 44.93185790054952, 43.019543488111644, 40.15107187140348, 39.19491466574387, 39.19491466553144, 34.41412863560793, 30.58949980963674, 29.633342602671636, 29.63334259900851, 29.633342595423503, 26.764870984545098, 26.76487098464557, 25.80871377798879, 24.852556568183346, 201.57492564182257, 91.72877659886831, 44.92453150752384, 103.21414947015015, 577.7483777050568, 276.933522763907, 80.18527654434956, 154.73764835679435, 116.59888308353443, 74.49670929508778, 70.66257939497801, 55.49271375955025, 153.7591223855868, 334.90750764671924, 1456.6960927573843, 500.59577191616677, 275.1986130862628, 260.184129757856, 743.4107398114384, 591.3761619274959, 564.5781517658043, 196.0438820191384, 6030.093638657225, 177.37217563899915, 2211.564024498355, 440.43686346443275, 1017.0283148155102, 750.2925995496372, 887.7301074141386, 1071.1396498889412, 1335.4089852106886, 718.8023599042165, 1519.6540717668959, 705.44437359514, 657.2157013870137, 415.04230141235877, 302.4757482724856, 1507.4911996102057, 1748.5152345062859, 1807.9919916240265, 157.51916869098577, 86.77946585951844, 72.63152529355312, 60.36997680100707, 57.54038868791589, 56.59719265040377, 55.653996613365145, 53.76760453815363, 53.76760453815363, 53.76760453815363, 53.76760453676692, 46.22203623268563, 37.73327189435132, 33.96048774531598, 30.1877035926306, 30.18770359297356, 26.41491944014899, 22.642135289291243, 21.698939250984623, 20.75574321340148, 20.75574321555755, 18.8693511382972, 17.92615510036487, 16.982959079926356, 16.039763025116727, 16.03976302558061, 16.03976302437321, 83.99622753177906, 14.1533709496972, 14.153370952772077, 304.0918046312968, 49.09617597459776, 242.59254391321576, 340.8406288808704, 181.46248907429666, 200.20533117351988, 54.6880375676767, 78.26128798637282, 114.31999607799207, 1335.4089852106886, 204.70677904275155, 384.9007430718876, 73.67064024177485, 172.61588605132425, 170.21389536884948, 917.7860382962798, 2966.278365352056, 1171.7702980334282, 965.6790684131997, 777.1305058984537, 705.44437359514, 564.5781517658043, 557.0130065540329, 591.3761619274959, 224.78276707604482, 283.3922571072879, 743.4107398114384, 1350.806981419142, 1519.6540717668959, 1507.4911996102057, 1108.627586442159, 2211.564024498355, 736.7792326372668, 1748.5152345062859, 1761.9585822891281, 6030.093638657225, 400.88918814558457, 367.63997280334144, 236.54306658283585, 221.3434252792531, 183.34432202951203, 149.14512910310617, 95.9463845497225, 94.99640696791874, 80.74674324611793, 69.34701227382091, 60.797214040957115, 56.9973037149921, 56.04732613550441, 55.09734855363619, 54.14737097154153, 47.497527903155195, 47.49752790357363, 46.547550313880805, 43.69761757963967, 42.747639996360164, 41.79766241506082, 41.79766241506082, 39.89770725232124, 38.94772967084578, 36.097796927198594, 34.197841764745775, 33.247864180395254, 31.34790902073608, 30.397931439265218, 29.447953858578973, 831.8478279582373, 200.36006707248524, 118.80267641103258, 579.0954379174507, 265.54507400391276, 59.79035881853202, 1807.9919916240265, 705.44437359514, 204.21815485924947, 215.86024862741664, 73.33928202516806, 789.6063759702553, 644.2341830596641, 1335.4089852106886, 411.75708949970004, 92.22487008244275, 167.23362874825784, 1507.4911996102057, 201.55603921494637, 326.0637157020091, 157.14114998660435, 2464.2940086164285, 2966.278365352056, 2211.564024498355, 750.2925995496372, 1519.6540717668959, 887.7301074141386, 6030.093638657225, 3172.731170856216, 214.37943261342838, 157.02577984687056, 103.43302234721784, 100.61235089900264, 98.73190326898009, 87.44921747888327, 84.62854602911617, 84.62854603137579, 79.92742695042648, 71.46541260665444, 66.7642935286123, 59.242503000283676, 50.78048865933631, 42.31847431651329, 41.37825050380532, 39.497802868691195, 38.55757905653986, 35.73690761393406, 34.796683788879896, 34.796683788879896, 34.7966837941769, 32.91623615734623, 32.91623616221354, 31.9760123413054, 31.9760123413054, 31.9760123413054, 31.9760123413054, 31.9760123413054, 31.9760123413054, 31.9760123413054, 1730.9054930849243, 231.72216773332758, 50.79345477105634, 50.80290644130246, 72.42112466007578, 41.39572010827563, 40.4544483172015, 295.0579117697516, 181.73210924401337, 155.56099846550526, 315.82647998207506, 124.33426209806348, 378.4074855663859, 87.61753556445612, 1071.1396498889412, 280.11034391169306, 379.2183543112051, 434.2350189398159, 1456.6960927573843, 1761.9585822891281, 255.01699351681629, 557.8310283195791, 297.10704377266615, 326.7170904308022, 183.56695180418785, 1171.7702980334282, 546.945323784098, 276.4829812608321, 1331.3754476780327, 538.2992286141894, 1017.0283148155102, 571.1651231254707, 1185.0419133603427, 538.9117850771962, 506.3659712083439, 175.16445359444396, 174.20722378014472, 156.97708702580644, 148.3620186465633, 131.13188189392727, 101.45775748003616, 93.79991892632975, 69.8691734304749, 60.29687523577804, 55.51072613599913, 51.681806856905524, 51.68180685403872, 47.85288758013175, 47.85288757727604, 44.981198121081704, 44.98119812023237, 44.02396830103466, 44.02396830156934, 41.152278841210396, 40.19504902356009, 39.2378192053217, 39.2378192053217, 38.28058938569933, 38.28058938336255, 36.36612974618446, 36.36612974458395, 35.40889992776646, 1353.071471085961, 217.17749648917857, 346.2937712172318, 152.0935777669866, 323.3192720185254, 142.62389917569269, 302.85166568840845, 190.3279363359721, 234.52661335577582, 226.63106776409174, 766.8181169412977, 73.60506892672383, 79.24379026179247, 102.19081209552567, 77.4143302754145, 312.4702386199806, 238.59408316561726, 494.42784207903105, 2966.278365352056, 261.68537125863907, 887.7301074141386, 173.25226092154566, 416.02006409797707, 2464.2940086164285, 354.0365299597505, 1533.782826797701, 266.4788701054423, 197.74231766340836, 176.0855956611378, 158.19526009106872, 115.82341269346189, 113.94021948073672, 47.08686025264392, 45.20366703662181, 43.3204738185909, 39.554087383411044, 37.670894163546684, 37.670894169405656, 36.72929755759359, 34.84610433672367, 34.846104339077094, 32.962911120595095, 32.02131451412561, 26.371734862964882, 26.371734861248516, 24.488541640417353, 23.546945031640053, 23.546945033282466, 22.6053484219469, 22.60534842256245, 22.60534842725155, 20.72215520965555, 19.780558598408074, 17.89736538017782, 16.0141721652918, 16.014172165937463, 259.5421342059952, 29.207859376874982, 59.375892456639846, 40.537447787450816, 108.53120171441934, 329.37772845412843, 66.05783407775584, 57.572451594646026, 47.158390261729544, 99.06787817628778, 389.37502591336505, 78.4062740822894, 302.4757482724856, 337.8109968708276, 217.7853320828181, 572.4772594770674, 191.0738549152849, 120.47732975281018, 349.15643738409625, 917.7860382962798, 99.36878767156728, 260.2021487046183, 343.5045672270136, 1331.7986527489468, 2464.2940086164285, 615.4951784500605, 1331.3754476780327, 965.6790684131997, 887.7301074141386, 496.87314902198875, 1761.9585822891281, 3172.731170856216, 1404.3226288614394, 459.2246604963905, 453.6245460287717, 301.48810294737393, 160.551888802345, 146.55160262460836, 144.68489780920817, 98.01727722471757, 88.6837531084761, 78.41687658015042, 72.81676211695812, 42.94948494279649, 34.54931324483622, 31.74925600316934, 31.749256010104094, 31.749256016618776, 29.882551185458528, 28.94919877223011, 28.015846357653338, 125.1367172446798, 25.215789135641774, 24.28243671629083, 21.482379477481818, 21.482379484854654, 21.482379489831217, 20.54902707286707, 20.54902707286707, 19.615674655798042, 18.682322250078293, 17.74896983519822, 16.815617429895177, 73.91199946543794, 57.93470766282176, 70.19271788040734, 464.3263254445437, 26.174386438598123, 32.77034089285472, 102.58135141339874, 165.90810953017066, 573.3891364979723, 108.42740571661675, 102.30890018658397, 579.0954379174507, 298.2676704537468, 644.2341830596641, 438.1233050167259, 1775.8574504315307, 743.4107398114384, 575.5709469024016, 2464.2940086164285, 1155.5134349914658, 1507.4911996102057, 614.8096200970623, 384.9007430718876, 1807.9919916240265, 727.6071898478293, 95.21585537092867, 87.74914417178567, 141.9098585747718, 63.48233276116203, 52.28226594676529, 48.5489103438265, 48.54891034385194, 48.54891034385194, 48.54891034385194, 47.615571443315005, 47.615571443315005, 47.615571443315005, 47.615571443315005, 47.615571443315005, 43.88221585038672, 42.94887694101932, 42.01553804398972, 40.14886024115653, 36.415504637771384, 36.41550465002247, 35.482165736699145, 35.48216573689254, 35.48216573787294, 34.54882683620643, 34.54882683620643, 34.54882683620643, 34.54882683620643, 34.54882683620643, 34.54882683620643, 34.54882683620643, 50.42855439737871, 44.8364101737997, 313.17872569276767, 42.98275685770166, 416.02006409797707, 99.41589989077363, 99.38214914549259, 100.11321128420691, 64.68186777165815, 228.92807962502135, 50.63436776925981, 99.46790623906395, 164.7337338289674, 82.16243123037259, 302.85166568840845, 331.6705937455737, 157.25639961770662, 2966.278365352056, 144.44527545221422, 199.23596188544852, 354.0365299597505, 126.24790780047786, 197.87088848041765, 917.7860382962798, 454.0883816214212, 481.5159182708724, 266.04433443806664, 126.50914533555252, 204.32325526907786, 1353.071471085961], \"Category\": [\"Default\", \"Default\", \"Default\", \"Default\", \"Default\", \"Default\", \"Default\", \"Default\", \"Default\", \"Default\", \"Default\", \"Default\", \"Default\", \"Default\", \"Default\", \"Default\", \"Default\", \"Default\", \"Default\", \"Default\", \"Default\", \"Default\", \"Default\", \"Default\", \"Default\", \"Default\", \"Default\", \"Default\", \"Default\", \"Default\", \"Topic1\", \"Topic1\", \"Topic1\", \"Topic1\", \"Topic1\", \"Topic1\", \"Topic1\", \"Topic1\", \"Topic1\", \"Topic1\", \"Topic1\", \"Topic1\", \"Topic1\", \"Topic1\", \"Topic1\", \"Topic1\", \"Topic1\", \"Topic1\", \"Topic1\", \"Topic1\", \"Topic1\", \"Topic1\", \"Topic1\", \"Topic1\", \"Topic1\", \"Topic1\", \"Topic1\", \"Topic1\", \"Topic1\", \"Topic1\", \"Topic1\", \"Topic1\", \"Topic1\", \"Topic1\", \"Topic1\", \"Topic1\", \"Topic1\", \"Topic1\", \"Topic1\", \"Topic1\", \"Topic1\", \"Topic1\", \"Topic1\", \"Topic1\", \"Topic1\", \"Topic1\", \"Topic1\", \"Topic1\", \"Topic1\", \"Topic1\", \"Topic1\", \"Topic1\", \"Topic1\", \"Topic1\", \"Topic1\", \"Topic2\", \"Topic2\", \"Topic2\", \"Topic2\", \"Topic2\", \"Topic2\", \"Topic2\", \"Topic2\", \"Topic2\", \"Topic2\", \"Topic2\", \"Topic2\", \"Topic2\", \"Topic2\", \"Topic2\", \"Topic2\", \"Topic2\", \"Topic2\", \"Topic2\", \"Topic2\", \"Topic2\", \"Topic2\", \"Topic2\", \"Topic2\", \"Topic2\", \"Topic2\", \"Topic2\", \"Topic2\", \"Topic2\", \"Topic2\", \"Topic2\", \"Topic2\", \"Topic2\", \"Topic2\", \"Topic2\", \"Topic2\", \"Topic2\", \"Topic2\", \"Topic2\", \"Topic2\", \"Topic2\", \"Topic2\", \"Topic2\", \"Topic2\", \"Topic2\", \"Topic2\", \"Topic2\", \"Topic2\", \"Topic2\", \"Topic2\", \"Topic2\", \"Topic2\", \"Topic2\", \"Topic2\", \"Topic2\", \"Topic2\", \"Topic2\", \"Topic2\", \"Topic2\", \"Topic2\", \"Topic2\", \"Topic2\", \"Topic2\", \"Topic2\", \"Topic2\", \"Topic2\", \"Topic2\", \"Topic2\", \"Topic2\", \"Topic2\", \"Topic2\", \"Topic2\", \"Topic2\", \"Topic2\", \"Topic2\", \"Topic2\", \"Topic2\", \"Topic2\", \"Topic3\", \"Topic3\", \"Topic3\", \"Topic3\", \"Topic3\", \"Topic3\", \"Topic3\", \"Topic3\", \"Topic3\", \"Topic3\", \"Topic3\", \"Topic3\", \"Topic3\", \"Topic3\", \"Topic3\", \"Topic3\", \"Topic3\", \"Topic3\", \"Topic3\", \"Topic3\", \"Topic3\", \"Topic3\", \"Topic3\", \"Topic3\", \"Topic3\", \"Topic3\", \"Topic3\", \"Topic3\", \"Topic3\", \"Topic3\", \"Topic3\", \"Topic3\", \"Topic3\", \"Topic3\", \"Topic3\", \"Topic3\", \"Topic3\", \"Topic3\", \"Topic3\", \"Topic3\", \"Topic3\", \"Topic3\", \"Topic3\", \"Topic3\", \"Topic3\", \"Topic3\", \"Topic3\", \"Topic3\", \"Topic3\", \"Topic3\", \"Topic3\", \"Topic3\", \"Topic3\", \"Topic3\", \"Topic3\", \"Topic3\", \"Topic3\", \"Topic3\", \"Topic3\", \"Topic3\", \"Topic3\", \"Topic3\", \"Topic3\", \"Topic3\", \"Topic3\", \"Topic3\", \"Topic3\", \"Topic3\", \"Topic3\", \"Topic3\", \"Topic3\", \"Topic3\", \"Topic3\", \"Topic3\", \"Topic3\", \"Topic3\", \"Topic3\", \"Topic4\", \"Topic4\", \"Topic4\", \"Topic4\", \"Topic4\", \"Topic4\", \"Topic4\", \"Topic4\", \"Topic4\", \"Topic4\", \"Topic4\", \"Topic4\", \"Topic4\", \"Topic4\", \"Topic4\", \"Topic4\", \"Topic4\", \"Topic4\", \"Topic4\", \"Topic4\", \"Topic4\", \"Topic4\", \"Topic4\", \"Topic4\", \"Topic4\", \"Topic4\", \"Topic4\", \"Topic4\", \"Topic4\", \"Topic4\", \"Topic4\", \"Topic4\", \"Topic4\", \"Topic4\", \"Topic4\", \"Topic4\", \"Topic4\", \"Topic4\", \"Topic4\", \"Topic4\", \"Topic4\", \"Topic4\", \"Topic4\", \"Topic4\", \"Topic4\", \"Topic4\", \"Topic4\", \"Topic4\", \"Topic4\", \"Topic4\", \"Topic4\", \"Topic4\", \"Topic4\", \"Topic4\", \"Topic4\", \"Topic4\", \"Topic4\", \"Topic4\", \"Topic4\", \"Topic4\", \"Topic4\", \"Topic4\", \"Topic4\", \"Topic4\", \"Topic4\", \"Topic4\", \"Topic4\", \"Topic4\", \"Topic4\", \"Topic4\", \"Topic5\", \"Topic5\", \"Topic5\", \"Topic5\", \"Topic5\", \"Topic5\", \"Topic5\", \"Topic5\", \"Topic5\", \"Topic5\", \"Topic5\", \"Topic5\", \"Topic5\", \"Topic5\", \"Topic5\", \"Topic5\", \"Topic5\", \"Topic5\", \"Topic5\", \"Topic5\", \"Topic5\", \"Topic5\", \"Topic5\", \"Topic5\", \"Topic5\", \"Topic5\", \"Topic5\", \"Topic5\", \"Topic5\", \"Topic5\", \"Topic5\", \"Topic5\", \"Topic5\", \"Topic5\", \"Topic5\", \"Topic5\", \"Topic5\", \"Topic5\", \"Topic5\", \"Topic5\", \"Topic5\", \"Topic5\", \"Topic5\", \"Topic5\", \"Topic5\", \"Topic5\", \"Topic5\", \"Topic5\", \"Topic5\", \"Topic5\", \"Topic5\", \"Topic5\", \"Topic5\", \"Topic5\", \"Topic5\", \"Topic5\", \"Topic5\", \"Topic5\", \"Topic5\", \"Topic5\", \"Topic5\", \"Topic5\", \"Topic5\", \"Topic5\", \"Topic5\", \"Topic5\", \"Topic5\", \"Topic5\", \"Topic5\", \"Topic5\", \"Topic5\", \"Topic5\", \"Topic5\", \"Topic5\", \"Topic5\", \"Topic6\", \"Topic6\", \"Topic6\", \"Topic6\", \"Topic6\", \"Topic6\", \"Topic6\", \"Topic6\", \"Topic6\", \"Topic6\", \"Topic6\", \"Topic6\", \"Topic6\", \"Topic6\", \"Topic6\", \"Topic6\", \"Topic6\", \"Topic6\", \"Topic6\", \"Topic6\", \"Topic6\", \"Topic6\", \"Topic6\", \"Topic6\", \"Topic6\", \"Topic6\", \"Topic6\", \"Topic6\", \"Topic6\", \"Topic6\", \"Topic6\", \"Topic6\", \"Topic6\", \"Topic6\", \"Topic6\", \"Topic6\", \"Topic6\", \"Topic6\", \"Topic6\", \"Topic6\", \"Topic6\", \"Topic6\", \"Topic6\", \"Topic6\", \"Topic6\", \"Topic6\", \"Topic6\", \"Topic6\", \"Topic6\", \"Topic6\", \"Topic6\", \"Topic6\", \"Topic6\", \"Topic6\", \"Topic6\", \"Topic6\", \"Topic6\", \"Topic6\", \"Topic6\", \"Topic6\", \"Topic6\", \"Topic6\", \"Topic6\", \"Topic6\", \"Topic6\", \"Topic6\", \"Topic7\", \"Topic7\", \"Topic7\", \"Topic7\", \"Topic7\", \"Topic7\", \"Topic7\", \"Topic7\", \"Topic7\", \"Topic7\", \"Topic7\", \"Topic7\", \"Topic7\", \"Topic7\", \"Topic7\", \"Topic7\", \"Topic7\", \"Topic7\", \"Topic7\", \"Topic7\", \"Topic7\", \"Topic7\", \"Topic7\", \"Topic7\", \"Topic7\", \"Topic7\", \"Topic7\", \"Topic7\", \"Topic7\", \"Topic7\", \"Topic7\", \"Topic7\", \"Topic7\", \"Topic7\", \"Topic7\", \"Topic7\", \"Topic7\", \"Topic7\", \"Topic7\", \"Topic7\", \"Topic7\", \"Topic7\", \"Topic7\", \"Topic7\", \"Topic7\", \"Topic7\", \"Topic7\", \"Topic7\", \"Topic7\", \"Topic7\", \"Topic7\", \"Topic7\", \"Topic7\", \"Topic7\", \"Topic7\", \"Topic7\", \"Topic7\", \"Topic7\", \"Topic7\", \"Topic7\", \"Topic7\", \"Topic7\", \"Topic7\", \"Topic7\", \"Topic7\", \"Topic7\", \"Topic8\", \"Topic8\", \"Topic8\", \"Topic8\", \"Topic8\", \"Topic8\", \"Topic8\", \"Topic8\", \"Topic8\", \"Topic8\", \"Topic8\", \"Topic8\", \"Topic8\", \"Topic8\", \"Topic8\", \"Topic8\", \"Topic8\", \"Topic8\", \"Topic8\", \"Topic8\", \"Topic8\", \"Topic8\", \"Topic8\", \"Topic8\", \"Topic8\", \"Topic8\", \"Topic8\", \"Topic8\", \"Topic8\", \"Topic8\", \"Topic8\", \"Topic8\", \"Topic8\", \"Topic8\", \"Topic8\", \"Topic8\", \"Topic8\", \"Topic8\", \"Topic8\", \"Topic8\", \"Topic8\", \"Topic8\", \"Topic8\", \"Topic8\", \"Topic8\", \"Topic8\", \"Topic8\", \"Topic8\", \"Topic8\", \"Topic8\", \"Topic8\", \"Topic8\", \"Topic8\", \"Topic8\", \"Topic8\", \"Topic8\", \"Topic8\", \"Topic8\", \"Topic8\", \"Topic8\", \"Topic8\", \"Topic8\", \"Topic8\", \"Topic8\", \"Topic8\", \"Topic8\", \"Topic8\", \"Topic8\", \"Topic8\", \"Topic8\", \"Topic9\", \"Topic9\", \"Topic9\", \"Topic9\", \"Topic9\", \"Topic9\", \"Topic9\", \"Topic9\", \"Topic9\", \"Topic9\", \"Topic9\", \"Topic9\", \"Topic9\", \"Topic9\", \"Topic9\", \"Topic9\", \"Topic9\", \"Topic9\", \"Topic9\", \"Topic9\", \"Topic9\", \"Topic9\", \"Topic9\", \"Topic9\", \"Topic9\", \"Topic9\", \"Topic9\", \"Topic9\", \"Topic9\", \"Topic9\", \"Topic9\", \"Topic9\", \"Topic9\", \"Topic9\", \"Topic9\", \"Topic9\", \"Topic9\", \"Topic9\", \"Topic9\", \"Topic9\", \"Topic9\", \"Topic9\", \"Topic9\", \"Topic9\", \"Topic9\", \"Topic9\", \"Topic9\", \"Topic9\", \"Topic9\", \"Topic9\", \"Topic9\", \"Topic9\", \"Topic9\", \"Topic9\", \"Topic9\", \"Topic9\", \"Topic9\", \"Topic9\", \"Topic9\", \"Topic9\", \"Topic9\", \"Topic9\", \"Topic9\", \"Topic9\", \"Topic9\", \"Topic9\", \"Topic10\", \"Topic10\", \"Topic10\", \"Topic10\", \"Topic10\", \"Topic10\", \"Topic10\", \"Topic10\", \"Topic10\", \"Topic10\", \"Topic10\", \"Topic10\", \"Topic10\", \"Topic10\", \"Topic10\", \"Topic10\", \"Topic10\", \"Topic10\", \"Topic10\", \"Topic10\", \"Topic10\", \"Topic10\", \"Topic10\", \"Topic10\", \"Topic10\", \"Topic10\", \"Topic10\", \"Topic10\", \"Topic10\", \"Topic10\", \"Topic10\", \"Topic10\", \"Topic10\", \"Topic10\", \"Topic10\", \"Topic10\", \"Topic10\", \"Topic10\", \"Topic10\", \"Topic10\", \"Topic10\", \"Topic10\", \"Topic10\", \"Topic10\", \"Topic10\", \"Topic10\", \"Topic10\", \"Topic10\", \"Topic10\", \"Topic10\", \"Topic10\", \"Topic10\", \"Topic10\", \"Topic10\", \"Topic10\", \"Topic10\", \"Topic10\", \"Topic10\", \"Topic10\", \"Topic11\", \"Topic11\", \"Topic11\", \"Topic11\", \"Topic11\", \"Topic11\", \"Topic11\", \"Topic11\", \"Topic11\", \"Topic11\", \"Topic11\", \"Topic11\", \"Topic11\", \"Topic11\", \"Topic11\", \"Topic11\", \"Topic11\", \"Topic11\", \"Topic11\", \"Topic11\", \"Topic11\", \"Topic11\", \"Topic11\", \"Topic11\", \"Topic11\", \"Topic11\", \"Topic11\", \"Topic11\", \"Topic11\", \"Topic11\", \"Topic11\", \"Topic11\", \"Topic11\", \"Topic11\", \"Topic11\", \"Topic11\", \"Topic11\", \"Topic11\", \"Topic11\", \"Topic11\", \"Topic11\", \"Topic11\", \"Topic11\", \"Topic11\", \"Topic11\", \"Topic11\", \"Topic11\", \"Topic11\", \"Topic11\", \"Topic11\", \"Topic11\", \"Topic11\", \"Topic11\", \"Topic11\", \"Topic11\", \"Topic11\", \"Topic11\", \"Topic11\", \"Topic11\", \"Topic11\", \"Topic11\", \"Topic11\", \"Topic12\", \"Topic12\", \"Topic12\", \"Topic12\", \"Topic12\", \"Topic12\", \"Topic12\", \"Topic12\", \"Topic12\", \"Topic12\", \"Topic12\", \"Topic12\", \"Topic12\", \"Topic12\", \"Topic12\", \"Topic12\", \"Topic12\", \"Topic12\", \"Topic12\", \"Topic12\", \"Topic12\", \"Topic12\", \"Topic12\", \"Topic12\", \"Topic12\", \"Topic12\", \"Topic12\", \"Topic12\", \"Topic12\", \"Topic12\", \"Topic12\", \"Topic12\", \"Topic12\", \"Topic12\", \"Topic12\", \"Topic12\", \"Topic12\", \"Topic12\", \"Topic12\", \"Topic12\", \"Topic12\", \"Topic12\", \"Topic12\", \"Topic12\", \"Topic12\", \"Topic12\", \"Topic12\", \"Topic12\", \"Topic12\", \"Topic12\", \"Topic12\", \"Topic12\", \"Topic12\", \"Topic12\", \"Topic12\", \"Topic12\", \"Topic13\", \"Topic13\", \"Topic13\", \"Topic13\", \"Topic13\", \"Topic13\", \"Topic13\", \"Topic13\", \"Topic13\", \"Topic13\", \"Topic13\", \"Topic13\", \"Topic13\", \"Topic13\", \"Topic13\", \"Topic13\", \"Topic13\", \"Topic13\", \"Topic13\", \"Topic13\", \"Topic13\", \"Topic13\", \"Topic13\", \"Topic13\", \"Topic13\", \"Topic13\", \"Topic13\", \"Topic13\", \"Topic13\", \"Topic13\", \"Topic13\", \"Topic13\", \"Topic13\", \"Topic13\", \"Topic13\", \"Topic13\", \"Topic13\", \"Topic13\", \"Topic13\", \"Topic13\", \"Topic13\", \"Topic13\", \"Topic13\", \"Topic13\", \"Topic13\", \"Topic13\", \"Topic13\", \"Topic13\", \"Topic13\", \"Topic13\", \"Topic13\", \"Topic13\", \"Topic13\", \"Topic13\", \"Topic13\", \"Topic13\", \"Topic13\", \"Topic13\", \"Topic13\", \"Topic13\", \"Topic13\", \"Topic13\", \"Topic13\", \"Topic14\", \"Topic14\", \"Topic14\", \"Topic14\", \"Topic14\", \"Topic14\", \"Topic14\", \"Topic14\", \"Topic14\", \"Topic14\", \"Topic14\", \"Topic14\", \"Topic14\", \"Topic14\", \"Topic14\", \"Topic14\", \"Topic14\", \"Topic14\", \"Topic14\", \"Topic14\", \"Topic14\", \"Topic14\", \"Topic14\", \"Topic14\", \"Topic14\", \"Topic14\", \"Topic14\", \"Topic14\", \"Topic14\", \"Topic14\", \"Topic14\", \"Topic14\", \"Topic14\", \"Topic14\", \"Topic14\", \"Topic14\", \"Topic14\", \"Topic14\", \"Topic14\", \"Topic14\", \"Topic14\", \"Topic14\", \"Topic14\", \"Topic14\", \"Topic14\", \"Topic14\", \"Topic14\", \"Topic14\", \"Topic14\", \"Topic14\", \"Topic14\", \"Topic14\", \"Topic14\", \"Topic14\", \"Topic14\", \"Topic15\", \"Topic15\", \"Topic15\", \"Topic15\", \"Topic15\", \"Topic15\", \"Topic15\", \"Topic15\", \"Topic15\", \"Topic15\", \"Topic15\", \"Topic15\", \"Topic15\", \"Topic15\", \"Topic15\", \"Topic15\", \"Topic15\", \"Topic15\", \"Topic15\", \"Topic15\", \"Topic15\", \"Topic15\", \"Topic15\", \"Topic15\", \"Topic15\", \"Topic15\", \"Topic15\", \"Topic15\", \"Topic15\", \"Topic15\", \"Topic15\", \"Topic15\", \"Topic15\", \"Topic15\", \"Topic15\", \"Topic15\", \"Topic15\", \"Topic15\", \"Topic15\", \"Topic15\", \"Topic15\", \"Topic15\", \"Topic15\", \"Topic15\", \"Topic15\", \"Topic15\", \"Topic15\", \"Topic15\", \"Topic15\", \"Topic15\", \"Topic15\", \"Topic15\", \"Topic15\", \"Topic15\", \"Topic15\", \"Topic15\", \"Topic15\", \"Topic15\", \"Topic15\", \"Topic15\"], \"logprob\": [30.0, 29.0, 28.0, 27.0, 26.0, 25.0, 24.0, 23.0, 22.0, 21.0, 20.0, 19.0, 18.0, 17.0, 16.0, 15.0, 14.0, 13.0, 12.0, 11.0, 10.0, 9.0, 8.0, 7.0, 6.0, 5.0, 4.0, 3.0, 2.0, 1.0, -3.6138, -3.8453, -4.0193, -4.1208, -4.9094, -5.2724, -5.3197, -5.5216, -5.5447, -5.7573, -5.8107, -5.8999, -5.9066, -5.9133, -6.0901, -6.1146, -6.1229, -6.1229, -6.1229, -6.2008, -6.2099, -6.2099, -6.219, -6.2469, -6.2564, -6.3356, -4.3839, -6.3564, -6.367, -6.4675, -4.567, -5.9353, -5.6697, -5.5441, -5.9323, -4.7567, -4.3875, -5.924, -5.4082, -5.166, -4.6571, -5.7801, -4.6501, -5.3881, -4.772, -5.3912, -5.4824, -5.3225, -5.2913, -5.714, -5.5935, -5.5794, -5.5277, -5.4617, -5.6595, -5.0583, -5.654, -6.6919, -6.2206, -7.0504, -7.0504, -7.2234, -7.2234, -7.3683, -7.4327, -7.4327, -7.5378, -7.5378, -7.5755, -7.5755, -7.6146, -7.6146, -7.6553, -5.7343, -6.8515, -6.8515, -7.7421, -7.7884, -7.7884, -7.8882, -7.8882, -7.9421, -7.9421, -7.9421, -7.9421, -6.6726, -5.6552, -5.418, -7.3122, -5.4639, -6.4943, -5.8103, -5.5349, -6.9128, -6.0401, -5.4005, -5.98, -6.5035, -6.4587, -6.1448, -4.1246, -4.3328, -5.66, -4.9232, -5.0271, -5.9533, -5.6124, -6.1149, -4.9999, -4.5182, -4.3544, -5.3168, -3.7246, -5.9697, -5.7563, -5.8117, -5.1557, -4.9553, -5.0098, -5.2289, -5.1037, -5.4873, -5.3467, -5.1483, -5.4391, -5.3406, -5.1958, -5.2181, -5.2684, -5.3884, -5.4066, -5.463, -5.4974, -6.4295, -7.0327, -7.4133, -7.4873, -7.6539, -7.6539, -7.6539, -7.7489, -7.8, -7.8, -7.8539, -7.8539, -7.8539, -7.9108, -7.9712, -7.9712, -7.9712, -7.9712, -7.9712, -8.0354, -8.0354, -8.0354, -8.1041, -8.1041, -7.2309, -8.1779, -8.1779, -8.2575, -8.2575, -8.2575, -7.2404, -6.9019, -6.7744, -7.2534, -7.1841, -7.2588, -5.7013, -4.2576, -5.8883, -5.6686, -6.5055, -5.1312, -6.2918, -5.6895, -6.9293, -4.318, -6.4815, -7.191, -3.2063, -5.4558, -5.053, -4.4939, -3.8542, -4.7886, -5.3237, -4.2452, -5.0706, -4.5708, -6.2153, -4.5925, -5.3972, -5.9054, -4.8852, -5.8146, -4.9206, -5.3916, -5.216, -5.4491, -5.3773, -5.1427, -5.1105, -5.0378, -5.517, -5.5625, -5.4023, -5.563, -5.658, -4.3443, -4.8956, -5.2883, -5.9261, -6.0801, -6.1558, -6.3136, -6.5836, -6.712, -6.837, -6.837, -6.8595, -6.8824, -6.9059, -7.0598, -7.0879, -7.1467, -7.1774, -7.2418, -7.3106, -7.3469, -7.3845, -7.4236, -7.4236, -7.4644, -7.4644, -7.4644, -7.4644, -7.4644, -5.9924, -6.6972, -6.7974, -6.5251, -6.123, -3.1853, -6.4319, -5.9155, -6.9397, -5.4792, -6.74, -4.2637, -4.9483, -4.4553, -6.0784, -6.7292, -6.8103, -4.3523, -4.8054, -4.8054, -4.9888, -4.6574, -5.6178, -4.4474, -5.3525, -6.1139, -5.3961, -4.7247, -5.0177, -3.9787, -4.7259, -5.1058, -4.8922, -5.1232, -4.8651, -5.5266, -5.015, -5.5364, -5.5767, -5.4882, -5.5995, -4.56, -5.0006, -5.7652, -6.1663, -6.1663, -6.204, -6.3861, -6.5713, -6.609, -6.6284, -6.7534, -6.9222, -6.9222, -6.9762, -6.9762, -7.0043, -7.0043, -7.0043, -7.0332, -7.0332, -7.063, -7.0937, -7.0937, -7.1581, -7.192, -7.192, -7.227, -7.227, -7.2632, -7.2632, -5.9612, -6.6142, -2.7773, -5.5479, -4.0687, -5.0484, -5.6161, -5.9679, -5.7735, -5.4983, -6.4324, -6.1902, -5.9217, -6.8303, -4.7866, -4.6411, -5.8577, -5.9597, -5.9643, -5.1385, -5.5873, -4.5065, -4.9935, -5.6279, -5.9371, -5.0583, -4.5492, -4.9371, -5.3296, -4.4303, -5.7037, -4.643, -5.558, -5.4605, -4.7783, -4.7447, -5.1954, -5.2796, -4.8994, -5.113, -5.6109, -5.4844, -5.4307, -5.5825, -5.5752, -5.4175, -5.567, -5.7621, -6.1102, -6.2278, -6.3436, -6.6021, -6.8892, -6.8892, -6.92, -6.9516, -7.0182, -7.0182, -7.0182, -7.0895, -5.5293, -7.2494, -7.2494, -7.2494, -7.2494, -7.2937, -7.2937, -7.3401, -7.3887, -7.4398, -7.4398, -7.4937, -7.4937, -7.4937, -7.4937, -3.1935, -5.5296, -4.5179, -5.7089, -6.5614, -6.3607, -5.7548, -5.3319, -5.243, -6.7291, -5.3269, -6.0406, -4.936, -4.4339, -3.9698, -4.1156, -6.2814, -5.8125, -5.0662, -3.8993, -5.3945, -4.9389, -4.5542, -5.4543, -5.479, -5.7197, -5.5365, -5.8615, -5.4645, -5.6215, -5.3998, -5.2909, -5.4909, -5.5591, -5.5582, -5.6407, -4.6699, -4.7838, -5.0245, -5.107, -5.5123, -6.1126, -6.8346, -6.9986, -6.9986, -7.0348, -7.0725, -7.1116, -7.1523, -7.1523, -7.1523, -7.1523, -7.1947, -7.1947, -7.2391, -7.2391, -7.3341, -7.3852, -7.3852, -7.3852, -7.3852, -7.4391, -7.4391, -7.4391, -7.5564, -7.5564, -3.6205, -3.3337, -5.3144, -4.0598, -5.8457, -6.7193, -6.9487, -3.5987, -4.4054, -4.2185, -6.2796, -4.4666, -5.8852, -6.9767, -5.7128, -3.8966, -5.078, -5.2012, -4.352, -4.8983, -6.6602, -5.8808, -5.3141, -4.634, -4.732, -4.4963, -4.3605, -5.2325, -4.1268, -4.9723, -5.0923, -4.947, -5.386, -5.2459, -5.2549, -5.3777, -4.0963, -4.7449, -5.7091, -5.7091, -5.8582, -5.9053, -5.9802, -5.9933, -6.0473, -6.0473, -6.0613, -6.0613, -6.1495, -6.2295, -6.2462, -6.4523, -6.4948, -6.5392, -6.6097, -6.6344, -6.6344, -6.7677, -6.8888, -6.9215, -6.9215, -6.9215, -7.0266, -7.0266, -7.0643, -7.1034, -5.0172, -5.8107, -6.5209, -5.7191, -4.0789, -4.8031, -6.0138, -5.4605, -5.7136, -6.1286, -6.1762, -6.3632, -5.5899, -5.0065, -3.9318, -4.7414, -5.1961, -5.2907, -4.6764, -4.8754, -4.9369, -5.5519, -3.8961, -5.6249, -4.589, -5.3152, -5.0306, -5.1493, -5.1133, -5.0666, -5.0906, -5.2596, -5.1568, -5.4063, -5.4203, -5.4982, -5.5663, -5.4174, -5.4124, -5.547, -5.0689, -5.6697, -5.8497, -6.0371, -6.0859, -6.1027, -6.1197, -6.1548, -6.1548, -6.1548, -6.1548, -6.3087, -6.5161, -6.6241, -6.7452, -6.7452, -6.883, -7.0429, -7.0873, -7.1336, -7.1336, -7.2334, -7.2873, -7.3442, -7.4046, -7.4046, -7.4046, -5.7533, -7.5375, -7.5375, -4.5195, -6.3179, -4.7645, -4.4824, -5.0874, -4.9994, -6.2351, -5.9023, -5.6556, -3.6171, -5.201, -4.705, -6.0651, -5.4485, -5.4984, -4.3447, -4.0485, -4.7972, -4.9436, -5.0486, -5.1018, -5.2134, -5.2621, -5.2511, -5.6374, -5.5667, -5.266, -5.0943, -5.0603, -5.1645, -5.2498, -5.2068, -5.4698, -5.4076, -5.4639, -5.3945, -4.062, -4.1488, -4.5911, -4.6578, -4.847, -5.0545, -5.499, -5.509, -5.6732, -5.8272, -5.9606, -6.0262, -6.0432, -6.0606, -6.0783, -6.2116, -6.2116, -6.2322, -6.2967, -6.3191, -6.3421, -6.3421, -6.3896, -6.4143, -6.4921, -6.5476, -6.5765, -6.637, -6.6687, -6.7014, -3.4834, -4.8884, -5.3919, -4.1902, -4.8811, -6.0924, -3.591, -4.2905, -5.2, -5.1888, -5.9632, -4.4967, -4.6444, -4.2937, -4.9738, -5.8795, -5.636, -4.8263, -5.6106, -5.4504, -5.7017, -4.9175, -4.8834, -5.0196, -5.3024, -5.2161, -5.3318, -5.145, -5.3307, -4.6673, -4.9802, -5.4006, -5.4285, -5.4475, -5.57, -5.6032, -5.6032, -5.6609, -5.7742, -5.8431, -5.9643, -6.121, -6.3068, -6.3298, -6.3773, -6.402, -6.4798, -6.5072, -6.5072, -6.5072, -6.5642, -6.5642, -6.594, -6.594, -6.594, -6.594, -6.594, -6.594, -6.594, -2.6534, -4.6604, -6.1455, -6.1459, -5.8319, -6.3556, -6.3781, -4.5838, -5.0428, -5.1851, -4.5702, -5.3956, -4.4413, -5.726, -3.9203, -4.9407, -4.7356, -4.6402, -3.8489, -3.756, -5.059, -4.711, -5.1679, -5.1866, -5.4569, -4.9085, -5.2615, -5.4748, -5.2752, -5.3899, -5.3623, -5.4341, -2.9116, -3.7005, -3.7629, -4.8277, -4.8332, -4.9379, -4.9947, -5.1189, -5.3775, -5.4567, -5.7545, -5.9039, -5.9879, -6.0605, -6.0605, -6.1389, -6.1389, -6.202, -6.202, -6.2239, -6.2239, -6.2928, -6.3169, -6.3415, -6.3415, -6.3668, -6.3668, -6.4194, -6.4194, -6.4467, -2.8613, -4.6759, -4.2329, -5.0573, -4.415, -5.2605, -4.668, -5.0606, -4.9271, -4.9625, -4.288, -5.8852, -5.8585, -5.7323, -5.8869, -5.1649, -5.3329, -5.0169, -4.4462, -5.4788, -5.1367, -5.6387, -5.4782, -5.2986, -5.5942, -5.533, -4.3418, -4.6413, -4.7579, -4.8656, -5.1794, -5.1959, -6.0908, -6.1324, -6.1758, -6.2688, -6.3187, -6.3187, -6.3446, -6.3986, -6.3986, -6.4557, -6.4855, -6.6857, -6.6857, -6.7624, -6.8032, -6.8032, -6.8456, -6.8456, -6.8456, -6.9363, -6.9849, -7.0899, -7.2072, -7.2072, -4.5186, -6.6248, -5.9493, -6.3154, -5.3904, -4.4173, -5.9056, -6.0334, -6.2092, -5.5961, -4.4751, -5.8966, -4.9386, -4.8819, -5.2835, -4.8978, -5.5147, -5.794, -5.3191, -4.9374, -5.9468, -5.6458, -5.5682, -5.1816, -5.0087, -5.4213, -5.2239, -5.3185, -5.4939, -5.6803, -5.5495, -5.5451, -5.6328, -3.4457, -3.458, -3.8675, -4.5002, -4.592, -4.6049, -4.9972, -5.0983, -5.2226, -5.2976, -5.8341, -6.0569, -6.1438, -6.1438, -6.1438, -6.2061, -6.2389, -6.2727, -4.7773, -6.3816, -6.4207, -6.5482, -6.5482, -6.5482, -6.5946, -6.5946, -6.6432, -6.6943, -6.7482, -6.8051, -5.3701, -5.6058, -5.4916, -3.8569, -6.4017, -6.2281, -5.348, -4.9936, -4.4729, -5.5496, -5.5933, -4.654, -5.0278, -4.6881, -4.9556, -4.3092, -4.7323, -4.8692, -4.5549, -4.8294, -5.0643, -5.2722, -5.4071, -5.3107, -5.4718, -4.7711, -4.8535, -4.3767, -5.1812, -5.3783, -5.4537, -5.4537, -5.4537, -5.4537, -5.4735, -5.4735, -5.4735, -5.4735, -5.4735, -5.5568, -5.5787, -5.6012, -5.6476, -5.7475, -5.7475, -5.7741, -5.7741, -5.7741, -5.8015, -5.8015, -5.8015, -5.8015, -5.8015, -5.8015, -5.8015, -5.4404, -5.5623, -3.8343, -5.6122, -3.7692, -4.938, -4.9836, -5.0201, -5.3451, -4.5521, -5.5516, -5.1536, -4.8706, -5.3164, -4.7373, -4.7342, -5.0507, -4.0805, -5.1443, -5.0693, -4.941, -5.2156, -5.1114, -4.7628, -5.0231, -5.0125, -5.1575, -5.2848, -5.3185, -5.2857], \"loglift\": [30.0, 29.0, 28.0, 27.0, 26.0, 25.0, 24.0, 23.0, 22.0, 21.0, 20.0, 19.0, 18.0, 17.0, 16.0, 15.0, 14.0, 13.0, 12.0, 11.0, 10.0, 9.0, 8.0, 7.0, 6.0, 5.0, 4.0, 3.0, 2.0, 1.0, 2.1404, 2.1402, 2.1401, 2.14, 2.1388, 2.1378, 2.1376, 2.1369, 2.1368, 2.1358, 2.1355, 2.1349, 2.1349, 2.1349, 2.1337, 2.1335, 2.1334, 2.1334, 2.1334, 2.1328, 2.1327, 2.1327, 2.1327, 2.1324, 2.1324, 2.1316, 2.1315, 2.1314, 2.1313, 2.1303, 2.1159, 2.1265, 2.11, 2.0971, 2.1029, 1.6707, 1.3034, 1.9771, 1.6826, 1.5219, 0.9056, 1.7872, 0.3046, 1.1736, 0.25, 1.1081, 1.2121, 0.7052, 0.2593, 1.5318, 0.975, 0.3513, -0.3202, -1.1492, 0.8377, 2.229, 2.2267, 2.2173, 2.2126, 2.211, 2.211, 2.2071, 2.2071, 2.2033, 2.2014, 2.2014, 2.1981, 2.1981, 2.1968, 2.1968, 2.1954, 2.1954, 2.1939, 2.1921, 2.1915, 2.1915, 2.1906, 2.1887, 2.1887, 2.1842, 2.1842, 2.1816, 2.1816, 2.1816, 2.1816, 2.1758, 2.1513, 2.1403, 2.1725, 2.0961, 2.1312, 2.0708, 2.0485, 2.1294, 2.059, 1.9635, 2.0258, 2.0757, 2.0452, 1.9957, 1.557, 1.5362, 1.8176, 1.6042, 1.6057, 1.8478, 1.7301, 1.8783, 1.4993, 1.2516, 1.1807, 1.5234, 0.588, 1.7529, 1.6198, 1.6484, 1.1377, 0.7929, 0.7988, 0.9662, 0.7512, 1.2254, 1.0149, 0.3688, 0.8768, 0.6656, -0.1737, -0.2634, -0.1086, 0.4462, 0.144, 0.4577, 0.4333, 2.3092, 2.2991, 2.2888, 2.2863, 2.2801, 2.2801, 2.2801, 2.2761, 2.2737, 2.2737, 2.2712, 2.2712, 2.2712, 2.2683, 2.2651, 2.2651, 2.2651, 2.2651, 2.2651, 2.2614, 2.2614, 2.2614, 2.2573, 2.2573, 2.2549, 2.2525, 2.2525, 2.247, 2.247, 2.247, 2.2453, 2.2352, 2.2004, 2.2036, 2.1698, 2.1724, 1.9965, 1.7701, 1.9864, 1.9491, 2.0436, 1.8133, 1.9982, 1.8521, 2.0794, 1.5166, 1.9625, 2.1161, 1.1063, 1.6589, 1.5416, 1.3289, 1.1006, 1.3556, 1.4857, 1.0704, 1.3442, 0.9919, 1.7272, 0.958, 1.3351, 1.5718, 1.0455, 1.4976, 1.0001, 1.2042, 0.9386, 1.0675, 0.9682, 0.7122, 0.6377, 0.5051, 1.0321, 0.9346, -0.1948, 0.1359, 0.3482, 2.4137, 2.4125, 2.4111, 2.4072, 2.4059, 2.4051, 2.4034, 2.3996, 2.3975, 2.3951, 2.3951, 2.3947, 2.3942, 2.3937, 2.3901, 2.3894, 2.3879, 2.387, 2.3852, 2.383, 2.3819, 2.3806, 2.3792, 2.3792, 2.3778, 2.3778, 2.3778, 2.3778, 2.3778, 2.3772, 2.3748, 2.3716, 2.3312, 2.3038, 2.1104, 2.312, 2.2557, 2.3374, 2.1635, 2.3138, 1.9728, 2.0367, 1.9195, 2.205, 2.3063, 2.3188, 1.4708, 1.5912, 1.5796, 1.6154, 1.4351, 1.8458, 1.3008, 1.6351, 2.0068, 1.5387, 1.0085, 1.2107, 0.3338, 0.7912, 0.9348, 0.6508, 0.7975, 0.3423, 1.2871, -0.0602, 1.0983, 1.0102, 0.2107, 0.2554, 2.5053, 2.504, 2.5, 2.4962, 2.4962, 2.4958, 2.4934, 2.4905, 2.4899, 2.4895, 2.4871, 2.4834, 2.4834, 2.4821, 2.4821, 2.4814, 2.4814, 2.4814, 2.4806, 2.4806, 2.4798, 2.479, 2.479, 2.4771, 2.476, 2.476, 2.4749, 2.4749, 2.4737, 2.4737, 2.4545, 2.466, 2.3825, 2.4338, 2.3595, 2.4, 2.4226, 2.4099, 2.3823, 2.3445, 2.4172, 2.381, 2.3344, 2.4546, 2.1194, 2.0891, 2.2926, 2.2798, 2.2748, 2.0744, 2.1778, 1.8835, 2.0143, 2.1823, 2.2474, 1.8923, 1.2595, 1.5024, 1.748, 0.7771, 2.0141, 0.892, 1.8369, 1.725, 0.9033, 0.7724, 1.3663, 1.2608, 0.1226, -0.1582, 1.7601, 0.9842, -1.1181, 0.7109, -0.0246, 2.67, 2.669, 2.6674, 2.6637, 2.6621, 2.6603, 2.6556, 2.6488, 2.6488, 2.6479, 2.647, 2.645, 2.645, 2.645, 2.6427, 2.6373, 2.637, 2.637, 2.637, 2.637, 2.6353, 2.6353, 2.6334, 2.6313, 2.6289, 2.6289, 2.6264, 2.6264, 2.6264, 2.6264, 2.5866, 2.5459, 2.4248, 2.4143, 2.5144, 2.4848, 2.3806, 2.268, 2.203, 2.5073, 1.9552, 2.1576, 1.5931, 1.3359, 1.0522, 1.0919, 2.1974, 1.8842, 1.4023, 0.4133, 1.4212, 0.8697, 0.4005, 1.2129, 1.214, 1.5103, 1.1228, 1.6397, 0.6902, 1.0479, 0.4231, 0.0247, 0.4398, 0.264, 0.0025, 0.1075, 2.7334, 2.733, 2.732, 2.7316, 2.7291, 2.723, 2.7088, 2.7039, 2.7039, 2.7027, 2.7015, 2.7001, 2.6986, 2.6986, 2.6986, 2.6986, 2.697, 2.697, 2.6952, 2.6952, 2.6912, 2.6888, 2.6888, 2.6888, 2.6888, 2.6863, 2.6863, 2.6863, 2.6802, 2.6802, 2.6379, 2.6311, 2.637, 2.5781, 2.6089, 2.6378, 2.6549, 2.3521, 2.3103, 2.1664, 2.5118, 2.1376, 2.3022, 2.6272, 2.2035, 1.3992, 1.7983, 1.7875, 1.3469, 1.4895, 2.4565, 1.9434, 1.5336, 1.0569, 1.1229, 0.8194, 0.5942, 1.2965, 0.1857, 0.8508, 0.9139, 0.6157, 1.2009, 0.3046, 0.288, 0.4451, 2.7352, 2.7335, 2.7279, 2.7279, 2.7264, 2.7259, 2.7251, 2.7249, 2.7243, 2.7243, 2.7241, 2.7241, 2.7229, 2.7217, 2.7215, 2.7179, 2.7171, 2.7162, 2.7147, 2.7142, 2.7142, 2.711, 2.7077, 2.7067, 2.7067, 2.7067, 2.7034, 2.7034, 2.7021, 2.7008, 2.6937, 2.6875, 2.6912, 2.6611, 2.579, 2.5902, 2.619, 2.5148, 2.5448, 2.5777, 2.583, 2.6377, 2.3918, 2.1967, 1.8013, 2.0598, 2.2035, 2.165, 1.7294, 1.7592, 1.7441, 2.1868, 0.4164, 2.2139, 0.7267, 1.6142, 1.0618, 1.2474, 1.1151, 0.974, 0.7295, 1.1799, 0.5341, 1.0519, 1.1088, 1.4905, 1.7388, 0.2815, 0.1381, -0.0299, 2.8886, 2.884, 2.882, 2.8795, 2.8787, 2.8785, 2.8782, 2.8776, 2.8776, 2.8776, 2.8776, 2.8749, 2.8705, 2.8678, 2.8645, 2.8645, 2.8601, 2.8543, 2.8526, 2.8506, 2.8506, 2.8462, 2.8436, 2.8407, 2.8374, 2.8374, 2.8374, 2.833, 2.8296, 2.8296, 2.7802, 2.8054, 2.7612, 2.7033, 2.7286, 2.7183, 2.7803, 2.7547, 2.6225, 2.203, 2.4945, 2.3591, 2.6524, 2.4176, 2.3816, 1.8504, 0.9735, 1.1536, 1.2007, 1.3129, 1.3564, 1.4676, 1.4324, 1.3835, 1.9645, 1.8035, 1.1398, 0.7144, 0.6306, 0.5344, 0.7564, 0.1088, 0.945, 0.143, 0.079, -1.082, 2.9614, 2.9612, 2.9598, 2.9596, 2.9587, 2.9576, 2.9543, 2.9542, 2.9526, 2.9507, 2.9489, 2.9479, 2.9477, 2.9474, 2.9471, 2.9448, 2.9448, 2.9444, 2.9431, 2.9427, 2.9422, 2.9422, 2.9411, 2.9406, 2.9388, 2.9374, 2.9366, 2.9349, 2.934, 2.9331, 2.81, 2.8286, 2.8478, 2.4654, 2.5543, 2.8338, 1.9261, 2.1678, 2.4979, 2.4537, 2.7588, 1.8488, 1.9046, 1.5264, 2.0229, 2.6134, 2.2617, 0.8726, 2.1005, 1.7796, 2.2583, 0.2899, 0.1387, 0.2961, 1.0942, 0.4748, 0.8967, -0.8324, -0.376, 2.982, 2.9805, 2.9776, 2.9773, 2.9772, 2.976, 2.9757, 2.9757, 2.975, 2.9737, 2.9728, 2.9711, 2.9686, 2.965, 2.9645, 2.9635, 2.9629, 2.9611, 2.9604, 2.9604, 2.9604, 2.9589, 2.9589, 2.9581, 2.9581, 2.9581, 2.9581, 2.9581, 2.9581, 2.9581, 2.9072, 2.9111, 2.9438, 2.9432, 2.9027, 2.9383, 2.9388, 2.7461, 2.7718, 2.785, 2.6917, 2.7985, 2.6399, 2.8181, 2.1203, 2.4412, 2.3434, 2.3033, 1.8843, 1.7869, 2.4167, 1.982, 2.1551, 2.0414, 2.3476, 1.0423, 1.4512, 1.9201, 0.548, 1.3388, 0.7301, 1.2353, 3.028, 3.0271, 3.027, 3.0237, 3.0236, 3.0231, 3.0227, 3.0219, 3.02, 3.0192, 3.016, 3.0139, 3.0127, 3.0114, 3.0114, 3.0101, 3.0101, 3.0089, 3.0089, 3.0084, 3.0084, 3.007, 3.0065, 3.0059, 3.0059, 3.0053, 3.0053, 3.0041, 3.0041, 3.0034, 2.9457, 2.9604, 2.9369, 2.9353, 2.8235, 2.7964, 2.6358, 2.7077, 2.6324, 2.6312, 2.0869, 2.8332, 2.786, 2.6579, 2.781, 2.1077, 2.2094, 1.7968, 0.5758, 1.9711, 1.0917, 2.2236, 1.5081, -0.0912, 1.5535, 0.1486, 3.09, 3.0888, 3.0882, 3.0877, 3.0856, 3.0855, 3.0743, 3.0735, 3.0726, 3.0706, 3.0695, 3.0695, 3.0689, 3.0675, 3.0675, 3.066, 3.0652, 3.0591, 3.0591, 3.0564, 3.0549, 3.0549, 3.0533, 3.0533, 3.0533, 3.0496, 3.0475, 3.0425, 3.0364, 3.0364, 2.9396, 3.0178, 2.9839, 2.9995, 2.9397, 2.8026, 2.9209, 2.9307, 2.9544, 2.8252, 2.5775, 2.7586, 2.3665, 2.3127, 2.35, 1.7693, 2.2497, 2.4316, 1.8424, 1.2577, 2.4715, 1.8098, 1.6096, 0.6412, 0.1987, 1.1733, 0.5992, 0.8258, 0.7345, 1.1285, -0.0066, -0.5904, 0.137, 3.4419, 3.4418, 3.4408, 3.4383, 3.4377, 3.4376, 3.4347, 3.4337, 3.4324, 3.4315, 3.4229, 3.4178, 3.4155, 3.4155, 3.4155, 3.4137, 3.4127, 3.4116, 3.4103, 3.408, 3.4066, 3.4017, 3.4017, 3.4017, 3.3997, 3.3997, 3.3975, 3.3952, 3.3926, 3.3896, 3.3441, 3.352, 3.2743, 3.0196, 3.3506, 3.2995, 3.0384, 2.912, 2.1927, 2.7814, 2.7958, 2.0016, 2.2913, 1.861, 1.979, 1.2258, 1.6735, 1.7926, 0.6525, 1.1354, 0.6346, 1.3236, 1.657, 0.2065, 0.9556, 3.6899, 3.6891, 3.6852, 3.6852, 3.6821, 3.6808, 3.6808, 3.6808, 3.6808, 3.6804, 3.6804, 3.6804, 3.6804, 3.6804, 3.6788, 3.6784, 3.6779, 3.6769, 3.6746, 3.6746, 3.6739, 3.6739, 3.6739, 3.6732, 3.6732, 3.6732, 3.6732, 3.6732, 3.6732, 3.6732, 3.6561, 3.6518, 3.436, 3.6441, 3.2172, 3.4798, 3.4345, 3.3907, 3.5025, 3.0316, 3.5409, 3.2637, 3.0422, 3.292, 2.5666, 2.4788, 2.9085, 0.9415, 2.8998, 2.6533, 2.2067, 2.9632, 2.618, 1.4323, 1.8757, 1.8277, 2.2759, 2.892, 2.3789, 0.5213]}, \"token.table\": {\"Topic\": [4, 8, 10, 11, 12, 4, 8, 9, 11, 12, 13, 13, 11, 1, 4, 6, 8, 9, 10, 12, 13, 14, 4, 10, 1, 2, 3, 4, 6, 8, 9, 1, 2, 4, 6, 8, 9, 10, 12, 8, 4, 10, 10, 4, 5, 7, 9, 8, 8, 4, 6, 8, 10, 11, 4, 6, 8, 10, 12, 10, 8, 2, 4, 5, 7, 8, 9, 11, 12, 13, 14, 15, 13, 7, 11, 12, 7, 8, 8, 3, 4, 5, 8, 9, 10, 11, 12, 13, 4, 8, 12, 4, 13, 4, 4, 8, 9, 10, 11, 12, 4, 8, 4, 8, 9, 4, 8, 11, 12, 13, 11, 11, 4, 8, 11, 4, 8, 13, 8, 13, 8, 4, 1, 8, 4, 8, 9, 10, 11, 14, 4, 10, 9, 4, 7, 8, 9, 4, 8, 9, 10, 12, 4, 10, 9, 4, 6, 8, 9, 10, 11, 12, 8, 9, 4, 4, 9, 4, 6, 8, 10, 12, 7, 7, 7, 8, 9, 13, 13, 2, 5, 13, 5, 1, 2, 15, 15, 2, 10, 13, 15, 15, 1, 2, 3, 4, 5, 6, 7, 8, 9, 10, 13, 6, 12, 13, 12, 14, 1, 2, 4, 5, 6, 7, 8, 10, 11, 12, 13, 1, 4, 6, 11, 13, 1, 3, 4, 6, 7, 13, 15, 15, 1, 5, 5, 1, 3, 4, 5, 8, 9, 12, 13, 12, 9, 9, 5, 6, 12, 6, 6, 6, 6, 11, 6, 6, 6, 11, 6, 1, 2, 3, 5, 9, 15, 2, 5, 6, 5, 10, 2, 5, 5, 5, 5, 5, 1, 3, 5, 6, 13, 14, 13, 13, 13, 3, 4, 7, 10, 3, 1, 3, 5, 10, 8, 8, 11, 11, 13, 13, 2, 11, 1, 2, 5, 6, 15, 15, 3, 2, 3, 6, 9, 13, 1, 3, 4, 7, 8, 9, 10, 11, 13, 14, 3, 1, 2, 4, 5, 6, 7, 8, 9, 13, 14, 7, 7, 4, 7, 4, 4, 7, 4, 6, 9, 1, 3, 4, 5, 6, 7, 8, 9, 10, 13, 14, 5, 5, 13, 2, 4, 5, 13, 1, 1, 5, 2, 8, 2, 6, 12, 15, 15, 1, 2, 3, 4, 6, 7, 10, 15, 15, 7, 8, 4, 13, 3, 6, 7, 8, 9, 10, 4, 5, 12, 15, 15, 15, 2, 3, 6, 7, 8, 9, 11, 13, 14, 3, 9, 7, 3, 6, 9, 12, 12, 2, 5, 12, 1, 3, 7, 8, 9, 10, 1, 2, 13, 13, 2, 7, 11, 1, 2, 3, 6, 7, 10, 12, 13, 14, 1, 2, 4, 5, 6, 7, 11, 13, 4, 12, 4, 4, 4, 12, 4, 10, 12, 2, 4, 5, 6, 8, 9, 11, 12, 13, 15, 1, 3, 6, 7, 9, 10, 1, 2, 3, 5, 7, 11, 13, 2, 5, 1, 5, 12, 12, 13, 8, 12, 12, 12, 10, 1, 2, 3, 4, 5, 6, 7, 8, 9, 10, 11, 14, 1, 2, 3, 6, 9, 12, 13, 15, 12, 8, 1, 2, 3, 5, 6, 1, 2, 14, 3, 8, 15, 2, 5, 12, 13, 2, 2, 5, 12, 2, 5, 15, 15, 1, 3, 5, 7, 8, 9, 13, 15, 15, 15, 5, 9, 12, 13, 1, 3, 5, 6, 10, 1, 2, 5, 10, 12, 13, 15, 1, 11, 10, 5, 6, 12, 6, 1, 2, 4, 5, 13, 1, 2, 3, 4, 7, 11, 12, 13, 14, 4, 4, 2, 3, 4, 6, 7, 8, 9, 13, 2, 11, 1, 2, 5, 6, 13, 2, 12, 15, 1, 10, 15, 10, 10, 1, 5, 6, 5, 2, 3, 4, 5, 6, 7, 9, 10, 11, 12, 13, 14, 12, 14, 1, 2, 3, 4, 5, 6, 7, 8, 10, 12, 13, 1, 2, 5, 15, 15, 8, 9, 14, 1, 15, 2, 3, 4, 5, 7, 8, 10, 12, 14, 5, 15, 12, 4, 4, 1, 3, 7, 12, 14, 8, 14, 1, 2, 3, 11, 13, 13, 6, 7, 1, 3, 5, 7, 8, 10, 14, 3, 3, 3, 12, 2, 4, 5, 6, 11, 11, 13, 2, 1, 9, 1, 7, 9, 14, 14, 4, 7, 9, 10, 2, 11, 2, 1, 2, 4, 6, 8, 9, 10, 12, 13, 14, 6, 10, 12, 6, 9, 11, 14, 1, 3, 4, 5, 6, 7, 8, 9, 10, 11, 1, 3, 4, 5, 7, 10, 14, 2, 13, 1, 2, 3, 4, 5, 8, 9, 10, 12, 13, 1, 2, 3, 4, 6, 7, 9, 10, 13, 14, 5, 8, 10, 7, 12, 2, 11, 1, 2, 3, 5, 9, 11, 3, 4, 6, 7, 8, 9, 10, 1, 8, 10, 10, 10, 10, 2, 7, 3, 2, 13, 1, 3, 6, 1, 4, 8, 11, 8, 1, 4, 5, 7, 8, 9, 11, 12, 14, 13, 5, 14, 4, 2, 8, 8, 8, 9, 9, 9, 1, 2, 3, 4, 5, 7, 8, 9, 10, 11, 13, 3, 7, 11, 15, 3, 3, 10, 11, 1, 2, 3, 4, 5, 6, 7, 8, 9, 10, 11, 14, 3, 7, 3, 1, 3, 4, 5, 6, 7, 8, 9, 10, 11, 12, 13, 14, 6, 3, 3, 3, 5, 12, 1, 2, 5, 6, 8, 9, 13, 2, 5, 8, 5, 11, 3, 6, 1, 3, 4, 5, 6, 7, 8, 9, 10, 11, 13, 14, 8, 8, 15, 12, 1, 2, 3, 5, 7, 10, 14, 1, 2, 3, 5, 6, 10, 11, 13, 2, 8, 13, 12, 13, 13, 2, 3, 4, 6, 7, 9, 10, 13, 14, 15, 1, 3, 4, 10, 14, 4, 1, 2, 3, 4, 5, 9, 10, 11, 12, 15, 12, 12, 2, 5, 2, 4, 4, 4, 4, 14, 12, 11, 12, 15, 9, 1, 12, 1, 2, 10, 11, 14, 12, 9, 1, 12, 12, 5, 13, 10, 10, 1, 6, 1, 1, 8, 10, 6, 2, 13, 13, 5, 6, 14, 14, 1, 3, 4, 6, 7, 8, 10, 13, 1, 2, 3, 4, 5, 6, 7, 8, 9, 11, 12, 8, 13, 8, 11, 10, 15, 2, 5, 6, 12, 14, 1, 2, 3, 4, 5, 6, 8, 9, 11, 12, 13, 14, 2, 2, 4, 7, 3, 4, 6, 8, 11, 6, 6, 13, 2, 6, 7, 8, 10, 7, 4, 7, 1, 2, 3, 4, 5, 6, 7, 8, 9, 10, 13, 6, 3, 3, 1, 2, 5, 8, 9, 12, 2, 5, 6, 8, 9, 12, 15, 7, 14, 1, 2, 3, 4, 5, 6, 7, 8, 10, 13, 1, 2, 5, 11, 5, 2, 5, 1, 2, 3, 4, 5, 7, 10, 11, 13, 1, 2, 3, 4, 5, 6, 7, 8, 9, 11, 13, 14, 1, 2, 3, 4, 5, 6, 7, 8, 9, 10, 11, 12, 13, 1, 2, 3, 4, 5, 6, 7, 8, 9, 10, 13, 14, 15, 3, 8, 3, 4, 6, 7, 8, 10, 3, 2, 3, 5, 6, 9, 12, 1, 2, 3, 4, 5, 6, 7, 8, 9, 10, 13, 14, 1, 8, 14, 2, 3, 6, 9, 10, 11, 11, 1, 2, 3, 4, 5, 6, 7, 8, 9, 10, 11, 13, 3, 2, 2, 3, 12, 15, 13, 13, 6, 8, 13, 8, 6, 10, 1, 2, 4, 5, 7, 9, 11, 12, 13, 14, 15, 1, 2, 3, 4, 5, 7, 11, 12, 13, 9, 15, 15, 3, 4, 6, 7, 8, 9, 13, 2, 3, 4, 7, 8, 11, 4, 11, 1, 1, 8, 8, 8, 7, 6, 8, 2, 4, 6, 12, 13, 1, 2, 3, 4, 5, 6, 7, 8, 12, 13, 14, 1, 2, 4, 5, 8, 11, 1, 2, 3, 4, 5, 6, 7, 8, 9, 10, 11, 12, 13, 6, 8, 8, 9, 3, 6, 8, 1, 2, 7, 11, 14, 2, 3, 4, 5, 6, 7, 8, 9, 11, 3, 3, 8, 10, 12, 13, 14, 10, 13, 10, 14, 14, 1, 2, 4, 5, 7, 11, 14, 4, 7, 8, 5, 6, 6, 8, 11, 1, 5, 11, 13, 15, 1, 3, 6, 9, 11, 13, 2, 3, 4, 6, 7, 8, 9, 10, 11, 12, 13, 14, 15, 6, 7, 8, 9, 10, 6, 10, 11, 11, 2, 3, 5, 10, 13, 5, 6, 6, 1, 2, 5, 6, 7, 8, 10, 13, 12, 5, 6, 8, 11, 11, 1, 3, 4, 13, 2, 4, 13, 5, 2, 5, 1, 11, 13, 13, 2, 3, 5, 7, 9, 13, 2, 3, 5, 12, 14, 10, 14, 1, 2, 3, 4, 6, 9, 13, 3, 3, 1, 3, 7, 3, 3, 6, 1, 5, 6, 7, 10, 15, 15, 5, 1, 2, 3, 4, 5, 6, 7, 8, 9, 10, 3, 4, 2, 3, 3, 1, 1, 1, 10, 1, 2, 3, 4, 12, 1, 10, 1, 1, 7, 8, 9, 10, 9, 10, 9, 8, 9, 10, 9, 9, 1, 3, 4, 5, 6, 8, 10, 10, 5, 5, 4, 12, 2, 4, 6, 7, 8, 10, 14, 10, 1, 2, 3, 4, 6, 7, 8, 9, 13, 14, 6, 12, 13, 1, 2, 3, 6, 9, 11, 12, 15, 3, 4, 5, 8, 9, 12, 13, 4, 12, 4, 5, 10, 12, 13, 11, 3, 6, 7, 8, 9, 10, 14, 8, 10, 1, 8, 10, 10, 1, 2, 3, 4, 5, 7, 9, 10, 11, 12, 13, 14, 1, 8, 9, 6, 10, 6, 1, 3, 4, 7, 8, 9, 10, 13, 15, 1, 2, 3, 4, 6, 13, 15, 15, 12, 15, 12, 8, 10, 14, 1, 4, 8, 9, 10, 13, 3, 4, 5, 10, 12, 15, 1, 3, 6, 7, 8, 13, 7, 3, 6, 8, 2, 3, 4, 6, 7, 8, 9, 10, 12, 1, 2, 2, 11, 11, 1, 4, 9, 12, 12, 10, 10, 12, 4, 5, 10, 4, 5, 10, 12, 15, 1, 2, 5, 6, 10, 12, 13, 2, 10, 2, 2, 2, 3, 5, 8, 9, 12, 13, 15, 2, 2, 9, 15, 15, 1, 2, 4, 7, 9, 12, 3, 4, 5, 6, 9, 12, 6, 2, 4, 5, 11, 15, 1, 2, 3, 4, 5, 6, 7, 10, 11, 6, 1, 3, 5, 6, 7, 8, 9, 10, 11, 14, 10, 4, 6, 7, 9, 11, 7, 7, 8, 11, 7, 7, 7, 9, 11, 7, 14, 9, 11, 7, 7, 7, 9, 7, 7, 9, 11, 7, 7, 7, 8, 9, 7, 7, 9, 7, 7, 7, 9, 14, 7, 14, 14, 14, 14, 14, 14, 14, 14, 14, 14, 14, 1, 2, 3, 5, 6, 7, 8, 9, 10, 11, 12, 13, 14, 15, 6, 12, 12, 15, 10, 13, 4, 5, 4, 6, 1, 2, 3, 4, 5, 6, 7, 8, 9, 11, 12, 13, 14, 13, 1, 1, 1, 3, 10, 2, 4, 5, 7, 8, 10, 12, 14, 10, 8, 4, 4, 13, 13, 1, 2, 3, 5, 6, 8, 14, 15, 2, 12, 2, 2, 5, 6, 11, 11, 11, 1, 2, 5, 11, 2, 3, 12, 1, 2, 4, 5, 8, 14, 1, 8, 10, 2, 7, 8, 9, 10, 14, 2, 2, 5, 6, 11, 13, 1, 2, 4, 5, 6, 8, 9, 11, 12, 13, 1, 2, 4, 5, 5, 9, 1, 1, 2, 3, 4, 7, 13, 14, 1, 15, 2, 6, 7, 2, 1, 3, 4, 7, 8, 14, 4, 5, 7, 8, 12, 13, 1, 3, 4, 7, 8, 10, 13, 4, 9, 11, 9, 1, 2, 3, 6, 7, 8, 9, 11, 13, 9, 11, 2, 3, 12, 1, 3, 8, 13, 8, 4, 1, 2, 5, 7, 8, 10, 13, 10, 14, 3, 4, 6, 8, 10, 3, 1, 2, 6, 8, 6, 2, 8, 13, 2, 5, 8, 9, 13, 12, 15, 15, 2, 5, 6, 7, 8, 9, 10, 12, 13, 13, 1, 2, 3, 4, 5, 6, 7, 8, 9, 10, 11, 13, 14, 7, 3, 5, 7, 1, 2, 5, 6, 7, 8, 10, 13, 5, 3, 8, 9, 10, 11, 12, 11, 14, 14, 14, 14, 2, 6, 12, 14, 1, 2, 3, 4, 9, 10, 14, 14, 2, 5, 5, 13, 9, 9, 1, 2, 3, 9, 11, 13, 14, 15, 15, 2, 13, 2, 5, 14, 1, 2, 3, 4, 5, 6, 7, 8, 13, 14, 2, 5, 1, 2, 3, 4, 5, 6, 7, 8, 9, 10, 11, 14, 3, 1, 2, 3, 4, 5, 6, 9, 10, 11, 13, 14, 11, 3, 7, 9, 12, 15, 15, 5, 14, 5, 7, 9, 9, 9, 1, 6, 1, 2, 5, 13, 2, 1, 2, 3, 4, 5, 6, 8, 10, 12, 2, 9, 1, 2, 4, 5, 14, 9, 14, 15, 14, 5, 6, 11, 11, 7, 14, 7, 2, 5, 6, 11, 6, 8, 11, 5, 6, 11, 4, 7, 8, 10, 11, 7, 7, 15, 15, 1, 4, 5, 7, 14, 2, 12, 12, 1, 2, 3, 4, 5, 6, 7, 9, 10, 11, 12, 13, 14, 5, 4, 1, 2, 3, 4, 5, 6, 7, 9, 10, 12, 13, 15, 9, 11, 1, 4, 8, 9, 10, 13, 6, 2, 9, 11, 1, 2, 6, 7, 8, 9, 10, 11, 13, 14, 6, 1, 2, 3, 7, 8, 9, 11, 13, 14, 3, 8, 1, 2, 3, 4, 5, 6, 7, 8, 9, 10, 13, 14, 2, 4, 10, 11, 3, 4, 6, 9, 12, 14, 1, 2, 3, 4, 5, 6, 7, 9, 10, 13, 11, 11, 11, 1, 2, 3, 4, 6, 7, 8, 9, 10, 11, 13, 14, 4, 7, 3, 2, 9, 2, 9, 5, 2, 4, 5, 11, 14, 2, 5, 6, 13, 2, 12, 12, 4, 5, 10, 12, 10, 12, 1, 2, 3, 4, 5, 6, 7, 10, 11, 12, 13, 14, 3, 6, 13, 12, 12, 12, 2, 3, 6, 8, 12, 11, 3, 6, 10, 10, 8, 13, 2, 3, 4, 6, 8, 9, 11, 13, 14, 1, 3, 4, 6, 7, 8, 9, 10, 11, 13, 14, 11, 1, 2, 3, 4, 5, 6, 7, 8, 9, 11, 14, 9, 9, 12, 6, 9, 10, 14, 7, 8, 9, 10, 10, 8, 8, 1], \"Freq\": [0.21204478762948803, 0.1379974014731589, 0.0538526444773303, 0.4341869460984755, 0.15819214315215774, 0.22779476049205966, 0.1717796554530286, 0.0952256785663528, 0.4210468728767168, 0.0457456691152087, 0.03921057352732175, 0.9859916529475174, 0.9873966946884078, 0.02739638217023018, 0.41551179624849105, 0.1598122293263427, 0.13013281530859336, 0.01598122293263427, 0.19862377073416881, 0.004566063695038363, 0.022830318475191815, 0.022830318475191815, 0.9765653952281761, 0.9649731765827217, 0.112343655807603, 0.054234868320911796, 0.13171325163650008, 0.5655921982037945, 0.061982706652470625, 0.03873919165779414, 0.030991353326235312, 0.9875564776305854, 0.01840131149546067, 0.14721049196368535, 0.31282229542283135, 0.18708000020385013, 0.01840131149546067, 0.3066885249243445, 0.009200655747730335, 0.96866508788677, 0.9882756385695203, 0.9570016290450358, 0.9756666260432838, 0.8090445667195048, 0.09673358949907122, 0.04396981340866874, 0.03517585072693499, 0.9916245208060737, 0.9762577330562299, 0.057095897391304815, 0.6242484781449327, 0.10277261530434867, 0.04948311107246417, 0.16748129901449413, 0.050909643977290274, 0.35636750784103194, 0.06363705497161284, 0.4963690287785802, 0.025454821988645137, 0.9895251832017526, 0.978627365664739, 0.03933027175084701, 0.37560409522058896, 0.019665135875423505, 0.07571077312038049, 0.1868187908165233, 0.06784471877021109, 0.10520847693351576, 0.07669402991415167, 0.03638050136953348, 0.009832567937711752, 0.005899540762627052, 0.9651505742356827, 0.876588159522397, 0.05217786663823792, 0.0626134399658855, 0.9813932764525722, 0.9865179444319307, 0.9886527699119336, 0.006758810983078346, 0.2996406202498067, 0.013517621966156692, 0.19713198700645176, 0.00788527948025807, 0.12616447168412911, 0.10926744422643327, 0.1441879676390047, 0.09462335376309684, 0.9013500167066976, 0.040970455304849884, 0.020485227652424942, 0.13895534719150232, 0.8511015015479517, 0.96128302875222, 0.4384955951817759, 0.225245457707356, 0.045315654213314224, 0.15460634966895442, 0.11195632217407044, 0.023990640465872237, 0.8955249944628576, 0.09328385358988099, 0.9734772870548413, 0.06110455530288535, 0.9165683295432803, 0.24507514077574935, 0.3919829282435655, 0.33225873427300473, 0.011670244798845207, 0.01853509468051886, 0.9948631046470857, 0.9935654619633415, 0.05416462351792596, 0.8630230013856203, 0.07944144782629141, 0.9915340754393396, 0.07400564573600785, 0.9127362974107633, 0.8854493375817032, 0.09976893944582571, 0.9878582337164806, 0.9612830287923377, 0.07208153519635005, 0.9010191899543757, 0.26717343405426475, 0.375395584557258, 0.22151721431081442, 0.09638535279172841, 0.025364566524139057, 0.013527768812874163, 0.981459929281691, 0.9868873261130016, 0.9351759110908783, 0.9674859659751625, 0.019349719319503248, 0.9656954178599556, 0.9967040919825811, 0.14600725989929364, 0.18569855385249967, 0.21546702431740422, 0.45077969561141146, 0.0014175462126145013, 0.9773922945933824, 0.9923220482627058, 0.9857236612383946, 0.23372151057558999, 0.027966676479130426, 0.5073954161213663, 0.1478238613896894, 0.03595715547316769, 0.043947634467204955, 0.003995239497018632, 0.969513528070308, 0.9773069848026806, 0.970200940770324, 0.990743602014582, 0.9606560469458827, 0.22529183306808925, 0.043604870916404366, 0.5850320181284253, 0.1271808735061794, 0.01816869621516849, 0.997718770567469, 0.995058360094138, 0.06786964228342292, 0.0814435707401075, 0.7872878504877058, 0.06786964228342292, 0.9800501945934161, 0.6786813946296989, 0.238895850909654, 0.07601231619852628, 0.9832552822796253, 0.005458237831663142, 0.922442193551071, 0.06549885397995771, 0.9841144581027779, 0.14074891620169433, 0.10053494014406737, 0.10053494014406737, 0.6434236169220312, 0.9886936629480615, 0.27117549226935966, 0.1621157834218998, 0.25054257437929967, 0.06632009321804992, 0.026528037287219967, 0.0751627723137899, 0.029475596985799962, 0.028001817136509965, 0.05600363427301993, 0.010316458945029987, 0.02210669773934997, 0.0630964266535186, 0.7823956905036307, 0.13881213863774092, 0.12206159261749286, 0.85443114832245, 0.5385841858072093, 0.06241869703063685, 0.005350174031197444, 0.16228861227965583, 0.04280139224957955, 0.03388443553091715, 0.028534261499719705, 0.044584783593312034, 0.005350174031197444, 0.03745121821838211, 0.03745121821838211, 0.06069036852619545, 0.19992121396864385, 0.07854047691625293, 0.5783435118378625, 0.07854047691625293, 0.14656021521260817, 0.18699061940918973, 0.07075320734401773, 0.14656021521260817, 0.030322803147436173, 0.07580700786859043, 0.33860463514637057, 0.9841144581027779, 0.9994683085894461, 0.9577142817296476, 0.973970053956418, 0.9942369766271315, 0.10966667851222921, 0.05194737403210858, 0.040403513136084444, 0.09235088716819302, 0.07503509582415684, 0.44443864449692894, 0.178929843888374, 0.9781864831959236, 0.9842922314758856, 0.9716398086537825, 0.03597356868355804, 0.9137286445623741, 0.04892405340963893, 0.9573336724438125, 0.9785521525445328, 0.9838299160755799, 0.8786314665093103, 0.11429352409877208, 0.9867536080451264, 0.9829092206795854, 0.9872434291512784, 0.9793796480127807, 0.9848896725357802, 0.012718083364887146, 0.20984837552063793, 0.07630850018932288, 0.13353987533131503, 0.11446275028398432, 0.4514919594534937, 0.09634732192253637, 0.882216441700333, 0.020894599935007887, 0.9855201528266059, 0.9869092592678459, 0.9771891143555045, 0.9808342102344808, 0.9656936355267669, 0.9656936355588536, 0.9847745920599763, 0.9782402004523024, 0.03681616206830862, 0.10124444568784871, 0.027612121551231467, 0.7777414236930197, 0.05522424310246293, 0.9471866546477826, 0.9928907923336612, 0.9732210089998354, 0.9757188255953199, 0.7809517402527255, 0.036323336755940724, 0.05448500513391109, 0.10897001026782217, 0.9810777750603189, 0.12824324117662111, 0.8464053917656993, 0.9559160953416098, 0.019508491741665506, 0.9825853417497, 0.9714225790594411, 0.9925728839634943, 0.9883966369766701, 0.9962460353849402, 0.9605391023451232, 0.9471456932464618, 0.9694767336562282, 0.11769163059697295, 0.06923037093939585, 0.3253827434151605, 0.034615185469697926, 0.44999741110607305, 0.9870720559544722, 0.9032277562939421, 0.8128179676974432, 0.039974654149054586, 0.07994930829810917, 0.013324884716351527, 0.05329953886540611, 0.048861312052919416, 0.3759606510738522, 0.17101459218521795, 0.11400972812347863, 0.004071776004409952, 0.14251216015434828, 0.040717760044099514, 0.040717760044099514, 0.042075018712236165, 0.019001621353913107, 0.8916498654819276, 0.266999241480991, 0.0559837119234336, 0.032298295340442464, 0.006459659068088493, 0.06674981037024776, 0.3918859834640352, 0.07320946943833624, 0.058136931612796434, 0.032298295340442464, 0.017225757514902646, 0.9929811612454377, 0.966248773233254, 0.7371643517365747, 0.2624180975514445, 0.9903483514267455, 0.44943530693449707, 0.5494920723469215, 0.9833142436879421, 0.047621186302523454, 0.9405184294748382, 0.06771338658823632, 0.20475238325490508, 0.24505797050980765, 0.004836670470588309, 0.02095890537254934, 0.2160379476862778, 0.14187566713725705, 0.030632246313725957, 0.04353003423529478, 0.01128556443137272, 0.012897787921568824, 0.9867979858744095, 0.9605305272145389, 0.9366703345746551, 0.06428348441150374, 0.15152535611283022, 0.30305071222566043, 0.4775344556283134, 0.9939362972479533, 0.9942135347706114, 0.9680658707847064, 0.9437552183359023, 0.04641419106570011, 0.13596804883731614, 0.8546563069774158, 0.1911163105788404, 0.8047002550688017, 0.9886936629480615, 0.003758772018626818, 0.24056140919211635, 0.19545614496859454, 0.10148684450292408, 0.041346492204894995, 0.011276316055880455, 0.16162719680095317, 0.24056140919211635, 0.9864110398314495, 0.748697931570367, 0.22258587154794696, 0.13820910266404168, 0.8568964365170585, 0.03382717711154223, 0.15222229700194, 0.10148153133462669, 0.591975599451989, 0.06765435422308445, 0.04510290281538964, 0.04824063483986068, 0.6482335306606279, 0.006030079354982585, 0.2954738883941467, 0.9841144581027779, 0.9841144581027779, 0.04867041394738961, 0.38107898580083777, 0.04452825105825007, 0.10044745006163387, 0.06006136189252335, 0.1843262485667096, 0.01967527372341282, 0.10355407222848853, 0.05902582117023846, 0.9844161670108638, 0.9483349834261995, 0.9537004597596166, 0.9132618874097612, 0.036836229026144154, 0.023022643141340098, 0.9347193115384079, 0.9933522266044913, 0.10409096716054445, 0.723158298167993, 0.169832630630362, 0.43299327934215054, 0.08291360668253946, 0.18622659278697357, 0.11055147557671928, 0.10397103060191457, 0.08291360668253946, 0.9939592945593607, 0.24895429446566217, 0.7468628833969865, 0.9733723585821775, 0.24697105829893345, 0.0031662956192170955, 0.7440794705160175, 0.08358595118852769, 0.13171119581222546, 0.25835657640090376, 0.006332269029433916, 0.02406262231184888, 0.32801153572467684, 0.06585559790611273, 0.04432588320603741, 0.05699042126490524, 0.11541647010008173, 0.1785108070881264, 0.11541647010008173, 0.28777173211620377, 0.08309985847205884, 0.08617763100806101, 0.07078876832805013, 0.06463322325604577, 0.6090101285853556, 0.38992297311996005, 0.9674485735641171, 0.9644844111346761, 0.3240570394657443, 0.6736975294156263, 0.18973568109717515, 0.13237373099802918, 0.6706935703900144, 0.23407055649025815, 0.014861622634302105, 0.14861622634302105, 0.08173892448866157, 0.08916973580581262, 0.12446608956228013, 0.19320109424592738, 0.04272716507361855, 0.048300273561481845, 0.022292433951453156, 0.03230449475227607, 0.36342556596310577, 0.5976331529171073, 0.07419848817133992, 0.8738933051291146, 0.04946565878089328, 0.2719225440968751, 0.1483213876892046, 0.0247202312815341, 0.47321585596079563, 0.035314616116477286, 0.02118876966988637, 0.02118876966988637, 0.07745511569476539, 0.9139703651982316, 0.008412875436408163, 0.7908102910223673, 0.19349613503738775, 0.9784918334373567, 0.9769179714507956, 0.9786273654253727, 0.9991207793170891, 0.9884520578554936, 0.9913683699373517, 0.9882367533803917, 0.04503748049310702, 0.11452387896818642, 0.13382565632237514, 0.054044976591728425, 0.04117712502226927, 0.07205996878897124, 0.06433925784729574, 0.08492782035843038, 0.20588562511134637, 0.06176568753340391, 0.09393531645705178, 0.028309273452810126, 0.06496350911109165, 0.24074712199992787, 0.164319464222173, 0.030571063111101953, 0.030571063111101953, 0.34774584288878474, 0.04585659466665293, 0.08024904066664262, 0.9914720723057553, 0.9878582336314709, 0.08795504315648259, 0.12146172626371406, 0.624061972872186, 0.041883353884039326, 0.11727339087531012, 0.14473743180531348, 0.7039502365076611, 0.14473743180531348, 0.13080819957886378, 0.09055952278536722, 0.7647248590764343, 0.764457489576275, 0.10520057196003785, 0.09468051476403407, 0.03156017158801135, 0.9744073798718723, 0.792807839435279, 0.14483989374298367, 0.06098521841809838, 0.6173584268422351, 0.025095871009846952, 0.35134219413785733, 0.9870720559544722, 0.060704020770769196, 0.06677442284784611, 0.0910560311561538, 0.07891522700199995, 0.05463361869369227, 0.012140804154153839, 0.10319683531030763, 0.5159841765515382, 0.9841144581027779, 0.9841144581027779, 0.8082909670888493, 0.04618805526221996, 0.02309402763110998, 0.12316814736591988, 0.05844003627726089, 0.7129684425825829, 0.011688007255452177, 0.11103606892679568, 0.09934806167134351, 0.047837268496055046, 0.16145078117418576, 0.17938975686020642, 0.49631166064657106, 0.04185760993404816, 0.047837268496055046, 0.017938975686020642, 0.9944870998179636, 0.9885523610268601, 0.9800834598679836, 0.16483803506546296, 0.7717417096246675, 0.059941103660168346, 0.9908905263425903, 0.3559214832168201, 0.47997710392309767, 0.026583347294202333, 0.0398750209413035, 0.09599542078461953, 0.04656104281846146, 0.09085081525553455, 0.049967948390544005, 0.642769517932907, 0.026119609385966185, 0.09993589678108801, 0.010220716716247637, 0.007949446334859273, 0.02384833900457782, 0.9644844112625313, 0.9612830289280532, 0.04587281294378626, 0.1376184388313588, 0.09527430380632532, 0.021172067512516737, 0.2293640647189313, 0.059987524618797416, 0.335224402281515, 0.07410223629380858, 0.019687575978191398, 0.9646912229313784, 0.0418981091979728, 0.1152198002944252, 0.7175051200152842, 0.0628471637969592, 0.0576099001472126, 0.16284631048033466, 0.06705436313896132, 0.7695286436423656, 0.9759652470227653, 0.005323446801942356, 0.019519304940455305, 0.9840353406368608, 0.9809160998732456, 0.007741031787179015, 0.8824776237384078, 0.1006334132333272, 0.9631858414893268, 0.375269891098506, 0.02848348319533252, 0.050558182671715225, 0.07548123046763118, 0.2620480453970592, 0.017090089917199514, 0.02563513487579927, 0.019938438236732765, 0.04628566019241535, 0.02492304779591596, 0.051982356831481856, 0.021362612396499392, 0.321695898380314, 0.6628885178745865, 0.3117895630740771, 0.2310724680650521, 0.06489021363470641, 0.04114989157322846, 0.06489021363470641, 0.07913440687159319, 0.018992257649182363, 0.11395354589509418, 0.039567203435796595, 0.006330752549727455, 0.03007107461120541, 0.019076614691459364, 0.08012178170412933, 0.89660089049859, 0.9841144581027779, 0.987230536697989, 0.01828553454240327, 0.8959911925777602, 0.07314213816961308, 0.13824602356839752, 0.8492255733487277, 0.08985880496910534, 0.021857547154647244, 0.08500157226807262, 0.1360025156289162, 0.06557264146394173, 0.14571698103098163, 0.39100723243313407, 0.02914339620619633, 0.03642924525774541, 0.9631858414743014, 0.99240209456422, 0.976740663300613, 0.9954954009178575, 0.9765653952393174, 0.38119850696151036, 0.029322962073962337, 0.00977432069132078, 0.03909728276528312, 0.5278133173313221, 0.9786273655463457, 0.9764008325150786, 0.07044465534928664, 0.3220327101681675, 0.040254088771020935, 0.0301905665782657, 0.5333666762160274, 0.9801439829757155, 0.8438981726147161, 0.13684835231589992, 0.08434378878556256, 0.04961399340327209, 0.1041893861468714, 0.1091507854871986, 0.1587647788904707, 0.4217189439278128, 0.07442099010490814, 0.9533980310591315, 0.929788608654686, 0.929788608654686, 0.9954881963547614, 0.05660176556402662, 0.039621235894818634, 0.8490264834603993, 0.05094158900762396, 0.9721646134458861, 0.9694767336562282, 0.968105165898949, 0.9608613565571635, 0.9671656109526984, 0.026570483817381824, 0.9894447861062711, 0.24331480120845916, 0.6198734221263127, 0.1332438197093943, 0.9634776533160682, 0.034964103897578196, 0.12487179963420784, 0.8391384935418768, 0.962467839328727, 0.8745191352271556, 0.12371246303213422, 0.9935136339282041, 0.9970875044393325, 0.02629301769361531, 0.3236063716137269, 0.06067619467757379, 0.09101429201636069, 0.08292413272601752, 0.10314953095187544, 0.2912457344523542, 0.016180318580686345, 0.0060676194677573795, 0.025835010041224456, 0.1808450702885712, 0.7750503012367337, 0.02937480508959106, 0.5992460238276577, 0.07637449323293675, 0.2937480508959106, 0.1904876423314186, 0.1102823192445055, 0.07877308517464679, 0.2177001626644784, 0.2792863928919295, 0.04583161319252176, 0.007161189561331526, 0.025780282420793492, 0.01145790329813044, 0.03294147198212502, 0.022373686367398882, 0.37289477278998134, 0.240517128449538, 0.02983158182319851, 0.20322765117053984, 0.10068158865329496, 0.027967107959248602, 0.4006420279114398, 0.5958266056118848, 0.036061292538722166, 0.3353700206101161, 0.133426782393272, 0.025242904777105515, 0.16588194567812195, 0.10818387761616649, 0.07572871433131655, 0.02764699094635366, 0.0516878526388351, 0.03966742179259438, 0.10271081105416674, 0.29900258329101875, 0.004564924935740744, 0.10271081105416674, 0.07532126143972227, 0.04564924935740744, 0.004564924935740744, 0.08901603624694451, 0.04564924935740744, 0.2305287092549076, 0.3476674248131092, 0.01958689717256953, 0.626780709522225, 0.9219220431074008, 0.06585157450767148, 0.16085670725439968, 0.8284120423601584, 0.036566726380669864, 0.3656672638066987, 0.08593180699457419, 0.2449970667504881, 0.051193416932937816, 0.21574368564595223, 0.012922921616419168, 0.07107606889030542, 0.48460956061571875, 0.11953702495187729, 0.1615365202052396, 0.12599848576008688, 0.022615112828733543, 0.14998783320819936, 0.02727051512876352, 0.8181154538629055, 0.9982592404235548, 0.9825026159135704, 0.9895111088964108, 0.06587219185602551, 0.8892745900563445, 0.929788608654686, 0.03423736012614945, 0.9244087234060353, 0.08531185796442212, 0.8815558656323619, 0.9531999215570099, 0.015577715744957992, 0.04327143262488331, 0.8533126513626988, 0.08654286524976662, 0.9792606416896436, 0.012106362631084394, 0.06994787297959872, 0.07129302438305253, 0.016141816841445857, 0.3645360303359856, 0.17352453104554297, 0.013451514034538214, 0.10895726367975954, 0.1708342282386353, 0.976772144645117, 0.9724412898734202, 0.9887833227788096, 0.971825485501337, 0.956705128393307, 0.9985169861843246, 0.9836921947848967, 0.14879108149423279, 0.8486602425967351, 0.9906085325414324, 0.9882488832220166, 0.03178281292358477, 0.07378153000117893, 0.16288691623337195, 0.17140016969504643, 0.01021590415400939, 0.08626763507830151, 0.013053655307900888, 0.06016032446249974, 0.044836468231485654, 0.301369172543277, 0.044836468231485654, 0.9032277563125635, 0.9697622992572091, 0.9934875824587193, 0.9864110398041942, 0.929788608654686, 0.08983826100181955, 0.8734275375176901, 0.029946087000606518, 0.07288395850330831, 0.22718084937733335, 0.20004320525376112, 0.11552882784035041, 0.022485476559531287, 0.01783330899549033, 0.1992678439930876, 0.04807239816175655, 0.03334053420896019, 0.01783330899549033, 0.024811560341551766, 0.02015939277751081, 0.40817482931915233, 0.5848475166363973, 0.9220417209801893, 0.07867735144564403, 0.2862227785350154, 0.06601662822450591, 0.010852048475261247, 0.0705383150891981, 0.14695482310249605, 0.1338419311948887, 0.061494941359813725, 0.06963397771625966, 0.023512771696399367, 0.011756385848199684, 0.017634578772299524, 0.02260843432346093, 0.9381871095755395, 0.9297886085617497, 0.9621231991023292, 0.8778225140134066, 0.07022580112107253, 0.035112900560536266, 0.09401787357256275, 0.23837602590838744, 0.28723570823743577, 0.1643462041977081, 0.0658865413225046, 0.11326562721733936, 0.037014910855339665, 0.9692605365588959, 0.9832552822660973, 0.9886527702202617, 0.9434960336231564, 0.040148767388219424, 0.9364763519381919, 0.029264885998068497, 0.054169093639864316, 0.1955372160658517, 0.04227831698721118, 0.007927184435102095, 0.06077508066911606, 0.2866998370695258, 0.13079854317918457, 0.10569579246802793, 0.03038754033455803, 0.0026423948117006986, 0.026423948117006983, 0.055490291045714665, 0.9807286875135164, 0.023265143352963407, 0.9538708774714997, 0.9624340078479918, 0.09424958463387118, 0.09817665066028247, 0.4712479231693559, 0.06283305642258079, 0.08246838655463729, 0.14922850900362936, 0.039270660264112994, 0.11308360288070175, 0.5350373449728725, 0.07088822867148467, 0.08270293345006546, 0.06076133886127258, 0.027005039493898923, 0.0489466340826918, 0.06076133886127258, 0.015138249898156101, 0.1362442490834049, 0.8477419942967417, 0.9719996346822842, 0.9982029715704933, 0.9917481334947255, 0.15372663215555546, 0.12682447152833326, 0.057647487058333294, 0.13451080313611102, 0.05380432125444441, 0.06533381866611107, 0.023058994823333318, 0.2767079378799998, 0.08070648188166661, 0.03074532643111109, 0.0896781623900643, 0.15693678418261253, 0.6651130377263103, 0.06725862179254823, 0.014946360398344051, 0.9727634294986579, 0.014537421784802166, 0.49219556614258764, 0.060226461679894684, 0.04984258897646457, 0.12045292335978937, 0.031151618110290356, 0.024921294488232285, 0.01661419632548819, 0.0353051671916624, 0.15368131601076576, 0.9868076040995765, 0.9702687506896778, 0.0239419267700651, 0.9576770708026041, 0.9821768978632854, 0.9985947554355996, 0.984404187646515, 0.9891102536764023, 0.9750556605622488, 0.9514964328074476, 0.9868076041543149, 0.037692022254425285, 0.9201287785639113, 0.04138731855387874, 0.9635887182823926, 0.9932217464157679, 0.9665472918194482, 0.9921009541023045, 0.9416112131791795, 0.9809160998732456, 0.9694767336562282, 0.9732820891753068, 0.9973024032300506, 0.985723661212972, 0.9928721475880322, 0.9684534148331613, 0.9684534148331613, 0.9969595988234642, 0.9821906491948758, 0.9895251831930352, 0.9695882568841359, 0.9987399298241466, 0.9784912631894593, 0.9979420623458848, 0.9970681541800874, 0.9301050339785389, 0.0678201587276018, 0.9611228634748528, 0.08420926057913701, 0.8926181621388523, 0.9479846559169197, 0.03129734229183894, 0.9623932754740475, 0.9965625517926829, 0.9704660027190719, 0.01521570464445023, 0.057819677648910876, 0.022823556966675346, 0.3377886431067951, 0.23736499245342357, 0.19628258991340797, 0.12020406669115681, 0.010650993251115161, 0.020446561827112478, 0.4985815460918966, 0.11638812116971718, 0.0809998410843302, 0.10537843403204124, 0.04167952987834467, 0.015728124482394214, 0.02516499917183074, 0.03538828008538698, 0.056621248136619166, 0.0031456248964788426, 0.9713314783951434, 0.9938348411915138, 0.024157086708103546, 0.9421263816160383, 0.022303302073553456, 0.9590419891627985, 0.09600914356674249, 0.3200304785558083, 0.00960091435667425, 0.3968377934092023, 0.1728164584201365, 0.12688439151238148, 0.16791287739063657, 0.4467546240076665, 0.015195735510464848, 0.06686123624604533, 0.044067632980348055, 0.020514242939127545, 0.034950191674069146, 0.02583275036779024, 0.0015195735510464847, 0.044067632980348055, 0.005318507428662697, 0.9416112131791795, 0.9416112131791795, 0.9585832515089003, 0.02875749754526701, 0.1252948843674991, 0.027238018340760676, 0.2723801834076068, 0.04902843301336922, 0.5284175558107571, 0.961122863648971, 0.9895952021854321, 0.9821906493476363, 0.0500028927738545, 0.005555876974872722, 0.4500260349646905, 0.4722495428641814, 0.016667630924618166, 0.9300800784790976, 0.43340783540405364, 0.5651427397821854, 0.15948404473973987, 0.08257869510239495, 0.2950139641826018, 0.08415462439824219, 0.06965607487644765, 0.10275059008923952, 0.11724913961103405, 0.012607434366777855, 0.016074478817641766, 0.03530081622697799, 0.02521486873355571, 0.9381871096030768, 0.9428359470690012, 0.9132618874794466, 0.10897168804455393, 0.19698728223438594, 0.07544193787699888, 0.058677062793221345, 0.12154534435738708, 0.44007797094916007, 0.2104508365598049, 0.23981606956814977, 0.053836260515298925, 0.06851887701947136, 0.08809569902503461, 0.07341308252086218, 0.26918130257649464, 0.023973778967959505, 0.9669424183743667, 0.04994467958926448, 0.1065486497904309, 0.43951318038552745, 0.05327432489521545, 0.05327432489521545, 0.02330751714165676, 0.13318581223803863, 0.03995574367141159, 0.04661503428331352, 0.05327432489521545, 0.03978545062642636, 0.10127205613999436, 0.5099771398478288, 0.34360161904640946, 0.9768608058942646, 0.8332283140646762, 0.16445295672329135, 0.04840828117143201, 0.034577343693880006, 0.6016457802735121, 0.050713437417690674, 0.036882499940138674, 0.05993406240272534, 0.03918765618639734, 0.08298562486531201, 0.041492812432656005, 0.06519397484475314, 0.046567124889109385, 0.2747460368457454, 0.18937297454904484, 0.06519397484475314, 0.14280584965993545, 0.11952228721538076, 0.006208949985214585, 0.010865662474125523, 0.048119362385413034, 0.018626849955643756, 0.013970137466732816, 0.2906006081700785, 0.04920528225987385, 0.26455075285602764, 0.021418769924886262, 0.03589091176602563, 0.05557302466997517, 0.11982933444463395, 0.06136188140643092, 0.03299648339779775, 0.0341542547450889, 0.009262170778329195, 0.006367742410101321, 0.01852434155665839, 0.0618077511441685, 0.07319338951283111, 0.32693047315731233, 0.09596466625015634, 0.022771276737325236, 0.10247074531796356, 0.02114475697037343, 0.035783434872939654, 0.08457902788149373, 0.008132598834759013, 0.027650836038180644, 0.12036246275443338, 0.017891717436469827, 0.9086747102624106, 0.061955093881528, 0.5165090031213208, 0.07925270418263651, 0.06012274110406908, 0.1503068527601727, 0.05465703736733552, 0.1393754452867056, 0.9621231990574008, 0.12391058450663288, 0.7021599788709196, 0.06195529225331644, 0.051629410211097036, 0.03097764612665822, 0.03097764612665822, 0.19806420149162038, 0.03474810552484568, 0.15984128541429013, 0.19806420149162038, 0.04864734773478395, 0.10076950602205247, 0.005212215828726852, 0.01389924220993827, 0.019111458038665124, 0.02258626859114969, 0.006949621104969135, 0.19111458038665124, 0.027059205737428628, 0.06764801434357157, 0.906483392203859, 0.15933888656930237, 0.7258771499268218, 0.04426080182480621, 0.026556481094883726, 0.04426080182480621, 0.9939137601543837, 0.9688440016373936, 0.1637979358951237, 0.15478153575410772, 0.2855193377988395, 0.06010933427343989, 0.037568333920899935, 0.07964486791230786, 0.025546467066211956, 0.027049200423047953, 0.025546467066211956, 0.027049200423047953, 0.021038266995703964, 0.09166673476699584, 0.8916498656886841, 0.9416112131791795, 0.1586461944884858, 0.0024037302195225123, 0.2187394499765486, 0.6177586664172856, 0.975718825529422, 0.9479846559786179, 0.056607047665801456, 0.8632574769034722, 0.07075880958225182, 0.9819791390986543, 0.8330670804397323, 0.1542716815629134, 0.021425264257740384, 0.2724069312769849, 0.07651880092050138, 0.058154288699581044, 0.021425264257740384, 0.021425264257740384, 0.388715508676147, 0.10100481721506181, 0.00612150407364011, 0.003060752036820055, 0.03060752036820055, 0.38044817762419963, 0.09589809435981891, 0.004716299722614045, 0.09747019426735692, 0.31913628123021703, 0.004716299722614045, 0.0314419981507603, 0.0628839963015206, 0.00314419981507603, 0.9894483697434857, 0.9754741703798585, 0.9870720559544722, 0.6869229443213196, 0.11298074742126968, 0.01807691958740315, 0.06326921855591103, 0.031634609277955514, 0.04519229896850787, 0.0361538391748063, 0.124356621747921, 0.11744792053970317, 0.12205372134518172, 0.07829861369313544, 0.050663808860264115, 0.5043351881999019, 0.01968391318625436, 0.9645117461264635, 0.9990720532923644, 0.9890296547457601, 0.9947694547886963, 0.9923198294563311, 0.9695135280755627, 0.9486811315855561, 0.1715282296972904, 0.8233355025469938, 0.016600633530835282, 0.3154120370858704, 0.0996038011850117, 0.04150158382708821, 0.5146196394558938, 0.03229523449751351, 0.16975700184590434, 0.26664270533844486, 0.19791182166424945, 0.0944014546850395, 0.07618363009669854, 0.04306031266335135, 0.024842488075010393, 0.02815481981834511, 0.05548155670085654, 0.010765078165837837, 0.18811660975183325, 0.5430536092835941, 0.007098739990635217, 0.12422794983611629, 0.007098739990635217, 0.1277773198314339, 0.04510080807249394, 0.208365733294922, 0.13891048886328133, 0.08659355149918836, 0.00811814545304891, 0.08298548685338884, 0.1614608928995283, 0.03698266261944503, 0.11816411714993412, 0.011726210098848423, 0.08659355149918836, 0.010824193937398545, 0.0027060484843496363, 0.9573336724745711, 0.9946626174010398, 0.9714225790557944, 0.9185090990834325, 0.04276616158375595, 0.6201093429644613, 0.3314377522741086, 0.1383414082524822, 0.1844552110033096, 0.10145036605182028, 0.05533656330099288, 0.5164745908092669, 0.19736718398256425, 0.4329994342474624, 0.06646037827984307, 0.04430691885322871, 0.050348771424123535, 0.06444642742287812, 0.0241674102835793, 0.07854408342163272, 0.042292967996263774, 0.9784781699817421, 0.8916498654678815, 0.09670254043338315, 0.6078445398669798, 0.008634155395837782, 0.048351270216691576, 0.23657585784595522, 0.98131353968658, 0.973221008771456, 0.07641057813109595, 0.9169269375731514, 0.9637402938078353, 0.0737592510999666, 0.08717002402723326, 0.2749208450089664, 0.1206969563453999, 0.0368796255499833, 0.08381733079541659, 0.3151531637907664, 0.9120455769693135, 0.03800189904038806, 0.03800189904038806, 0.9988423012997037, 0.9760539603856893, 0.9735725216520158, 0.024719160477953996, 0.9640472586402059, 0.9890296547835726, 0.029966075021641593, 0.11986430008656637, 0.09988691673880531, 0.7391631838671593, 0.02093431360231599, 0.2512117632277918, 0.1517737736167909, 0.08373725440926395, 0.057569362406368965, 0.4291534288474777, 0.14385827257788641, 0.07452898458854357, 0.19065554197069284, 0.2114543283674957, 0.05373019819174071, 0.03986434059387214, 0.0051996965992007135, 0.10399393198401428, 0.07626221678827713, 0.006932928798934286, 0.04853050159253999, 0.03293141179493785, 0.010399393198401427, 0.10377266294115604, 0.15758071039212584, 0.5649844982351829, 0.08839893509802182, 0.08455550313723827, 0.10271916394383315, 0.03423972131461105, 0.8445797924270726, 0.9846301467366284, 0.23823512411233394, 0.04912064414687298, 0.6115520196285685, 0.046664611939529324, 0.05648874076890392, 0.9680658708479415, 0.9785521526481592, 0.9785521526481592, 0.9934302572272264, 0.0862545860426248, 0.3658863891808117, 0.09321060104606228, 0.07373375903643734, 0.210071653103812, 0.10851383405362475, 0.059821729029562364, 0.9781864832143937, 0.10210791201843197, 0.6659211653375998, 0.008878948871167998, 0.22197372177919994, 0.9721646133021326, 0.9928721475514186, 0.15304897650672306, 0.1147867323800423, 0.7142285570313743, 0.04241026864784781, 0.06361540297177172, 0.8694105072808801, 0.9808342102588663, 0.9038366505377556, 0.0866692678597848, 0.06904820611903326, 0.9278352697245094, 0.9707880436569368, 0.9366703345368903, 0.07732923443223855, 0.31790907488809184, 0.07732923443223855, 0.11456182878850156, 0.12601801166735171, 0.2864045719712539, 0.6599646524946752, 0.03928361026754019, 0.1257075528561286, 0.10999410874911253, 0.05892541540131028, 0.9977819602726187, 0.9841006030729621, 0.23777157587271153, 0.033177429191541145, 0.5759970345753671, 0.015667119340449984, 0.03870700072346467, 0.057138905829876414, 0.040550191234105845, 0.9756956254073317, 0.9483810461672577, 0.05542066225091716, 0.859020264889216, 0.08313099337637574, 0.9220417209384578, 0.9364327808084079, 0.05852704880052549, 0.10275936941569587, 0.08695023565943497, 0.09485480253756542, 0.1976141719532613, 0.07904566878130452, 0.4426557451753053, 0.9886936629480615, 0.9896282624901972, 0.037312853412024755, 0.1931976632222615, 0.29667864335161015, 0.1247078478481894, 0.02669941955260438, 0.10397848484150898, 0.07794240490511838, 0.09817426319963847, 0.0187393441580391, 0.022387712047214854, 0.9220417207398204, 0.961283028934771, 0.9844574558323853, 0.9428359470512073, 0.9428359470953196, 0.9993066741306011, 0.9886069743586701, 0.9864595880560595, 0.007046139914686139, 0.845997318706617, 0.02999990491867436, 0.08999971475602309, 0.017999942951204616, 0.0059999809837348725, 0.9906529912221697, 0.007504946903198255, 0.9928721475061889, 0.11382280760677886, 0.013479016690276444, 0.13404133264219353, 0.5009701203219412, 0.2373804606009796, 0.7610217196005354, 0.2274317782714244, 0.9910178536846462, 0.05272174621395429, 0.28243792614618374, 0.6627876666897111, 0.9539278731989481, 0.9351759110204827, 0.01674350702349642, 0.06325324875543092, 0.1990616946126797, 0.6585779429241926, 0.03534740371627022, 0.013022727684941662, 0.014883117354219043, 0.9825103796040244, 0.972445375927329, 0.9930254191712876, 0.20333198129912336, 0.7922935823034807, 0.0072281788863236785, 0.028912715545294714, 0.1011945044085315, 0.38791226689937075, 0.28671776249083925, 0.06264421701480521, 0.12528843402961043, 0.9907520326381234, 0.26566136701051324, 0.03622655004688817, 0.20327119748531697, 0.05031465284290024, 0.16100688909728075, 0.05836499729776427, 0.05836499729776427, 0.010062930568580047, 0.14088102796012067, 0.016100688909728076, 0.05917409618562827, 0.9139110410891478, 0.026299598304723677, 0.3949638471838071, 0.14003263672880434, 0.06642573793545846, 0.014362321715774803, 0.2315924376668687, 0.030519933646021458, 0.06463044772098661, 0.055653996648627364, 0.026405263328340846, 0.6841363680524674, 0.08881770392260104, 0.03360669878152471, 0.03360669878152471, 0.10322057482896876, 0.02880574181273547, 0.9594089259442419, 0.021320198354316484, 0.9867137413633496, 0.930038846238417, 0.03251884077756703, 0.006503768155513406, 0.026015072622053624, 0.9694767336562282, 0.12044390982421058, 0.07970552856013935, 0.1611822910882818, 0.37018789931264723, 0.24088781964842115, 0.017712339680030966, 0.008856169840015483, 0.9571607884836479, 0.02225955322054995, 0.09857572171735812, 0.0420750031720431, 0.8571279217619067, 0.9788102182810583, 0.06379445088660013, 0.533139339552301, 0.11391866229750022, 0.059237704394700115, 0.05468095790280011, 0.018226985967600036, 0.027340478951400054, 0.018226985967600036, 0.03037830994600006, 0.004556746491900009, 0.044048549421700084, 0.03341614094060007, 0.957736294798321, 0.013880236156497406, 0.027760472312994812, 0.9436919472753835, 0.9977041534521339, 0.9381871095014472, 0.20960419997099194, 0.10480209998549597, 0.029111694440415548, 0.040756372216581765, 0.09606859165337131, 0.11935794720570375, 0.043667541660623324, 0.22707121663524127, 0.13100262498186996, 0.07425912988850292, 0.13978189155482904, 0.10046823455503337, 0.013104552333265221, 0.07862731399959133, 0.08299549811067973, 0.5110775409973436, 0.9870720559544722, 0.6735970876577154, 0.3235907577963535, 0.9907995054010306, 0.9574603556741015, 0.004960934485358039, 0.03472654139750627, 0.065036791605266, 0.0715404707657926, 0.7089010284973994, 0.065036791605266, 0.032518395802633, 0.0520294332842128, 0.04716390002679967, 0.848950200482394, 0.023581950013399834, 0.031442600017866446, 0.03930325002233306, 0.9798958226404388, 0.5453052619777682, 0.2710946159546619, 0.059204571300443404, 0.07478472164266535, 0.006232060136888779, 0.046740451026665845, 0.9662487732514479, 0.8078305417185428, 0.07343914015623117, 0.09791885354164155, 0.08849594180871266, 0.06033814214230408, 0.03620288528538245, 0.35398376723485064, 0.08849594180871266, 0.15285662676050368, 0.016090171237947756, 0.18101442642691226, 0.020112714047434695, 0.010214947608980923, 0.9806349704621686, 0.9566794852743224, 0.97710460589539, 0.97710460589539, 0.03711501614203941, 0.07732295029591543, 0.06804419626040557, 0.8134374371130303, 0.9930701853003049, 0.990136318797588, 0.9805757706113978, 0.9665472918784495, 0.8931718224640623, 0.060898078804367886, 0.04059871920291192, 0.9059725932926062, 0.041814119690427975, 0.041814119690427975, 0.17006311627908655, 0.8193950147992352, 0.18479911063378646, 0.12613272630560027, 0.45759779775985215, 0.0322665113805024, 0.0703996611938234, 0.04399978824613963, 0.08506625727586996, 0.9600059269241566, 0.036923304881698336, 0.9681762474605959, 0.984457455825869, 0.1267347735004559, 0.02376277003133548, 0.18218123690690535, 0.08713015678156343, 0.02376277003133548, 0.031683693375113973, 0.03960461671889247, 0.47525540062670957, 0.997083666863066, 0.9567051283363743, 0.019830035025790473, 0.9518416812379427, 0.9885898975751002, 0.7004122507834877, 0.09453416881740326, 0.06875212277629328, 0.06445511510277495, 0.01718803069407332, 0.04726708440870163, 0.34700168974079904, 0.08007731301710747, 0.017794958448246103, 0.062282354568861366, 0.39593782547347584, 0.09787227146535357, 0.9904566407773124, 0.9821768978541189, 0.1767503093773177, 0.7995847328973895, 0.01683336279783978, 0.99146266121617, 0.032424145944920144, 0.16820025708927325, 0.024318109458690108, 0.21886298512821098, 0.18846534830484835, 0.28573778613960876, 0.030397636823362634, 0.006079527364672527, 0.046609709795822706, 0.9486723751673423, 0.009313383483478281, 0.07605929844840598, 0.04656691741739141, 0.10399944889884082, 0.017074536386376852, 0.05277583973971026, 0.05122360915913055, 0.34614741946927613, 0.09158160425420311, 0.2048944366365222, 0.9939305842151932, 0.07189918935619734, 0.04793279290413156, 0.6470927042057761, 0.1997199704338815, 0.02396639645206578, 0.9610808958782554, 0.9022446050323162, 0.06940343115633202, 0.018928208497181458, 0.9813932764514315, 0.9760085657362394, 0.6810208462693383, 0.17580237384897707, 0.14337280974091332, 0.9697622992582214, 0.9517846088773286, 0.868884243405762, 0.11499938515664497, 0.973005553411327, 0.9787970768398399, 0.9624297224053505, 0.9805669676246366, 0.9968884437917207, 0.8533178432915984, 0.07973347641094458, 0.06616182085163487, 0.9431334513537143, 0.9969690169843536, 0.9064626197001266, 0.0557108908394444, 0.038301237452118025, 0.9431334514086148, 0.9431334513750607, 0.9717174926190966, 0.9957291783032833, 0.9486811316632522, 0.9005991589089332, 0.025731404540255232, 0.051462809080510465, 0.9697622992601734, 0.995266279898049, 0.9946838410514308, 0.998381020867483, 0.9775453419769101, 0.9778929841868631, 0.9686131287043925, 0.967211570182017, 0.9986232093606061, 0.9775453423124074, 0.989621449875767, 0.9578020672662969, 0.1510310041137453, 0.09034890424661549, 0.01415915663566362, 0.09203451813181353, 0.19721682456817186, 0.029329681602446072, 0.032700909372842174, 0.14664840801223036, 0.05933360875897136, 0.01753038440605972, 0.08596630814510055, 0.013484911081584401, 0.00741670109487142, 0.06337908208344668, 0.9611228634831797, 0.9875599869327237, 0.9821768837690569, 0.9758294647345355, 0.8864305390917415, 0.1003506270669896, 0.9264204254212066, 0.047508739765190086, 0.9201224616626584, 0.06238118384153617, 0.1698878911772445, 0.2960167800815624, 0.11454562359677849, 0.055342267580466016, 0.03603682540123368, 0.07336068028108285, 0.01801841270061684, 0.02831464852954075, 0.08108285715277579, 0.02960167800815624, 0.03732385487984917, 0.04118494331569564, 0.01801841270061684, 0.9767721447132474, 0.9916922664369446, 0.9925532880852863, 0.03366927514461737, 0.06733855028923474, 0.8922357913323604, 0.15542104240605187, 0.19690352703400166, 0.17643883461754642, 0.0127212952859046, 0.06305337663448368, 0.35453696862021084, 0.002212399180157322, 0.039270085447792466, 0.9926677738659633, 0.9763004577583816, 0.9865629305276095, 0.1387058024706974, 0.85920538752682, 0.9924444001016172, 0.039960246640242905, 0.14485589407088054, 0.019980123320121453, 0.6093937612637044, 0.044955277470273274, 0.034965215810212544, 0.024975154150151817, 0.07992049328048581, 0.9014648010346885, 0.07512206675289071, 0.9714116512720865, 0.0847291294446249, 0.02711332142227997, 0.09828579015576488, 0.7862863212461191, 0.9925728839899965, 0.9925869628281536, 0.06846247276136912, 0.03423123638068456, 0.8386652913267716, 0.04278904547585569, 0.9113374167311146, 0.02555151635694714, 0.05962020483287666, 0.12054865827015507, 0.08438406078910854, 0.060274329135077534, 0.09643892661612405, 0.05424689622156978, 0.5846609926102521, 0.6324180993955131, 0.16811114034564273, 0.19746387913615177, 0.0025980724069769616, 0.14549205479070984, 0.06235373776744708, 0.5845662915698163, 0.0337749412907005, 0.16627663404652554, 0.9771891143830697, 0.559775671830194, 0.22391026873207762, 0.06948939374443788, 0.13897878748887577, 0.0077210437493819865, 0.12059811986300414, 0.1507476498287552, 0.07653342222075263, 0.5403723447707686, 0.04638389225500159, 0.004638389225500159, 0.011595973063750398, 0.009276778451000318, 0.004638389225500159, 0.034787919191251196, 0.045396069319464105, 0.06878192321130926, 0.02201021542761896, 0.862525317069818, 0.9577142817090672, 0.9421208591918353, 0.987291521992998, 0.08323014127837887, 0.034271234644038355, 0.7245918181882396, 0.048958906634340514, 0.04406301597090646, 0.029375343980604308, 0.039167125307472406, 0.9951869126582732, 0.9713849849222163, 0.8340968517506427, 0.026201995342952127, 0.13974397516241135, 0.9865501026342846, 0.056732081443938105, 0.12839365800470204, 0.10152056679441555, 0.08061927363085941, 0.5822503095562069, 0.04777438437384261, 0.22304050825512317, 0.7726760464552481, 0.19178769495991602, 0.020188178416833263, 0.010094089208416632, 0.7671507798396641, 0.07038466252837483, 0.3201366908548662, 0.1180645952088868, 0.07946655446751996, 0.32467763682443873, 0.06130277058922969, 0.02270472984786285, 0.08878897618676959, 0.8911782424672059, 0.016442402997549923, 0.9606560469567966, 0.14006457460538255, 0.09979600940633507, 0.08929116631093137, 0.19609040444753556, 0.15582183924848808, 0.033265336468778356, 0.0770355160329604, 0.1733299110741609, 0.033265336468778356, 0.06904062900802194, 0.9251444287074939, 0.851085250650363, 0.08274439936878529, 0.04728251392502017, 0.04590808908345016, 0.0816143805928003, 0.5764015629366521, 0.29585212964890106, 0.9879663192988871, 0.9980969100409068, 0.01776141113101266, 0.21313693357215194, 0.19241528725263715, 0.09176729084356541, 0.00592047037700422, 0.020721646319514772, 0.45883645421782704, 0.14246492089161952, 0.8405430332605552, 0.5503270013977657, 0.21888005737411137, 0.12507431849949222, 0.043776011474822275, 0.0562834433247715, 0.9621231990996746, 0.1592600618293195, 0.07583812468062834, 0.7432136218701577, 0.01516762493612567, 0.9867536079909571, 0.14546620762588397, 0.36697156923802543, 0.4826833253040695, 0.19741019334944004, 0.6787361703924568, 0.037707565021803155, 0.0554523015026517, 0.031053288841484953, 0.007046726774610262, 0.9865417484454366, 0.9870720559544722, 0.07860574242041597, 0.12227559932064708, 0.2305768444332202, 0.08209933097243446, 0.071618565316379, 0.03493588552018488, 0.012227559932064707, 0.09782047945651766, 0.2655127299534051, 0.9732210089733344, 0.09712875096320052, 0.2581903506616723, 0.1758153340219959, 0.03934329152939768, 0.11188248528672465, 0.10819405170584362, 0.023360079345579873, 0.05163807013233446, 0.018442167904405164, 0.03934329152939768, 0.023360079345579873, 0.02581903506616723, 0.02827799078675458, 0.9697622992585387, 0.08698574504353876, 0.9085177815658493, 0.9300800785181816, 0.06846594016317063, 0.13429857493545008, 0.46872835957862974, 0.23699748518020605, 0.02633305390891178, 0.0368662754724765, 0.010533221563564713, 0.01579983234534707, 0.972445375904829, 0.03955504745345281, 0.14503517399599367, 0.07119908541621507, 0.14503517399599367, 0.5247636295491407, 0.07119908541621507, 0.9958135000081094, 0.9973331996259375, 0.9764008327283465, 0.9922899845291872, 0.9962361201465583, 0.1765999373856169, 0.10768288864976641, 0.060302417643869184, 0.6547119629905798, 0.6253374160515897, 0.04672851021044846, 0.11132380373665661, 0.08658518068406626, 0.031610462789421014, 0.015118047421027441, 0.08246207684196787, 0.9764008323147293, 0.07573325732702052, 0.9156839294994299, 0.9782402003184796, 0.9695184816278667, 0.9913050801149955, 0.9351759110475287, 0.9868364885626597, 0.28220084986342925, 0.07300176425038518, 0.3519338784011106, 0.026149885701630512, 0.15907847135158562, 0.0021791571418025425, 0.10350996423562077, 0.986411039836826, 0.9692605365991619, 0.9498604760468434, 0.974407379860598, 0.8795164407708843, 0.10554197289250611, 0.1672827059288994, 0.1656098788696104, 0.279362118901262, 0.07527721766800473, 0.10538810473520663, 0.10706093179449562, 0.01923751118182343, 0.020910338241112426, 0.037638608834002364, 0.02258316530040142, 0.9354490039651612, 0.029232781373911287, 0.1521290719981106, 0.12410529557740602, 0.2556454706133663, 0.04975650099186324, 0.07949601882608034, 0.043465449142317314, 0.08807472589364297, 0.07434879458554278, 0.06405434610446761, 0.01772932793962943, 0.02516420739818371, 0.025736121202687885, 0.9483810464568999, 0.03902604700029929, 0.2369438567875314, 0.18537372325142162, 0.3282369310203744, 0.03414779112526188, 0.07665830660773075, 0.009756511750074822, 0.010453405446508739, 0.015331661321546149, 0.03693536591099754, 0.02717885416092272, 0.9666914263647137, 0.1751231716316071, 0.2683338920161722, 0.10168442223770735, 0.22878995003484154, 0.22596538275046077, 0.9886936629485795, 0.9892370345850882, 0.9775453417504539, 0.01760353517625125, 0.15256397152751083, 0.8273661532838088, 0.9635887181822966, 0.9735616097366676, 0.9605641859248126, 0.03430586378302902, 0.007313604946704778, 0.8410645688710495, 0.05119523462693345, 0.09507686430716213, 0.9471456932405735, 0.07888991706383171, 0.5091985555938229, 0.046942760566908125, 0.03194715649692358, 0.20081069798066253, 0.046942760566908125, 0.011735690141727031, 0.017603535212590546, 0.05607051956602915, 0.9714116512932346, 0.9677892433864984, 0.11916019678724958, 0.15888026238299943, 0.1681482776886744, 0.536220885542623, 0.01721202842482494, 0.012171012773418696, 0.3042753193354674, 0.6694057025380283, 0.9732820891753068, 0.11627676956269106, 0.1744151543440366, 0.7082312327909365, 0.9934674430665404, 0.900032806635157, 0.09952285842600293, 0.948681131730465, 0.06274091690656267, 0.29801935530617263, 0.070583531519883, 0.564668252159064, 0.12213858349728411, 0.057855118498713526, 0.8164000054818464, 0.006355055226264917, 0.06875014290232045, 0.9243716692748969, 0.24021259883991022, 0.6527914899771606, 0.005501051881830005, 0.01100210376366001, 0.08618314614867008, 0.948681131697294, 0.9624297223966516, 0.9779068276378358, 0.9885898972425139, 0.009267621947046643, 0.778480243551918, 0.09267621947046643, 0.0648733536293265, 0.050971920708756537, 0.08663164773235511, 0.9125200227808072, 0.9908196271593743, 0.08521710447930844, 0.067767887847831, 0.08075335138753514, 0.12579667804088387, 0.1773327364640847, 0.20492684648595602, 0.006898527505467826, 0.005681140298620563, 0.06898527505467826, 0.015826033689014425, 0.04423173518211724, 0.05518822004374261, 0.061275156077978926, 0.9656936355805568, 0.9612830287477118, 0.08588636392929065, 0.09029079284874146, 0.04624650365423343, 0.05945979041258584, 0.04404428919450803, 0.1761771567780321, 0.03303321689588102, 0.18058158569748292, 0.06166200487231124, 0.004404428919450803, 0.05285314703340963, 0.1607616555599543, 0.9185090988838827, 0.9694767336562282, 0.12212590182359778, 0.07327554109415867, 0.03419525251060738, 0.6692499419933159, 0.053735396802383026, 0.043965324656495205, 0.9381871095289348, 0.11555470349933103, 0.07703646899955402, 0.8088829244953172, 0.03047517821160133, 0.06095035642320266, 0.23125282289979832, 0.05736504133948485, 0.08784021955108617, 0.08425490446736837, 0.03585315083717803, 0.3657021385392159, 0.02151189050230682, 0.025097205586024622, 0.961122863572588, 0.010462701845651408, 0.04185080738260563, 0.12345988177868662, 0.30132581315476054, 0.09834939734912324, 0.18414355248346478, 0.18832863322172536, 0.002092540369130282, 0.04812842848999648, 0.13423411711232977, 0.8590983495189106, 0.06983037549109997, 0.041297533892585996, 0.3709269407806815, 0.0247785203355516, 0.10286840260516876, 0.10512099536294618, 0.10136667409998382, 0.009761235283702145, 0.017269877809626872, 0.048806176418510726, 0.08634938904813436, 0.02252592757777418, 0.8527295863260744, 0.029404468494002564, 0.06468983068680564, 0.05292804328920462, 0.334529579432205, 0.45727064814474067, 0.02647356383995867, 0.09145412962894814, 0.08182737914169044, 0.004813375243628849, 0.14231074554689296, 0.12766110997588925, 0.2511366097886346, 0.05545933466165681, 0.10150104645623982, 0.13707873284296307, 0.05441293212087084, 0.06278415244715865, 0.0062784152447158655, 0.0606913473655867, 0.9694767336562282, 0.9694767336562282, 0.9855390543134921, 0.0928695305393491, 0.004643476526967455, 0.11210679043678569, 0.11011672906808535, 0.03383104326790574, 0.249421024877109, 0.08557263885411452, 0.09419623811848266, 0.12338380485942094, 0.00862359926436813, 0.02454409021397083, 0.06036519485057691, 0.1899949515647441, 0.8038247950816098, 0.9366747119512996, 0.9585331245431209, 0.01879476714790433, 0.9585331245431209, 0.01879476714790433, 0.9892370346120121, 0.6040135653735743, 0.11668443876534958, 0.12698012453876278, 0.09952496247632758, 0.04804653360926159, 0.17608318103836706, 0.28368956945070245, 0.45488155101578154, 0.08315039104589556, 0.30335408207757364, 0.6947787041131526, 0.9767406633124758, 0.16813086200605212, 0.05254089437689129, 0.05254089437689129, 0.7250643424010997, 0.16303225001998678, 0.8287472709349328, 0.08671867213360973, 0.3496902298374782, 0.08502934735178616, 0.027592304769784914, 0.19877721599457296, 0.0366020369395106, 0.018019464339451372, 0.04392244432741272, 0.005631082606078554, 0.022524330424314214, 0.01576703129701995, 0.10867989429731609, 0.7570228937376611, 0.03441013153353005, 0.2064607892011803, 0.9983080995768805, 0.9821768837104438, 0.993775607355704, 0.006462551361089566, 0.10340082177743305, 0.07108806497198522, 0.8013563687751062, 0.012925102722179132, 0.9790268314578517, 0.1250809269964433, 0.26869236169606336, 0.6022415003532455, 0.9847882857759751, 0.9484482757297926, 0.04360681727493299, 0.09910719390785507, 0.4581676833117234, 0.051990659099202655, 0.047116534808652404, 0.022745913355901162, 0.05361536719605274, 0.03574357813070182, 0.14622372871650746, 0.08448482103620432, 0.006759926372156199, 0.0811191164658744, 0.38907131786410126, 0.08938124869850975, 0.1517227919083947, 0.030795220139822686, 0.051826102186530866, 0.00976433809311451, 0.08712793990779101, 0.08262132232635355, 0.01952867618622902, 0.9771046057466481, 0.15347343435466568, 0.15172941805518084, 0.09243286387269638, 0.02616024449227256, 0.036624342289181586, 0.12382515726342345, 0.08720081497424187, 0.005232048898454512, 0.036624342289181586, 0.0034880325989696745, 0.2860186731155133, 0.985723661212972, 0.985723661212972, 0.9624340078056342, 0.9436919478650713, 0.05178243096452491, 0.017260810321508304, 0.91482294703994, 0.04337224868329197, 0.19517511907481383, 0.04337224868329197, 0.7047990411034945, 0.9774997784548382, 0.9946626173906249, 0.9773987883563028, 0.9972080761846568], \"Term\": [\"0\", \"0\", \"0\", \"0\", \"0\", \"1\", \"1\", \"1\", \"1\", \"1\", \"1\", \"1 tb\", \"1 update\", \"10\", \"10\", \"10\", \"10\", \"10\", \"10\", \"10\", \"10\", \"10\", \"10 hour\", \"10 pro\", \"100\", \"100\", \"100\", \"100\", \"100\", \"100\", \"100\", \"100x\", \"12\", \"12\", \"12\", \"12\", \"12\", \"12\", \"12\", \"12 gb\", \"12 hour\", \"12 pro\", \"12 t\", \"120hz\", \"120hz\", \"120hz\", \"120hz\", \"128\", \"128 gb\", \"13\", \"13\", \"13\", \"13\", \"13\", \"14\", \"14\", \"14\", \"14\", \"14\", \"14 pro\", \"16 gb\", \"2\", \"2\", \"2\", \"2\", \"2\", \"2\", \"2\", \"2\", \"2\", \"2\", \"2\", \"20 ultra\", \"23\", \"23\", \"23\", \"23 ultra\", \"256\", \"256 gb\", \"3\", \"3\", \"3\", \"3\", \"3\", \"3\", \"3\", \"3\", \"3\", \"3 4\", \"3 4\", \"3 4\", \"3 5\", \"3 5\", \"3 hour\", \"4\", \"4\", \"4\", \"4\", \"4\", \"4\", \"4 5\", \"4 5\", \"4 hour\", \"4a\", \"4a\", \"5\", \"5\", \"5\", \"5\", \"5\", \"5 0\", \"5 1\", \"5 g\", \"5 g\", \"5 g\", \"5 hour\", \"5 mm\", \"5 mm\", \"512\", \"512\", \"512 gb\", \"5h\", \"5x\", \"5x\", \"6\", \"6\", \"6\", \"6\", \"6\", \"6\", \"6 hour\", \"6 pro\", \"6 series\", \"60hz\", \"60hz\", \"64 gb\", \"6a\", \"7\", \"7\", \"7\", \"7\", \"7\", \"7 hour\", \"7 pro\", \"7a\", \"8\", \"8\", \"8\", \"8\", \"8\", \"8\", \"8\", \"8 gb\", \"8 gen\", \"8 hour\", \"85\", \"865\", \"9\", \"9\", \"9\", \"9\", \"9\", \"_\", \"_ _\", \"a54\", \"a54\", \"a54\", \"a54\", \"aac\", \"access\", \"access\", \"access\", \"accessibility\", \"account\", \"account\", \"account\", \"act thank\", \"action\", \"action\", \"action\", \"action\", \"action perform\", \"actually\", \"actually\", \"actually\", \"actually\", \"actually\", \"actually\", \"actually\", \"actually\", \"actually\", \"actually\", \"actually\", \"adapter\", \"adapter\", \"adapter\", \"adaptive battery\", \"adaptive battery\", \"add\", \"add\", \"add\", \"add\", \"add\", \"add\", \"add\", \"add\", \"add\", \"add\", \"add\", \"ago\", \"ago\", \"ago\", \"ago\", \"ago\", \"agree\", \"agree\", \"agree\", \"agree\", \"agree\", \"agree\", \"agree\", \"agree downvote\", \"ai\", \"airplane mode\", \"alarm\", \"algorithm\", \"amazon\", \"amazon\", \"amazon\", \"amazon\", \"amazon\", \"amazon\", \"amazon\", \"amazon com\", \"amzn\", \"amzn to\", \"android\", \"android\", \"android\", \"android 10\", \"android 11\", \"android 12\", \"android 13\", \"android 13\", \"android 14\", \"android device\", \"android phone\", \"android update\", \"android version\", \"answer\", \"answer\", \"answer\", \"answer\", \"answer\", \"answer\", \"app\", \"app\", \"app\", \"app app\", \"app details\", \"app instal\", \"app open\", \"app run\", \"app store\", \"app use\", \"app work\", \"apple\", \"apple\", \"apple\", \"apple\", \"apple\", \"apple pencil\", \"aptx\", \"aptx aptx\", \"aptx hd\", \"aspect\", \"aspect\", \"aspect\", \"aspect\", \"aspect ratio\", \"ass\", \"ass\", \"assistant\", \"assistant\", \"asus\", \"asus zenfone\", \"at\", \"at t\", \"audio\", \"audio jack\", \"authorize\", \"auto webp\", \"automatically\", \"automatically\", \"automatically\", \"automatically\", \"automatically\", \"automatically contact\", \"average person\", \"backup\", \"backup\", \"backup\", \"backup\", \"backup\", \"bad\", \"bad\", \"bad\", \"bad\", \"bad\", \"bad\", \"bad\", \"bad\", \"bad\", \"bad\", \"bad experience\", \"base\", \"base\", \"base\", \"base\", \"base\", \"base\", \"base\", \"base\", \"base\", \"base\", \"base s21\", \"base s23\", \"battery\", \"battery\", \"battery drain\", \"battery life\", \"battery life\", \"battery saver\", \"be\", \"be\", \"big\", \"big\", \"big\", \"big\", \"big\", \"big\", \"big\", \"big\", \"big\", \"big\", \"big\", \"bixby\", \"bixby routine\", \"blaster\", \"bluetooth\", \"bluetooth\", \"bluetooth\", \"bluetooth\", \"blur\", \"blurry\", \"booster\", \"boot\", \"boot\", \"bootloader\", \"bootloader\", \"bot\", \"bot\", \"bot action\", \"break\", \"break\", \"break\", \"break\", \"break\", \"break\", \"break\", \"break\", \"break rule\", \"buck\", \"buck\", \"bud\", \"bud\", \"budget\", \"budget\", \"budget\", \"budget\", \"budget\", \"budget\", \"button\", \"button\", \"button\", \"button\", \"button disagree\", \"button upvote\", \"buy\", \"buy\", \"buy\", \"buy\", \"buy\", \"buy\", \"buy\", \"buy\", \"buy\", \"buy phone\", \"buy pixel\", \"buy s23\", \"buyer\", \"c\", \"c\", \"c\", \"cable\", \"cache\", \"cache\", \"cache\", \"camera\", \"camera\", \"camera\", \"camera\", \"camera\", \"camera\", \"capture\", \"card\", \"card\", \"card slot\", \"carrier\", \"carrier\", \"carrier\", \"case\", \"case\", \"case\", \"case\", \"case\", \"case\", \"case\", \"case\", \"case\", \"change\", \"change\", \"change\", \"change\", \"change\", \"change\", \"change\", \"change\", \"charge\", \"charge\", \"charge 100\", \"charge 85\", \"charger\", \"charger\", \"charging\", \"charging\", \"charging\", \"check\", \"check\", \"check\", \"check\", \"check\", \"check\", \"check\", \"check\", \"check\", \"check\", \"chinese\", \"chinese\", \"chinese\", \"chip\", \"chip\", \"chip\", \"clear\", \"clear\", \"clear\", \"clear\", \"clear\", \"clear\", \"clear\", \"clear cache\", \"clear cache\", \"click\", \"click\", \"click\", \"co\", \"codec\", \"color palette\", \"com\", \"com message\", \"com r\", \"com store\", \"come\", \"come\", \"come\", \"come\", \"come\", \"come\", \"come\", \"come\", \"come\", \"come\", \"come\", \"come\", \"comment\", \"comment\", \"comment\", \"comment\", \"comment\", \"comment\", \"comment\", \"comment\", \"comments\", \"compact\", \"company\", \"company\", \"company\", \"company\", \"company\", \"computer\", \"computer\", \"computer\", \"concern\", \"concern\", \"concern\", \"connect\", \"connect\", \"connect\", \"connect\", \"connect phone\", \"connection\", \"connection\", \"connection\", \"contact\", \"contact\", \"contact\", \"contact moderator\", \"content\", \"content\", \"content\", \"content\", \"content\", \"content\", \"content\", \"content\", \"content break\", \"content report\", \"control\", \"control\", \"control\", \"control\", \"cool\", \"cool\", \"cool\", \"cool\", \"cool\", \"cover\", \"cover\", \"cover\", \"cover\", \"cover\", \"cover\", \"cover\", \"crater\", \"csc\", \"curved\", \"custom\", \"custom\", \"custom\", \"custom rom\", \"datum\", \"datum\", \"datum\", \"datum\", \"datum\", \"day\", \"day\", \"day\", \"day\", \"day\", \"day\", \"day\", \"day\", \"day\", \"day battery\", \"day use\", \"deal\", \"deal\", \"deal\", \"deal\", \"deal\", \"deal\", \"deal\", \"deal\", \"december\", \"december\", \"default\", \"default\", \"default\", \"default\", \"default\", \"delete\", \"delete\", \"delete\", \"detail\", \"detail\", \"detail\", \"details\", \"details id\", \"developer\", \"developer\", \"developer\", \"developer option\", \"device\", \"device\", \"device\", \"device\", \"device\", \"device\", \"device\", \"device\", \"device\", \"device\", \"device\", \"device\", \"dex\", \"dex\", \"different\", \"different\", \"different\", \"different\", \"different\", \"different\", \"different\", \"different\", \"different\", \"different\", \"different\", \"disable\", \"disable\", \"disable\", \"disagree button\", \"discord\", \"discount\", \"discount\", \"discount\", \"discuss\", \"discuss\", \"display\", \"display\", \"display\", \"display\", \"display\", \"display\", \"display\", \"display\", \"display\", \"dns\", \"downvote\", \"dp\", \"drain\", \"drain battery\", \"draw\", \"draw\", \"draw\", \"draw\", \"draw\", \"drawer\", \"drawing\", \"drive\", \"drive\", \"drive\", \"drive\", \"drive\", \"ear\", \"ecosystem\", \"ecosystem\", \"edge\", \"edge\", \"edge\", \"edge\", \"edge\", \"edge\", \"edge\", \"emf\", \"emote\", \"emote free_emotes_pack\", \"en\", \"enable\", \"enable\", \"enable\", \"enable\", \"enabled\", \"enabled s\", \"encoder\", \"encryption\", \"enhance\", \"enhance\", \"enhancement\", \"exyno\", \"exyno\", \"exyno\", \"exyno snapdragon\", \"exynos\", \"exynos\", \"exynos\", \"f4\", \"factory\", \"factory\", \"factory reset\", \"fake\", \"fast\", \"fast\", \"fast\", \"fast\", \"fast\", \"fast\", \"fast\", \"fast\", \"fast\", \"fast charging\", \"fast charging\", \"fast charging\", \"fe\", \"fe\", \"fe\", \"fe\", \"feature\", \"feature\", \"feature\", \"feature\", \"feature\", \"feature\", \"feature\", \"feature\", \"feature\", \"feature\", \"feel\", \"feel\", \"feel\", \"feel\", \"feel\", \"feel\", \"feel\", \"file\", \"file\", \"find\", \"find\", \"find\", \"find\", \"find\", \"find\", \"find\", \"find\", \"find\", \"find\", \"fine\", \"fine\", \"fine\", \"fine\", \"fine\", \"fine\", \"fine\", \"fine\", \"fine\", \"fine\", \"fingerprint\", \"fingerprint\", \"fingerprint\", \"fingerprint reader\", \"fingerprint reader\", \"firmware\", \"firmware\", \"fix\", \"fix\", \"fix\", \"fix\", \"fix\", \"fix\", \"flagship\", \"flagship\", \"flagship\", \"flagship\", \"flagship\", \"flagship\", \"flagship\", \"flat\", \"flat\", \"flat\", \"fold\", \"fold 3\", \"fold 4\", \"form factor\", \"form factor\", \"free_emotes_pack\", \"frequency\", \"frequency\", \"fucking\", \"fucking\", \"fully charge\", \"g\", \"g\", \"g\", \"g\", \"g3\", \"galaxy\", \"galaxy\", \"galaxy\", \"galaxy\", \"galaxy\", \"galaxy\", \"galaxy\", \"galaxy\", \"galaxy\", \"galaxy bud\", \"galaxy store\", \"galaxy tab\", \"galaxy watch\", \"gallery app\", \"gb\", \"gb ram\", \"gen\", \"gen\", \"gen 1\", \"gen 2\", \"get\", \"get\", \"get\", \"get\", \"get\", \"get\", \"get\", \"get\", \"get\", \"get\", \"get\", \"get like\", \"get s23\", \"get update\", \"gg\", \"gif emote\", \"glass\", \"glass\", \"glass\", \"go\", \"go\", \"go\", \"go\", \"go\", \"go\", \"go\", \"go\", \"go\", \"go\", \"go\", \"go\", \"go to\", \"go to\", \"gold\", \"good\", \"good\", \"good\", \"good\", \"good\", \"good\", \"good\", \"good\", \"good\", \"good\", \"good\", \"good\", \"good\", \"good android\", \"good condition\", \"good know\", \"good luck\", \"good luck\", \"good luck\", \"google\", \"google\", \"google\", \"google\", \"google\", \"google\", \"google\", \"google account\", \"google app\", \"google message\", \"google play\", \"google play\", \"government\", \"government\", \"great\", \"great\", \"great\", \"great\", \"great\", \"great\", \"great\", \"great\", \"great\", \"great\", \"great\", \"great\", \"gsmarena com\", \"gt\", \"gt\", \"guardian\", \"hand\", \"hand\", \"hand\", \"hand\", \"hand\", \"hand\", \"hand\", \"happen\", \"happen\", \"happen\", \"happen\", \"happen\", \"happen\", \"happen\", \"happen\", \"hd\", \"hd\", \"hd\", \"hdmi\", \"headphone\", \"headphone jack\", \"hear\", \"hear\", \"hear\", \"hear\", \"hear\", \"hear\", \"hear\", \"hear\", \"hear\", \"hear\", \"heavy\", \"heavy\", \"heavy\", \"heavy\", \"heavy\", \"heavy use\", \"help\", \"help\", \"help\", \"help\", \"help\", \"help\", \"help\", \"help\", \"help\", \"help\", \"here\", \"here https\", \"home screen\", \"home screen\", \"hotspot\", \"hour\", \"hour screen\", \"hour sot\", \"hrs\", \"hrs sot\", \"html\", \"https\", \"https\", \"https\", \"https amzn\", \"https i\", \"https ibb\", \"https imgur\", \"https meeco\", \"https play\", \"https preview\", \"https twitter\", \"https www\", \"https youtu\", \"i imgur\", \"ibb\", \"ibb co\", \"icon\", \"icon pack\", \"id\", \"id com\", \"image\", \"imessage\", \"imgur\", \"imgur com\", \"inch\", \"inch\", \"intense\", \"internal\", \"internal\", \"internal storage\", \"ios\", \"ios\", \"ipad\", \"ipad pro\", \"iphone\", \"iphone\", \"iphone\", \"iphone\", \"iphone\", \"iphone\", \"iphone\", \"iphone\", \"issue\", \"issue\", \"issue\", \"issue\", \"issue\", \"issue\", \"issue\", \"issue\", \"issue\", \"issue\", \"issue\", \"iv\", \"jack\", \"january\", \"january\", \"join\", \"join\", \"keyboard\", \"keyboard\", \"keyboard\", \"keyboard\", \"keyboard\", \"know\", \"know\", \"know\", \"know\", \"know\", \"know\", \"know\", \"know\", \"know\", \"know\", \"know\", \"know\", \"kr\", \"kr mini\", \"last\", \"last\", \"late\", \"late\", \"late\", \"late\", \"late\", \"late version\", \"launcher\", \"ldac\", \"lg\", \"lg\", \"lg\", \"lg\", \"lg\", \"lg g5\", \"life\", \"life\", \"like\", \"like\", \"like\", \"like\", \"like\", \"like\", \"like\", \"like\", \"like\", \"like\", \"like\", \"like apple\", \"like look\", \"like people\", \"link\", \"link\", \"link\", \"link\", \"link\", \"link\", \"list\", \"list\", \"list\", \"list\", \"list\", \"list\", \"list\", \"lite\", \"lite\", \"little\", \"little\", \"little\", \"little\", \"little\", \"little\", \"little\", \"little\", \"little\", \"little\", \"lock\", \"lock\", \"lock\", \"lock\", \"lock screen\", \"log\", \"log\", \"lol\", \"lol\", \"lol\", \"lol\", \"lol\", \"lol\", \"lol\", \"lol\", \"lol\", \"long\", \"long\", \"long\", \"long\", \"long\", \"long\", \"long\", \"long\", \"long\", \"long\", \"long\", \"long\", \"look\", \"look\", \"look\", \"look\", \"look\", \"look\", \"look\", \"look\", \"look\", \"look\", \"look\", \"look\", \"look\", \"lot\", \"lot\", \"lot\", \"lot\", \"lot\", \"lot\", \"lot\", \"lot\", \"lot\", \"lot\", \"lot\", \"lot\", \"lot\", \"lot people\", \"lot people\", \"love\", \"love\", \"love\", \"love\", \"love\", \"love\", \"love phone\", \"luck\", \"luck\", \"luck\", \"luck\", \"luck\", \"luck\", \"make\", \"make\", \"make\", \"make\", \"make\", \"make\", \"make\", \"make\", \"make\", \"make\", \"make\", \"make\", \"make sense\", \"make sense\", \"make sense\", \"man\", \"man\", \"man\", \"man\", \"man\", \"march\", \"march update\", \"mean\", \"mean\", \"mean\", \"mean\", \"mean\", \"mean\", \"mean\", \"mean\", \"mean\", \"mean\", \"mean\", \"mean\", \"medical\", \"meeco\", \"message\", \"message\", \"message\", \"message\", \"mic\", \"micro sd\", \"mid\", \"mid\", \"mid\", \"mid range\", \"miui\", \"miui\", \"mobile\", \"mobile\", \"mobile\", \"mobile\", \"mobile\", \"mobile\", \"mobile\", \"mobile\", \"mobile\", \"mobile\", \"mobile\", \"mode\", \"mode\", \"mode\", \"mode\", \"mode\", \"mode\", \"mode\", \"mode\", \"mode\", \"modem\", \"moderator\", \"moderator subreddit\", \"money\", \"money\", \"money\", \"money\", \"money\", \"money\", \"money\", \"month\", \"month\", \"month\", \"month\", \"month\", \"month\", \"month ago\", \"month ago\", \"moon\", \"moon photo\", \"moto\", \"moto g\", \"moto x\", \"motor\", \"motorola\", \"motorola\", \"music\", \"music\", \"music\", \"music\", \"music\", \"need\", \"need\", \"need\", \"need\", \"need\", \"need\", \"need\", \"need\", \"need\", \"need\", \"need\", \"network\", \"network\", \"network\", \"network\", \"network\", \"network\", \"new\", \"new\", \"new\", \"new\", \"new\", \"new\", \"new\", \"new\", \"new\", \"new\", \"new\", \"new\", \"new\", \"new android\", \"nexus\", \"nexus 5x\", \"node\", \"nokia\", \"nokia\", \"nokia\", \"nope\", \"nope\", \"nope\", \"nope\", \"nope\", \"not\", \"not\", \"not\", \"not\", \"not\", \"not\", \"not\", \"not\", \"not\", \"not know\", \"not like\", \"note\", \"note\", \"note\", \"note\", \"note\", \"note 10\", \"note 20\", \"note take\", \"note take\", \"note taking\", \"notice\", \"notice\", \"notice\", \"notice\", \"notice\", \"notice\", \"notice\", \"noticeable\", \"noticeable\", \"noticeable\", \"notification\", \"nova\", \"nova launcher\", \"november\", \"november\", \"object\", \"official\", \"official\", \"official\", \"official\", \"oh\", \"oh\", \"oh\", \"oh\", \"oh\", \"oh\", \"old\", \"old\", \"old\", \"old\", \"old\", \"old\", \"old\", \"old\", \"old\", \"old\", \"old\", \"old\", \"old\", \"oneplus\", \"oneplus\", \"oneplus\", \"oneplus\", \"oneplus\", \"oneui\", \"oneui\", \"oneui\", \"oneui 5\", \"open\", \"open\", \"open\", \"open\", \"open\", \"open app\", \"operating\", \"operating system\", \"optimizer\", \"option\", \"option\", \"option\", \"option\", \"option\", \"option\", \"option\", \"org\", \"os\", \"os\", \"os\", \"os\", \"os update\", \"overlay\", \"pack\", \"pack\", \"pack\", \"pair\", \"pair\", \"pair\", \"party app\", \"password\", \"password\", \"patch\", \"patch\", \"patent\", \"pause\", \"pay\", \"pay\", \"pay\", \"pay\", \"pay\", \"pay\", \"pc\", \"pc\", \"pc\", \"pc\", \"pc\", \"pen\", \"pencil\", \"people\", \"people\", \"people\", \"people\", \"people\", \"people\", \"people\", \"people buy\", \"people know\", \"people like\", \"people like\", \"people like\", \"people phone\", \"people use\", \"people use\", \"perform\", \"perform\", \"perform\", \"perform\", \"perform\", \"perform\", \"perform automatically\", \"permission\", \"phone\", \"phone\", \"phone\", \"phone\", \"phone\", \"phone\", \"phone\", \"phone\", \"phone\", \"phone\", \"phone company\", \"phone day\", \"phone number\", \"phone own\", \"phone people\", \"photo\", \"photo moon\", \"photography\", \"photography\", \"pic\", \"pic\", \"pic\", \"pic\", \"pic\", \"picture\", \"picture\", \"picture moon\", \"pixel\", \"pixel\", \"pixel\", \"pixel\", \"pixel\", \"pixel 6\", \"pixel 6\", \"pixel 6a\", \"pixel 7\", \"pixel 7\", \"pixel 7\", \"pixel 7a\", \"pixel watch\", \"play\", \"play\", \"play\", \"play\", \"play\", \"play\", \"play\", \"play google\", \"play service\", \"play store\", \"plug\", \"plug\", \"plus\", \"plus\", \"plus\", \"plus\", \"plus\", \"plus\", \"plus\", \"poco\", \"point\", \"point\", \"point\", \"point\", \"point\", \"point\", \"point\", \"point\", \"point\", \"point\", \"port\", \"port\", \"port\", \"post\", \"post\", \"post\", \"post\", \"post\", \"post\", \"post\", \"post\", \"power\", \"power\", \"power\", \"power\", \"power\", \"power\", \"power\", \"power button\", \"power button\", \"power saving\", \"press\", \"press\", \"press\", \"press\", \"preview redd\", \"price\", \"price\", \"price\", \"price\", \"price\", \"price\", \"price\", \"price range\", \"price range\", \"pro\", \"pro\", \"pro\", \"pro max\", \"problem\", \"problem\", \"problem\", \"problem\", \"problem\", \"problem\", \"problem\", \"problem\", \"problem\", \"problem\", \"problem\", \"problem\", \"processing\", \"processing\", \"processing\", \"protect battery\", \"protector\", \"qid\", \"quality\", \"quality\", \"quality\", \"quality\", \"quality\", \"quality\", \"quality\", \"quality\", \"quality\", \"question\", \"question\", \"question\", \"question\", \"question\", \"question\", \"question\", \"question concern\", \"r\", \"r\", \"r android\", \"ram\", \"ram\", \"ram\", \"range\", \"range\", \"range\", \"range\", \"range\", \"range\", \"rate\", \"rate\", \"rate\", \"rate\", \"rate\", \"rcs\", \"real\", \"real\", \"real\", \"real\", \"real\", \"real\", \"reason upgrade\", \"reasonable\", \"reasonable\", \"reasonable\", \"recommend\", \"recommend\", \"recommend\", \"recommend\", \"recommend\", \"recommend\", \"recommend\", \"recommend\", \"recommend\", \"recovery\", \"recovery\", \"recovery mode\", \"redd\", \"redd it\", \"reddit\", \"reddit\", \"reddit\", \"reddit\", \"reddit com\", \"redmi\", \"redmi note\", \"ref\", \"refresh\", \"refresh\", \"refresh\", \"refresh rate\", \"refresh rate\", \"refresh rate\", \"reminder\", \"reminder\", \"remove\", \"remove\", \"remove\", \"remove\", \"remove\", \"remove\", \"remove\", \"repair\", \"repair\", \"repair shop\", \"replace screen\", \"report\", \"report\", \"report\", \"report\", \"report\", \"report\", \"report\", \"report\", \"reset\", \"reset phone\", \"respect\", \"respect\", \"respectful\", \"result\", \"result\", \"result\", \"result\", \"result\", \"result\", \"review\", \"review\", \"review\", \"review\", \"review\", \"review\", \"rom\", \"router\", \"routine\", \"routine\", \"routine\", \"rule\", \"run\", \"run\", \"run\", \"run\", \"run\", \"run\", \"run\", \"run\", \"run\", \"run android\", \"s\", \"s\", \"s\", \"s\", \"s\", \"s\", \"s\", \"s\", \"s\", \"s\", \"s pen\", \"s10\", \"s10\", \"s10\", \"s10\", \"s10\", \"s10e\", \"s20\", \"s20\", \"s20\", \"s20 fe\", \"s20 ultra\", \"s21\", \"s21\", \"s21\", \"s21 base\", \"s21 exyno\", \"s21 fe\", \"s21 fe\", \"s21 plus\", \"s21 s22\", \"s21 s23\", \"s21 series\", \"s21 ultra\", \"s22\", \"s22\", \"s22\", \"s22 s23\", \"s22 ultra\", \"s23\", \"s23\", \"s23\", \"s23 plus\", \"s23 s23\", \"s23 series\", \"s23 ultra\", \"s23 well\", \"s24\", \"s24\", \"s24\", \"s25\", \"s6\", \"s6 lite\", \"s7\", \"s7 edge\", \"s7 fe\", \"s7 s8\", \"s7fe\", \"s8\", \"s8 plus\", \"s8 ultra\", \"s8u\", \"samsung\", \"samsung\", \"samsung\", \"samsung\", \"samsung\", \"samsung\", \"samsung\", \"samsung\", \"samsung\", \"samsung\", \"samsung\", \"samsung\", \"samsung\", \"samsung\", \"samsung apple\", \"samsung com\", \"samsung keyboard\", \"samsung message\", \"samsung note\", \"samsung note\", \"saver\", \"saver\", \"saving\", \"saving\", \"say\", \"say\", \"say\", \"say\", \"say\", \"say\", \"say\", \"say\", \"say\", \"say\", \"say\", \"say\", \"say\", \"sbc\", \"scene\", \"scene optimizer\", \"scratch\", \"scratch\", \"scratch\", \"screen\", \"screen\", \"screen\", \"screen\", \"screen\", \"screen\", \"screen\", \"screen\", \"screen protector\", \"screen size\", \"screen time\", \"sd\", \"sd\", \"sd card\", \"search\", \"search\", \"search\", \"search\", \"search\", \"search\", \"search\", \"search\", \"secure\", \"secure\", \"secure folder\", \"security\", \"security\", \"security\", \"security\", \"security patch\", \"security update\", \"select\", \"select\", \"select\", \"select\", \"send\", \"send\", \"send\", \"sense\", \"sense\", \"sense\", \"sense\", \"sense\", \"sense\", \"sensor\", \"sensor\", \"sensor\", \"series\", \"series\", \"series\", \"series\", \"series\", \"series\", \"server\", \"service\", \"service\", \"service\", \"service\", \"service\", \"set\", \"set\", \"set\", \"set\", \"set\", \"set\", \"set\", \"set\", \"set\", \"set\", \"setting\", \"setting\", \"setting\", \"setting\", \"setting app\", \"share utm_medium\", \"sharpen\", \"shit\", \"shit\", \"shit\", \"shit\", \"shit\", \"shit\", \"shit\", \"shot\", \"sidebar\", \"sim\", \"sim\", \"sim\", \"sim card\", \"size\", \"size\", \"size\", \"size\", \"size\", \"size\", \"sleep\", \"sleep\", \"slot\", \"slot\", \"slot\", \"slot\", \"small\", \"small\", \"small\", \"small\", \"small\", \"small\", \"small\", \"snapdragon\", \"snapdragon\", \"snapdragon\", \"snapdragon 8\", \"software\", \"software\", \"software\", \"software\", \"software\", \"software\", \"software\", \"software\", \"software\", \"software update\", \"software update\", \"solve\", \"solve\", \"solve\", \"sony\", \"sony\", \"sony\", \"sony\", \"sony xperia\", \"sot\", \"sound\", \"sound\", \"sound\", \"sound\", \"sound\", \"sound\", \"sound\", \"spen\", \"spen\", \"spend\", \"spend\", \"spend\", \"spend\", \"spend\", \"spend money\", \"stock\", \"stock\", \"stock\", \"stock\", \"stock android\", \"storage\", \"storage\", \"storage\", \"store\", \"store\", \"store\", \"store\", \"store\", \"subreddit\", \"subreddit\", \"subreddit message\", \"support\", \"support\", \"support\", \"support\", \"support\", \"support\", \"support\", \"support\", \"support\", \"support aptx\", \"sure\", \"sure\", \"sure\", \"sure\", \"sure\", \"sure\", \"sure\", \"sure\", \"sure\", \"sure\", \"sure\", \"sure\", \"sure\", \"swiftkey\", \"swipe\", \"swipe\", \"symmetrical\", \"system\", \"system\", \"system\", \"system\", \"system\", \"system\", \"system\", \"system\", \"system app\", \"t\", \"t\", \"t\", \"t\", \"t\", \"t\", \"t mobile\", \"tab\", \"tab s6\", \"tab s7\", \"tab s8\", \"tablet\", \"tablet\", \"tablet\", \"tablet\", \"take\", \"take\", \"take\", \"take\", \"take\", \"take\", \"take\", \"taking\", \"tap\", \"tap\", \"tasker\", \"tb\", \"tensor\", \"tensor chip\", \"texture\", \"thank\", \"thank\", \"thank\", \"thank\", \"thank\", \"thank\", \"thank\", \"thank bot\", \"thank help\", \"thank info\", \"thank try\", \"theme\", \"theme\", \"thing\", \"thing\", \"thing\", \"thing\", \"thing\", \"thing\", \"thing\", \"thing\", \"thing\", \"thing\", \"thing happen\", \"thing happen\", \"think\", \"think\", \"think\", \"think\", \"think\", \"think\", \"think\", \"think\", \"think\", \"think\", \"think\", \"think\", \"thx\", \"time\", \"time\", \"time\", \"time\", \"time\", \"time\", \"time\", \"time\", \"time\", \"time\", \"time\", \"tmobile\", \"to\", \"to\", \"to\", \"to\", \"to\", \"to r\", \"toggle\", \"tpu\", \"trade\", \"trade\", \"trade\", \"trade s21\", \"trade value\", \"train\", \"train\", \"transfer\", \"transfer\", \"transfer\", \"transfer\", \"translate google\", \"try\", \"try\", \"try\", \"try\", \"try\", \"try\", \"try\", \"try\", \"try\", \"try factory\", \"tsmc\", \"turn\", \"turn\", \"turn\", \"turn\", \"turn\", \"twitter\", \"twitter\", \"twitter\", \"twitter com\", \"ui\", \"ui\", \"ui\", \"ui 5\", \"ultra\", \"ultra\", \"ultra good\", \"unlock\", \"unlock\", \"unlock\", \"unlock\", \"unlocked\", \"unlocked\", \"unlocked\", \"update\", \"update\", \"update\", \"upgrade\", \"upgrade\", \"upgrade\", \"upgrade\", \"upgrade\", \"upgrade s21\", \"upgrade s23\", \"upvote\", \"us\", \"usage\", \"usage\", \"usage\", \"usage\", \"usage\", \"usb\", \"usb\", \"usb c\", \"use\", \"use\", \"use\", \"use\", \"use\", \"use\", \"use\", \"use\", \"use\", \"use\", \"use\", \"use\", \"use\", \"use app\", \"use battery\", \"user\", \"user\", \"user\", \"user\", \"user\", \"user\", \"user\", \"user\", \"user\", \"user\", \"user\", \"user\", \"utm_content\", \"v enabled\", \"value\", \"value\", \"value\", \"value\", \"value\", \"value\", \"vanced\", \"verizon\", \"verizon\", \"verizon\", \"version\", \"version\", \"version\", \"version\", \"version\", \"version\", \"version\", \"version\", \"version\", \"version\", \"version android\", \"wait\", \"wait\", \"wait\", \"wait\", \"wait\", \"wait\", \"wait\", \"wait\", \"wait\", \"wallpaper\", \"wallpaper\", \"want\", \"want\", \"want\", \"want\", \"want\", \"want\", \"want\", \"want\", \"want\", \"want\", \"want\", \"want\", \"warranty\", \"warranty\", \"warranty\", \"warranty\", \"watch\", \"watch\", \"watch\", \"watch\", \"watch\", \"watch\", \"way\", \"way\", \"way\", \"way\", \"way\", \"way\", \"way\", \"way\", \"way\", \"way\", \"webp\", \"webp v\", \"week ago\", \"well\", \"well\", \"well\", \"well\", \"well\", \"well\", \"well\", \"well\", \"well\", \"well\", \"well\", \"well\", \"well battery\", \"well battery\", \"western\", \"wi\", \"wi\", \"wi fi\", \"wi fi\", \"widget\", \"wifi\", \"wifi\", \"wifi\", \"wifi\", \"wifi\", \"window\", \"window\", \"window\", \"window\", \"wipe\", \"wipe\", \"wipe cache\", \"wireless\", \"wireless\", \"wireless\", \"wireless\", \"wireless charging\", \"wireless charging\", \"work\", \"work\", \"work\", \"work\", \"work\", \"work\", \"work\", \"work\", \"work\", \"work\", \"work\", \"work\", \"wow\", \"wow\", \"wow\", \"www\", \"www amazon\", \"www reddit\", \"x\", \"x\", \"x\", \"x\", \"x\", \"xaa\", \"xiaomi\", \"xiaomi\", \"xiaomi\", \"xiaomi redmi\", \"xperia\", \"xperia\", \"yeah\", \"yeah\", \"yeah\", \"yeah\", \"yeah\", \"yeah\", \"yeah\", \"yeah\", \"yeah\", \"year\", \"year\", \"year\", \"year\", \"year\", \"year\", \"year\", \"year\", \"year\", \"year\", \"year\", \"year security\", \"yes\", \"yes\", \"yes\", \"yes\", \"yes\", \"yes\", \"yes\", \"yes\", \"yes\", \"yes\", \"yes\", \"youtu\", \"youtu be\", \"youtube com\", \"yt\", \"yup\", \"yup\", \"yup\", \"z\", \"z\", \"z\", \"z\", \"z fold\", \"zenfone\", \"zenfone 9\", \"zoom\"]}, \"R\": 30, \"lambda.step\": 0.01, \"plot.opts\": {\"xlab\": \"PC1\", \"ylab\": \"PC2\"}, \"topic.order\": [3, 15, 4, 13, 12, 6, 2, 9, 10, 14, 7, 1, 8, 5, 11]};\n",
              "\n",
              "function LDAvis_load_lib(url, callback){\n",
              "  var s = document.createElement('script');\n",
              "  s.src = url;\n",
              "  s.async = true;\n",
              "  s.onreadystatechange = s.onload = callback;\n",
              "  s.onerror = function(){console.warn(\"failed to load library \" + url);};\n",
              "  document.getElementsByTagName(\"head\")[0].appendChild(s);\n",
              "}\n",
              "\n",
              "if(typeof(LDAvis) !== \"undefined\"){\n",
              "   // already loaded: just create the visualization\n",
              "   !function(LDAvis){\n",
              "       new LDAvis(\"#\" + \"ldavis_el2301401870326479683834707955\", ldavis_el2301401870326479683834707955_data);\n",
              "   }(LDAvis);\n",
              "}else if(typeof define === \"function\" && define.amd){\n",
              "   // require.js is available: use it to load d3/LDAvis\n",
              "   require.config({paths: {d3: \"https://d3js.org/d3.v5\"}});\n",
              "   require([\"d3\"], function(d3){\n",
              "      window.d3 = d3;\n",
              "      LDAvis_load_lib(\"https://cdn.jsdelivr.net/gh/bmabey/pyLDAvis@3.4.0/pyLDAvis/js/ldavis.v3.0.0.js\", function(){\n",
              "        new LDAvis(\"#\" + \"ldavis_el2301401870326479683834707955\", ldavis_el2301401870326479683834707955_data);\n",
              "      });\n",
              "    });\n",
              "}else{\n",
              "    // require.js not available: dynamically load d3 & LDAvis\n",
              "    LDAvis_load_lib(\"https://d3js.org/d3.v5.js\", function(){\n",
              "         LDAvis_load_lib(\"https://cdn.jsdelivr.net/gh/bmabey/pyLDAvis@3.4.0/pyLDAvis/js/ldavis.v3.0.0.js\", function(){\n",
              "                 new LDAvis(\"#\" + \"ldavis_el2301401870326479683834707955\", ldavis_el2301401870326479683834707955_data);\n",
              "            })\n",
              "         });\n",
              "}\n",
              "</script>"
            ]
          },
          "metadata": {},
          "execution_count": 21
        }
      ],
      "source": [
        "pyLDAvis.enable_notebook()\n",
        "\n",
        "panel = pyLDAvis.lda_model.prepare(model, train_data, cv, mds='tsne')\n",
        "panel"
      ]
    }
  ],
  "metadata": {
    "kernelspec": {
      "display_name": "Python 3 (ipykernel)",
      "language": "python",
      "name": "python3"
    },
    "language_info": {
      "codemirror_mode": {
        "name": "ipython",
        "version": 3
      },
      "file_extension": ".py",
      "mimetype": "text/x-python",
      "name": "python",
      "nbconvert_exporter": "python",
      "pygments_lexer": "ipython3",
      "version": "3.9.12"
    },
    "colab": {
      "provenance": []
    }
  },
  "nbformat": 4,
  "nbformat_minor": 5
}